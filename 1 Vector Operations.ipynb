{
 "cells": [
  {
   "cell_type": "code",
   "execution_count": 2,
   "id": "52724f18-57e8-461c-8d49-a26df437aec7",
   "metadata": {},
   "outputs": [],
   "source": [
    "import numpy as np"
   ]
  },
  {
   "cell_type": "code",
   "execution_count": 3,
   "id": "31f4ee87-578c-4af1-8c38-86172f18f352",
   "metadata": {},
   "outputs": [],
   "source": [
    "num = np.array([3,6,5,8,7,6,9,0])"
   ]
  },
  {
   "cell_type": "code",
   "execution_count": 4,
   "id": "7b51f7d5-c6ff-4be0-850e-0b23f70b4363",
   "metadata": {},
   "outputs": [
    {
     "name": "stdout",
     "output_type": "stream",
     "text": [
      "[3 6 5 8 7 6 9 0]\n"
     ]
    }
   ],
   "source": [
    "print(num)"
   ]
  },
  {
   "cell_type": "code",
   "execution_count": 5,
   "id": "d8c3bdc4-6223-4946-8e90-1a21e9adda7c",
   "metadata": {},
   "outputs": [
    {
     "data": {
      "text/plain": [
       "array([3, 6, 5, 8, 7, 6, 9, 0])"
      ]
     },
     "execution_count": 5,
     "metadata": {},
     "output_type": "execute_result"
    }
   ],
   "source": [
    "num"
   ]
  },
  {
   "cell_type": "code",
   "execution_count": 6,
   "id": "9bc10707-0ede-4d4a-a1fb-fcd236148fec",
   "metadata": {},
   "outputs": [
    {
     "data": {
      "text/plain": [
       "numpy.ndarray"
      ]
     },
     "execution_count": 6,
     "metadata": {},
     "output_type": "execute_result"
    }
   ],
   "source": [
    "type(num)"
   ]
  },
  {
   "cell_type": "code",
   "execution_count": 7,
   "id": "b481f901-7d79-4efd-8cf4-e2409874de8f",
   "metadata": {},
   "outputs": [
    {
     "data": {
      "text/plain": [
       "dtype('int64')"
      ]
     },
     "execution_count": 7,
     "metadata": {},
     "output_type": "execute_result"
    }
   ],
   "source": [
    "num.dtype"
   ]
  },
  {
   "cell_type": "code",
   "execution_count": 8,
   "id": "e7d8945b-40ec-404b-a1e8-aa5705311405",
   "metadata": {},
   "outputs": [],
   "source": [
    "x = 372365278586289573985623798565892368518950728592"
   ]
  },
  {
   "cell_type": "code",
   "execution_count": 9,
   "id": "ebfc0944-3163-4834-ad65-0220b76898c1",
   "metadata": {},
   "outputs": [
    {
     "data": {
      "text/plain": [
       "372365278586289573985623798565892368518950728592"
      ]
     },
     "execution_count": 9,
     "metadata": {},
     "output_type": "execute_result"
    }
   ],
   "source": [
    "x"
   ]
  },
  {
   "cell_type": "code",
   "execution_count": 10,
   "id": "23df4d99-d6f6-452c-972a-91d5cc1129e6",
   "metadata": {},
   "outputs": [],
   "source": [
    "num = np.array([3,6,5,8,7,6,9,0], dtype=np.int8)"
   ]
  },
  {
   "cell_type": "code",
   "execution_count": 11,
   "id": "981de4f8-1ec5-4a88-9554-8778fb68b772",
   "metadata": {},
   "outputs": [
    {
     "data": {
      "text/plain": [
       "array([3, 6, 5, 8, 7, 6, 9, 0], dtype=int8)"
      ]
     },
     "execution_count": 11,
     "metadata": {},
     "output_type": "execute_result"
    }
   ],
   "source": [
    "num"
   ]
  },
  {
   "cell_type": "code",
   "execution_count": 12,
   "id": "87b5231c-5803-4ece-b5cc-34bea1861fa3",
   "metadata": {},
   "outputs": [
    {
     "data": {
      "text/plain": [
       "dtype('int8')"
      ]
     },
     "execution_count": 12,
     "metadata": {},
     "output_type": "execute_result"
    }
   ],
   "source": [
    "num.dtype"
   ]
  },
  {
   "cell_type": "code",
   "execution_count": 13,
   "id": "6ff6f51b-30e6-4a74-89f0-6acb3fbe5272",
   "metadata": {},
   "outputs": [
    {
     "data": {
      "text/plain": [
       "array([3, 6, 5, 8, 7, 6, 9, 0], dtype=int16)"
      ]
     },
     "execution_count": 13,
     "metadata": {},
     "output_type": "execute_result"
    }
   ],
   "source": [
    "num = np.array([3,6,5,8,7,6,9,0], dtype=np.int16)\n",
    "num"
   ]
  },
  {
   "cell_type": "code",
   "execution_count": 14,
   "id": "0ecda696-d365-4d56-8a3b-2dd8ef8545d2",
   "metadata": {},
   "outputs": [
    {
     "data": {
      "text/plain": [
       "dtype('int16')"
      ]
     },
     "execution_count": 14,
     "metadata": {},
     "output_type": "execute_result"
    }
   ],
   "source": [
    "num.dtype"
   ]
  },
  {
   "cell_type": "code",
   "execution_count": 15,
   "id": "0c632e23-8a67-4f38-a9f0-5ba4cb054f94",
   "metadata": {},
   "outputs": [],
   "source": [
    "num = np.array([3, 6, 5.2, 8, 7.8, 6, 9, 0])"
   ]
  },
  {
   "cell_type": "code",
   "execution_count": 16,
   "id": "5ed091cf-4f9c-4a8c-ab81-10a2e74c85b2",
   "metadata": {},
   "outputs": [
    {
     "data": {
      "text/plain": [
       "array([3. , 6. , 5.2, 8. , 7.8, 6. , 9. , 0. ])"
      ]
     },
     "execution_count": 16,
     "metadata": {},
     "output_type": "execute_result"
    }
   ],
   "source": [
    "num"
   ]
  },
  {
   "cell_type": "code",
   "execution_count": 17,
   "id": "c50c8e42-2eda-442b-9e96-28cce748c1f7",
   "metadata": {},
   "outputs": [
    {
     "data": {
      "text/plain": [
       "dtype('float64')"
      ]
     },
     "execution_count": 17,
     "metadata": {},
     "output_type": "execute_result"
    }
   ],
   "source": [
    "num.dtype"
   ]
  },
  {
   "cell_type": "code",
   "execution_count": 18,
   "id": "dfe52d79-9a10-4ea1-9620-6b72a54700b8",
   "metadata": {},
   "outputs": [
    {
     "data": {
      "text/plain": [
       "3.0"
      ]
     },
     "execution_count": 18,
     "metadata": {},
     "output_type": "execute_result"
    }
   ],
   "source": [
    "num[0]"
   ]
  },
  {
   "cell_type": "code",
   "execution_count": 19,
   "id": "396c24ad-2b47-4569-8c5b-5ab539e072a8",
   "metadata": {},
   "outputs": [],
   "source": [
    "num = np.array([3,6,5,8,7,6,9,0, True])"
   ]
  },
  {
   "cell_type": "code",
   "execution_count": 20,
   "id": "ad75793d-fec3-4f13-b990-4b5cdfd35795",
   "metadata": {},
   "outputs": [
    {
     "data": {
      "text/plain": [
       "array([3, 6, 5, 8, 7, 6, 9, 0, 1])"
      ]
     },
     "execution_count": 20,
     "metadata": {},
     "output_type": "execute_result"
    }
   ],
   "source": [
    "num"
   ]
  },
  {
   "cell_type": "code",
   "execution_count": 21,
   "id": "f45d79c7-e9ff-413c-87b8-49b5dbedff4e",
   "metadata": {},
   "outputs": [],
   "source": [
    "num = np.array([3,6,5,8,'7',6,9,0])"
   ]
  },
  {
   "cell_type": "code",
   "execution_count": 22,
   "id": "de09527a-698c-401c-97c0-65d465c8a152",
   "metadata": {},
   "outputs": [
    {
     "data": {
      "text/plain": [
       "array(['3', '6', '5', '8', '7', '6', '9', '0'], dtype='<U21')"
      ]
     },
     "execution_count": 22,
     "metadata": {},
     "output_type": "execute_result"
    }
   ],
   "source": [
    "num"
   ]
  },
  {
   "cell_type": "code",
   "execution_count": 23,
   "id": "716b948e-4106-401d-8e66-eba43fe55127",
   "metadata": {},
   "outputs": [],
   "source": [
    "num = np.array([3,6,5,8,7,6,9,0], dtype=np.int16)"
   ]
  },
  {
   "cell_type": "code",
   "execution_count": 24,
   "id": "7b6f82c6-a15e-4e6f-9aee-a1088115ce68",
   "metadata": {},
   "outputs": [
    {
     "data": {
      "text/plain": [
       "array([3, 6, 5, 8, 7, 6, 9, 0], dtype=int16)"
      ]
     },
     "execution_count": 24,
     "metadata": {},
     "output_type": "execute_result"
    }
   ],
   "source": [
    "num"
   ]
  },
  {
   "cell_type": "code",
   "execution_count": 25,
   "id": "69e64b0c-0fc5-4b93-bc67-98a781a3e8f1",
   "metadata": {},
   "outputs": [
    {
     "data": {
      "text/plain": [
       "array([ 3,  6,  5,  8,  7, 10,  9,  0], dtype=int16)"
      ]
     },
     "execution_count": 25,
     "metadata": {},
     "output_type": "execute_result"
    }
   ],
   "source": [
    "num[5] = 10\n",
    "num"
   ]
  },
  {
   "cell_type": "markdown",
   "id": "9833fbd3-0e7e-4528-9021-dda58a270647",
   "metadata": {},
   "source": [
    "#### Array / Vector Creating Routines"
   ]
  },
  {
   "cell_type": "code",
   "execution_count": 26,
   "id": "3d599ad2-ca25-4523-ae83-1179f167fafd",
   "metadata": {},
   "outputs": [
    {
     "data": {
      "text/plain": [
       "array([0, 1, 2, 3, 4, 5, 6, 7, 8, 9])"
      ]
     },
     "execution_count": 26,
     "metadata": {},
     "output_type": "execute_result"
    }
   ],
   "source": [
    "x = np.arange(10)\n",
    "x"
   ]
  },
  {
   "cell_type": "code",
   "execution_count": 27,
   "id": "5fe029b9-5999-4e09-8366-bea5298feef2",
   "metadata": {},
   "outputs": [
    {
     "data": {
      "text/plain": [
       "array([4, 5, 6, 7, 8, 9])"
      ]
     },
     "execution_count": 27,
     "metadata": {},
     "output_type": "execute_result"
    }
   ],
   "source": [
    "np.arange(4, 10)"
   ]
  },
  {
   "cell_type": "code",
   "execution_count": 28,
   "id": "d2b86cc5-960d-4ef4-a9c2-c691291eb671",
   "metadata": {},
   "outputs": [
    {
     "data": {
      "text/plain": [
       "array([ 4,  6,  8, 10, 12, 14])"
      ]
     },
     "execution_count": 28,
     "metadata": {},
     "output_type": "execute_result"
    }
   ],
   "source": [
    "np.arange(4,15,2)"
   ]
  },
  {
   "cell_type": "code",
   "execution_count": 29,
   "id": "1738a0b1-7d43-46af-87de-ef364b312714",
   "metadata": {},
   "outputs": [
    {
     "data": {
      "text/plain": [
       "array([20, 19, 18, 17, 16, 15, 14, 13, 12, 11, 10,  9,  8,  7,  6,  5,  4,\n",
       "        3,  2,  1])"
      ]
     },
     "execution_count": 29,
     "metadata": {},
     "output_type": "execute_result"
    }
   ],
   "source": [
    "np.arange(20,0,-1)"
   ]
  },
  {
   "cell_type": "code",
   "execution_count": 30,
   "id": "027ff728-e1c3-4492-a381-d826a20eb351",
   "metadata": {},
   "outputs": [],
   "source": [
    "x = np.arange(1,10,0.25)"
   ]
  },
  {
   "cell_type": "code",
   "execution_count": 31,
   "id": "67fb11fc-7976-4614-9e89-9ba704c16af9",
   "metadata": {},
   "outputs": [
    {
     "data": {
      "text/plain": [
       "array([1.  , 1.25, 1.5 , 1.75, 2.  , 2.25, 2.5 , 2.75, 3.  , 3.25, 3.5 ,\n",
       "       3.75, 4.  , 4.25, 4.5 , 4.75, 5.  , 5.25, 5.5 , 5.75, 6.  , 6.25,\n",
       "       6.5 , 6.75, 7.  , 7.25, 7.5 , 7.75, 8.  , 8.25, 8.5 , 8.75, 9.  ,\n",
       "       9.25, 9.5 , 9.75])"
      ]
     },
     "execution_count": 31,
     "metadata": {},
     "output_type": "execute_result"
    }
   ],
   "source": [
    "x"
   ]
  },
  {
   "cell_type": "code",
   "execution_count": 32,
   "id": "15dce6e4-4447-4496-84f2-8f725670cc5c",
   "metadata": {},
   "outputs": [],
   "source": [
    "y = np.linspace(1,10,8)"
   ]
  },
  {
   "cell_type": "code",
   "execution_count": 33,
   "id": "aa150e85-20e0-4be9-9903-00b29770a5b6",
   "metadata": {},
   "outputs": [
    {
     "data": {
      "text/plain": [
       "array([ 1.        ,  2.28571429,  3.57142857,  4.85714286,  6.14285714,\n",
       "        7.42857143,  8.71428571, 10.        ])"
      ]
     },
     "execution_count": 33,
     "metadata": {},
     "output_type": "execute_result"
    }
   ],
   "source": [
    "y"
   ]
  },
  {
   "cell_type": "markdown",
   "id": "5dd83df2-ee8d-49a5-8ccb-27a7a23bb594",
   "metadata": {},
   "source": [
    "#### Vector Representation"
   ]
  },
  {
   "cell_type": "code",
   "execution_count": 34,
   "id": "a5f65382-8caa-4efd-8dd4-1077266fa290",
   "metadata": {},
   "outputs": [],
   "source": [
    "x = np.arange(10)"
   ]
  },
  {
   "cell_type": "code",
   "execution_count": 35,
   "id": "a4fe4667-e73f-460a-9edd-5614baeb5e2c",
   "metadata": {},
   "outputs": [],
   "source": [
    "import matplotlib.pyplot as plt"
   ]
  },
  {
   "cell_type": "code",
   "execution_count": 36,
   "id": "69b9f549-040b-4ee7-b376-1b776d9450a7",
   "metadata": {},
   "outputs": [
    {
     "data": {
      "text/plain": [
       "[<matplotlib.lines.Line2D at 0x7f80fe61d600>]"
      ]
     },
     "execution_count": 36,
     "metadata": {},
     "output_type": "execute_result"
    },
    {
     "data": {
      "image/png": "[encoded data removed]",
      "text/plain": [
       "<Figure size 640x480 with 1 Axes>"
      ]
     },
     "metadata": {},
     "output_type": "display_data"
    }
   ],
   "source": [
    "plt.plot(x)"
   ]
  },
  {
   "cell_type": "markdown",
   "id": "0e0b0ed7-564c-4df7-aecd-3662df54e540",
   "metadata": {},
   "source": [
    "#### Zero Vector"
   ]
  },
  {
   "cell_type": "code",
   "execution_count": 37,
   "id": "ec09c8e6-2e4c-45b0-acc5-1822a7083e0a",
   "metadata": {},
   "outputs": [],
   "source": [
    "z = np.zeros(10)"
   ]
  },
  {
   "cell_type": "code",
   "execution_count": 38,
   "id": "1b75ddd9-5e8c-4942-ac09-9d42cd326509",
   "metadata": {},
   "outputs": [
    {
     "data": {
      "text/plain": [
       "array([0., 0., 0., 0., 0., 0., 0., 0., 0., 0.])"
      ]
     },
     "execution_count": 38,
     "metadata": {},
     "output_type": "execute_result"
    }
   ],
   "source": [
    "z"
   ]
  },
  {
   "cell_type": "code",
   "execution_count": 39,
   "id": "65d0152d-7b95-4a31-ae32-a253c2d5442d",
   "metadata": {},
   "outputs": [],
   "source": [
    "z = np.zeros(10, dtype=np.int8)"
   ]
  },
  {
   "cell_type": "code",
   "execution_count": 40,
   "id": "2f1c7220-fb44-46e7-a379-a2c89d07baf8",
   "metadata": {},
   "outputs": [
    {
     "data": {
      "text/plain": [
       "array([0, 0, 0, 0, 0, 0, 0, 0, 0, 0], dtype=int8)"
      ]
     },
     "execution_count": 40,
     "metadata": {},
     "output_type": "execute_result"
    }
   ],
   "source": [
    "z"
   ]
  },
  {
   "cell_type": "code",
   "execution_count": 41,
   "id": "add8ad3f-99ef-490f-ac46-df53a5d7e506",
   "metadata": {},
   "outputs": [
    {
     "data": {
      "text/plain": [
       "[<matplotlib.lines.Line2D at 0x7f80fc51d270>]"
      ]
     },
     "execution_count": 41,
     "metadata": {},
     "output_type": "execute_result"
    },
    {
     "data": {
      "image/png": "[encoded data removed]",
      "text/plain": [
       "<Figure size 640x480 with 1 Axes>"
      ]
     },
     "metadata": {},
     "output_type": "display_data"
    }
   ],
   "source": [
    "plt.plot(z)"
   ]
  },
  {
   "cell_type": "markdown",
   "id": "40e956e6-3939-434a-9beb-59c4209523b8",
   "metadata": {},
   "source": [
    "#### Scaler operations on vector"
   ]
  },
  {
   "cell_type": "code",
   "execution_count": 42,
   "id": "db63c50f-6c57-4ffb-902e-61f73950d689",
   "metadata": {},
   "outputs": [],
   "source": [
    "num = np.array([23,12,62,87,19,25,48])"
   ]
  },
  {
   "cell_type": "code",
   "execution_count": 43,
   "id": "b6af17bc-1ca6-48ea-9f55-d17844083d82",
   "metadata": {},
   "outputs": [
    {
     "data": {
      "text/plain": [
       "array([33, 22, 72, 97, 29, 35, 58])"
      ]
     },
     "execution_count": 43,
     "metadata": {},
     "output_type": "execute_result"
    }
   ],
   "source": [
    "num + 10"
   ]
  },
  {
   "cell_type": "code",
   "execution_count": 44,
   "id": "4d02b17f-5633-44bc-932d-8787de71bf76",
   "metadata": {},
   "outputs": [
    {
     "data": {
      "text/plain": [
       "array([18,  7, 57, 82, 14, 20, 43])"
      ]
     },
     "execution_count": 44,
     "metadata": {},
     "output_type": "execute_result"
    }
   ],
   "source": [
    "num - 5"
   ]
  },
  {
   "cell_type": "code",
   "execution_count": 45,
   "id": "b4e249fa-a394-4cc2-8c6a-eb7e61d5d51f",
   "metadata": {},
   "outputs": [
    {
     "data": {
      "text/plain": [
       "array([ 529,  144, 3844, 7569,  361,  625, 2304])"
      ]
     },
     "execution_count": 45,
     "metadata": {},
     "output_type": "execute_result"
    }
   ],
   "source": [
    "num ** 2"
   ]
  },
  {
   "cell_type": "code",
   "execution_count": 46,
   "id": "08425ca0-5cca-489a-ac74-e74359a95633",
   "metadata": {},
   "outputs": [
    {
     "data": {
      "text/plain": [
       "array([11.5,  6. , 31. , 43.5,  9.5, 12.5, 24. ])"
      ]
     },
     "execution_count": 46,
     "metadata": {},
     "output_type": "execute_result"
    }
   ],
   "source": [
    "num / 2"
   ]
  },
  {
   "cell_type": "code",
   "execution_count": 47,
   "id": "aab083be-f100-4858-b498-c5373857a717",
   "metadata": {},
   "outputs": [
    {
     "data": {
      "text/plain": [
       "array([ 46,  24, 124, 174,  38,  50,  96])"
      ]
     },
     "execution_count": 47,
     "metadata": {},
     "output_type": "execute_result"
    }
   ],
   "source": [
    "num * 2"
   ]
  },
  {
   "cell_type": "code",
   "execution_count": 48,
   "id": "2d8cf770-bf83-485e-a9d3-265bb16b6b13",
   "metadata": {},
   "outputs": [
    {
     "data": {
      "text/plain": [
       "[23, 12, 62, 87, 19, 25, 48, 23, 12, 62, 87, 19, 25, 48]"
      ]
     },
     "execution_count": 48,
     "metadata": {},
     "output_type": "execute_result"
    }
   ],
   "source": [
    "[23,12,62,87,19,25,48] * 2"
   ]
  },
  {
   "cell_type": "code",
   "execution_count": 49,
   "id": "69636c9e-c7ea-4b48-a6d6-bc86a5503e9c",
   "metadata": {},
   "outputs": [
    {
     "data": {
      "text/plain": [
       "array([False, False,  True,  True, False, False,  True])"
      ]
     },
     "execution_count": 49,
     "metadata": {},
     "output_type": "execute_result"
    }
   ],
   "source": [
    "num > 30"
   ]
  },
  {
   "cell_type": "code",
   "execution_count": 50,
   "id": "86d99c99-2505-48b1-b4cf-98ad5b08c161",
   "metadata": {},
   "outputs": [
    {
     "data": {
      "text/plain": [
       "array([62, 87, 48])"
      ]
     },
     "execution_count": 50,
     "metadata": {},
     "output_type": "execute_result"
    }
   ],
   "source": [
    "num[num > 30]"
   ]
  },
  {
   "cell_type": "markdown",
   "id": "b4c1b50c-c58c-488c-bb7b-bfc6c5531cf7",
   "metadata": {},
   "source": [
    "#### Dot product of vectors"
   ]
  },
  {
   "cell_type": "code",
   "execution_count": 51,
   "id": "cff6e8bd-a791-495b-8625-2659228bf4d6",
   "metadata": {},
   "outputs": [],
   "source": [
    "x = np.array([5,3,2,6,7,8,9])\n",
    "y = np.array([4,2,1,6,5,4,7])"
   ]
  },
  {
   "cell_type": "code",
   "execution_count": 52,
   "id": "acb5041e-4349-49c4-adc6-60c5a0a3daf7",
   "metadata": {},
   "outputs": [
    {
     "data": {
      "text/plain": [
       "194"
      ]
     },
     "execution_count": 52,
     "metadata": {},
     "output_type": "execute_result"
    }
   ],
   "source": [
    "x.dot(y)"
   ]
  },
  {
   "cell_type": "code",
   "execution_count": 53,
   "id": "fd8256d2-440f-48b6-825e-b234abb14ae5",
   "metadata": {},
   "outputs": [
    {
     "data": {
      "text/plain": [
       "194"
      ]
     },
     "execution_count": 53,
     "metadata": {},
     "output_type": "execute_result"
    }
   ],
   "source": [
    "np.dot(x, y)"
   ]
  },
  {
   "cell_type": "code",
   "execution_count": 54,
   "id": "3518d19e-b406-4c69-b40f-b1ed11fd55c3",
   "metadata": {},
   "outputs": [
    {
     "data": {
      "text/plain": [
       "2"
      ]
     },
     "execution_count": 54,
     "metadata": {},
     "output_type": "execute_result"
    }
   ],
   "source": [
    "x.min()"
   ]
  },
  {
   "cell_type": "code",
   "execution_count": 55,
   "id": "da3a7a38-ccf6-462f-8498-e9b2d49f2c42",
   "metadata": {},
   "outputs": [
    {
     "data": {
      "text/plain": [
       "9"
      ]
     },
     "execution_count": 55,
     "metadata": {},
     "output_type": "execute_result"
    }
   ],
   "source": [
    "x.max()"
   ]
  },
  {
   "cell_type": "code",
   "execution_count": 56,
   "id": "c2337b19-fb58-4d81-8d5d-b7d58aba3183",
   "metadata": {},
   "outputs": [
    {
     "data": {
      "text/plain": [
       "40"
      ]
     },
     "execution_count": 56,
     "metadata": {},
     "output_type": "execute_result"
    }
   ],
   "source": [
    "x.sum()"
   ]
  },
  {
   "cell_type": "code",
   "execution_count": 57,
   "id": "9ab0c4b4-c1c9-4e81-8779-d6e58c107878",
   "metadata": {},
   "outputs": [
    {
     "data": {
      "text/plain": [
       "5.714285714285714"
      ]
     },
     "execution_count": 57,
     "metadata": {},
     "output_type": "execute_result"
    }
   ],
   "source": [
    "x.mean()"
   ]
  },
  {
   "cell_type": "markdown",
   "id": "22267f24-5a7d-4435-a7e0-f43fbd616286",
   "metadata": {},
   "source": [
    "#### Unit vector"
   ]
  },
  {
   "cell_type": "code",
   "execution_count": 58,
   "id": "685f050e-f349-47af-bc2f-387434ee33e1",
   "metadata": {},
   "outputs": [],
   "source": [
    "x = np.ones(10)"
   ]
  },
  {
   "cell_type": "code",
   "execution_count": 59,
   "id": "53c77b72-7beb-494c-8629-a0ff23c88dc8",
   "metadata": {},
   "outputs": [
    {
     "data": {
      "text/plain": [
       "array([1., 1., 1., 1., 1., 1., 1., 1., 1., 1.])"
      ]
     },
     "execution_count": 59,
     "metadata": {},
     "output_type": "execute_result"
    }
   ],
   "source": [
    "x"
   ]
  },
  {
   "cell_type": "code",
   "execution_count": 60,
   "id": "0d82dec7-eae2-4e67-99bb-6c756af062d6",
   "metadata": {},
   "outputs": [],
   "source": [
    "x = np.ones(10, dtype=np.int8)"
   ]
  },
  {
   "cell_type": "code",
   "execution_count": 61,
   "id": "105c4570-bc7e-4b37-923c-cb374eed501e",
   "metadata": {},
   "outputs": [
    {
     "data": {
      "text/plain": [
       "array([1, 1, 1, 1, 1, 1, 1, 1, 1, 1], dtype=int8)"
      ]
     },
     "execution_count": 61,
     "metadata": {},
     "output_type": "execute_result"
    }
   ],
   "source": [
    "x"
   ]
  },
  {
   "cell_type": "code",
   "execution_count": 62,
   "id": "24dcd787-8b03-4189-b27e-b2523d418892",
   "metadata": {},
   "outputs": [
    {
     "data": {
      "text/plain": [
       "[<matplotlib.lines.Line2D at 0x7f80fc58cc40>]"
      ]
     },
     "execution_count": 62,
     "metadata": {},
     "output_type": "execute_result"
    },
    {
     "data": {
      "image/png": "[encoded data removed]",
      "text/plain": [
       "<Figure size 640x480 with 1 Axes>"
      ]
     },
     "metadata": {},
     "output_type": "display_data"
    }
   ],
   "source": [
    "plt.plot(x)"
   ]
  },
  {
   "cell_type": "markdown",
   "id": "e15b08f0-2926-4c18-9ca0-5bda1014efde",
   "metadata": {},
   "source": [
    "#### Vector Operations on Vector"
   ]
  },
  {
   "cell_type": "code",
   "execution_count": 80,
   "id": "537cf943-1d5a-4e83-b185-f72a5806209c",
   "metadata": {},
   "outputs": [],
   "source": [
    "x = np.array([4,6,5,6,7,8])\n",
    "y = np.array([6,7,3,8,6,4])"
   ]
  },
  {
   "cell_type": "code",
   "execution_count": 81,
   "id": "0e3eb28b-e441-4f97-9f35-928c9be605e4",
   "metadata": {},
   "outputs": [
    {
     "data": {
      "text/plain": [
       "array([10, 13,  8, 14, 13, 12])"
      ]
     },
     "execution_count": 81,
     "metadata": {},
     "output_type": "execute_result"
    }
   ],
   "source": [
    "x + y"
   ]
  },
  {
   "cell_type": "code",
   "execution_count": 82,
   "id": "eeb90ba6-d26f-40eb-b290-7ecde2cca187",
   "metadata": {},
   "outputs": [
    {
     "data": {
      "text/plain": [
       "[4, 6, 5, 6, 7, 8, 6, 7, 3, 8, 6, 4]"
      ]
     },
     "execution_count": 82,
     "metadata": {},
     "output_type": "execute_result"
    }
   ],
   "source": [
    "[4,6,5,6,7,8] + [6,7,3,8,6,4]"
   ]
  },
  {
   "cell_type": "code",
   "execution_count": 83,
   "id": "c1934040-a41f-471a-bc6c-080dc7268607",
   "metadata": {},
   "outputs": [
    {
     "data": {
      "text/plain": [
       "array([-2, -1,  2, -2,  1,  4])"
      ]
     },
     "execution_count": 83,
     "metadata": {},
     "output_type": "execute_result"
    }
   ],
   "source": [
    "x - y"
   ]
  },
  {
   "cell_type": "code",
   "execution_count": 84,
   "id": "9ddf9901-6d55-470d-8488-17c2a35b6e5b",
   "metadata": {},
   "outputs": [
    {
     "data": {
      "text/plain": [
       "array([24, 42, 15, 48, 42, 32])"
      ]
     },
     "execution_count": 84,
     "metadata": {},
     "output_type": "execute_result"
    }
   ],
   "source": [
    "x * y"
   ]
  },
  {
   "cell_type": "code",
   "execution_count": 85,
   "id": "87527ba1-497a-40a7-ac73-acdf966a75d8",
   "metadata": {},
   "outputs": [
    {
     "data": {
      "text/plain": [
       "array([0.66666667, 0.85714286, 1.66666667, 0.75      , 1.16666667,\n",
       "       2.        ])"
      ]
     },
     "execution_count": 85,
     "metadata": {},
     "output_type": "execute_result"
    }
   ],
   "source": [
    "x / y"
   ]
  },
  {
   "cell_type": "code",
   "execution_count": 86,
   "id": "f84cc2bb-ba59-4bbf-adf5-eb951f482d76",
   "metadata": {},
   "outputs": [
    {
     "data": {
      "text/plain": [
       "array([False, False,  True, False,  True,  True])"
      ]
     },
     "execution_count": 86,
     "metadata": {},
     "output_type": "execute_result"
    }
   ],
   "source": [
    "x > y"
   ]
  },
  {
   "cell_type": "code",
   "execution_count": 87,
   "id": "c098becb-7177-49cd-8239-b98789724d86",
   "metadata": {},
   "outputs": [
    {
     "data": {
      "text/plain": [
       "array([5, 7, 8])"
      ]
     },
     "execution_count": 87,
     "metadata": {},
     "output_type": "execute_result"
    }
   ],
   "source": [
    "x[x > y]"
   ]
  },
  {
   "cell_type": "code",
   "execution_count": 88,
   "id": "65faa893-d471-4fcd-beed-a77882de3899",
   "metadata": {},
   "outputs": [
    {
     "data": {
      "text/plain": [
       "array([3, 6, 4])"
      ]
     },
     "execution_count": 88,
     "metadata": {},
     "output_type": "execute_result"
    }
   ],
   "source": [
    "y[x > y]"
   ]
  },
  {
   "cell_type": "code",
   "execution_count": 89,
   "id": "891afea7-270d-407c-ba94-c020cc72af2b",
   "metadata": {},
   "outputs": [
    {
     "data": {
      "text/plain": [
       "array([4, 6, 5, 6, 7, 8])"
      ]
     },
     "execution_count": 89,
     "metadata": {},
     "output_type": "execute_result"
    }
   ],
   "source": [
    "x"
   ]
  },
  {
   "cell_type": "markdown",
   "id": "52cfaea1-d895-4226-bf2f-7503bbb42271",
   "metadata": {},
   "source": [
    "#### Equal Vectors"
   ]
  },
  {
   "cell_type": "code",
   "execution_count": 90,
   "id": "38c38272-8435-4cda-bee8-9388dd5882d4",
   "metadata": {},
   "outputs": [],
   "source": [
    "z = x"
   ]
  },
  {
   "cell_type": "code",
   "execution_count": 91,
   "id": "d3e2e055-4d73-4571-8dd5-baf508bb974f",
   "metadata": {},
   "outputs": [
    {
     "data": {
      "text/plain": [
       "array([4, 6, 5, 6, 7, 8])"
      ]
     },
     "execution_count": 91,
     "metadata": {},
     "output_type": "execute_result"
    }
   ],
   "source": [
    "z"
   ]
  },
  {
   "cell_type": "code",
   "execution_count": 93,
   "id": "d6240bd1-299d-4df1-8fca-13f9d3957beb",
   "metadata": {},
   "outputs": [],
   "source": [
    "x[0] = 10"
   ]
  },
  {
   "cell_type": "code",
   "execution_count": 94,
   "id": "e40f815f-00e1-44b2-bea9-15010690e694",
   "metadata": {},
   "outputs": [
    {
     "data": {
      "text/plain": [
       "array([10,  6,  5,  6,  7,  8])"
      ]
     },
     "execution_count": 94,
     "metadata": {},
     "output_type": "execute_result"
    }
   ],
   "source": [
    "z"
   ]
  },
  {
   "cell_type": "code",
   "execution_count": 95,
   "id": "63a1bd71-2063-409c-b995-2b416c395c31",
   "metadata": {},
   "outputs": [
    {
     "data": {
      "text/plain": [
       "140191966354800"
      ]
     },
     "execution_count": 95,
     "metadata": {},
     "output_type": "execute_result"
    }
   ],
   "source": [
    "id(x)"
   ]
  },
  {
   "cell_type": "code",
   "execution_count": 96,
   "id": "d952f270-65f2-4355-a665-a3e30f943e60",
   "metadata": {},
   "outputs": [
    {
     "data": {
      "text/plain": [
       "140191966354800"
      ]
     },
     "execution_count": 96,
     "metadata": {},
     "output_type": "execute_result"
    }
   ],
   "source": [
    "id(z)"
   ]
  },
  {
   "cell_type": "code",
   "execution_count": 97,
   "id": "2354704e-b586-4ae8-91ae-5bd38557b982",
   "metadata": {},
   "outputs": [],
   "source": [
    "z = x.copy()"
   ]
  },
  {
   "cell_type": "code",
   "execution_count": 98,
   "id": "f2a143c8-1c8b-48b6-80ff-cb83f26ce73f",
   "metadata": {},
   "outputs": [
    {
     "data": {
      "text/plain": [
       "array([10,  6,  5,  6,  7,  8])"
      ]
     },
     "execution_count": 98,
     "metadata": {},
     "output_type": "execute_result"
    }
   ],
   "source": [
    "z"
   ]
  },
  {
   "cell_type": "code",
   "execution_count": 99,
   "id": "88a3ec8a-3de0-4d36-84cb-16e1df77b7f6",
   "metadata": {},
   "outputs": [
    {
     "data": {
      "text/plain": [
       "140191966556880"
      ]
     },
     "execution_count": 99,
     "metadata": {},
     "output_type": "execute_result"
    }
   ],
   "source": [
    "id(z)"
   ]
  },
  {
   "cell_type": "code",
   "execution_count": 100,
   "id": "2140fa0b-eaa3-451a-b318-b14448e00df2",
   "metadata": {},
   "outputs": [
    {
     "data": {
      "text/plain": [
       "array([ True,  True,  True,  True,  True,  True])"
      ]
     },
     "execution_count": 100,
     "metadata": {},
     "output_type": "execute_result"
    }
   ],
   "source": [
    "x == z"
   ]
  },
  {
   "cell_type": "code",
   "execution_count": 106,
   "id": "2ec4462a-548d-4f64-841f-18b2a85e3dea",
   "metadata": {},
   "outputs": [
    {
     "name": "stdout",
     "output_type": "stream",
     "text": [
      "Equal Vectors\n"
     ]
    }
   ],
   "source": [
    "if sum(x == z) == len(x):\n",
    "    print('Equal Vectors')\n",
    "else:\n",
    "    print('Not Equal!')"
   ]
  },
  {
   "cell_type": "markdown",
   "id": "6cb022d8-f2ef-4635-bf5f-34783dd7e0b2",
   "metadata": {},
   "source": [
    "#### Negative Vectors"
   ]
  },
  {
   "cell_type": "code",
   "execution_count": 119,
   "id": "d2134389-bf77-46e0-806f-a7982b278fdc",
   "metadata": {},
   "outputs": [],
   "source": [
    "x = np.array([4,6,5,8,7,2])\n",
    "y = np.array([2,7,8,5,6,4])\n",
    "z = np.array([6,21,24,15,18,12])"
   ]
  },
  {
   "cell_type": "code",
   "execution_count": 117,
   "id": "223ba549-e304-42ed-8576-64d3849b64a8",
   "metadata": {},
   "outputs": [
    {
     "name": "stdout",
     "output_type": "stream",
     "text": [
      "Negative Vectors\n"
     ]
    }
   ],
   "source": [
    "if sum(x == np.flip(y)) == len(x):\n",
    "    print('Negative Vectors')\n",
    "else:\n",
    "    print('Not Negative!')"
   ]
  },
  {
   "cell_type": "code",
   "execution_count": 120,
   "id": "810c0918-234a-4cc3-a5c5-12cdea428e0e",
   "metadata": {},
   "outputs": [
    {
     "data": {
      "text/plain": [
       "array([0.33333333, 0.33333333, 0.33333333, 0.33333333, 0.33333333,\n",
       "       0.33333333])"
      ]
     },
     "execution_count": 120,
     "metadata": {},
     "output_type": "execute_result"
    }
   ],
   "source": [
    "x / np.flip(z)"
   ]
  },
  {
   "cell_type": "markdown",
   "id": "e69215b0-e264-4071-b1c9-3909c26da979",
   "metadata": {},
   "source": [
    "#### Parallel Vectors"
   ]
  },
  {
   "cell_type": "code",
   "execution_count": 122,
   "id": "5c2a16c8-a223-4169-ade6-b255220e86c8",
   "metadata": {},
   "outputs": [],
   "source": [
    "x = np.arange(10)\n",
    "y = x + 5"
   ]
  },
  {
   "cell_type": "code",
   "execution_count": 123,
   "id": "b8fb8a6f-77da-41c8-870f-a381fa5c032a",
   "metadata": {},
   "outputs": [
    {
     "data": {
      "text/plain": [
       "array([0, 1, 2, 3, 4, 5, 6, 7, 8, 9])"
      ]
     },
     "execution_count": 123,
     "metadata": {},
     "output_type": "execute_result"
    }
   ],
   "source": [
    "x"
   ]
  },
  {
   "cell_type": "code",
   "execution_count": 124,
   "id": "da3866b1-1de2-49b3-abd1-e5a7a755f244",
   "metadata": {},
   "outputs": [
    {
     "data": {
      "text/plain": [
       "array([ 5,  6,  7,  8,  9, 10, 11, 12, 13, 14])"
      ]
     },
     "execution_count": 124,
     "metadata": {},
     "output_type": "execute_result"
    }
   ],
   "source": [
    "y"
   ]
  },
  {
   "cell_type": "code",
   "execution_count": 126,
   "id": "129f1c13-c4a0-4231-b969-93e22ec2c747",
   "metadata": {},
   "outputs": [
    {
     "data": {
      "text/plain": [
       "[<matplotlib.lines.Line2D at 0x7f80fc022380>]"
      ]
     },
     "execution_count": 126,
     "metadata": {},
     "output_type": "execute_result"
    },
    {
     "data": {
      "image/png": "[encoded data removed]",
      "text/plain": [
       "<Figure size 640x480 with 1 Axes>"
      ]
     },
     "metadata": {},
     "output_type": "display_data"
    }
   ],
   "source": [
    "plt.plot(x)\n",
    "plt.plot(y)"
   ]
  },
  {
   "cell_type": "markdown",
   "id": "6cda7662-f2b9-4f2e-a3b0-58b47353eb99",
   "metadata": {},
   "source": [
    "#### Orthogonal Vectors"
   ]
  },
  {
   "cell_type": "code",
   "execution_count": 128,
   "id": "817f3611-2d8d-424f-8662-e9945a5f86b1",
   "metadata": {},
   "outputs": [],
   "source": [
    "x = np.arange(1,11)"
   ]
  },
  {
   "cell_type": "code",
   "execution_count": 129,
   "id": "8497e832-d746-4389-8260-281059019d7b",
   "metadata": {},
   "outputs": [
    {
     "data": {
      "text/plain": [
       "array([ 1,  2,  3,  4,  5,  6,  7,  8,  9, 10])"
      ]
     },
     "execution_count": 129,
     "metadata": {},
     "output_type": "execute_result"
    }
   ],
   "source": [
    "x"
   ]
  },
  {
   "cell_type": "code",
   "execution_count": 130,
   "id": "74d18d27-3270-4a87-8d99-53e73acb06ba",
   "metadata": {},
   "outputs": [],
   "source": [
    "y = np.arange(10,0,-1)"
   ]
  },
  {
   "cell_type": "code",
   "execution_count": 134,
   "id": "bf0a2eec-b72a-488d-a9d5-40b0a0c749ae",
   "metadata": {},
   "outputs": [
    {
     "data": {
      "text/plain": [
       "[<matplotlib.lines.Line2D at 0x7f80fb8749a0>]"
      ]
     },
     "execution_count": 134,
     "metadata": {},
     "output_type": "execute_result"
    },
    {
     "data": {
      "image/png": "[encoded data removed]",
      "text/plain": [
       "<Figure size 500x500 with 1 Axes>"
      ]
     },
     "metadata": {},
     "output_type": "display_data"
    }
   ],
   "source": [
    "plt.figure(figsize=(5,5))\n",
    "plt.plot(x)\n",
    "plt.plot(y)"
   ]
  },
  {
   "cell_type": "markdown",
   "id": "3b44eb2f-78b6-450c-bce1-d891fe68165c",
   "metadata": {},
   "source": [
    "#### Co-initial vectors"
   ]
  },
  {
   "cell_type": "code",
   "execution_count": 143,
   "id": "6bc52b7f-5992-4ca1-8e99-ecf61f6a32ec",
   "metadata": {},
   "outputs": [],
   "source": [
    "x = np.arange(10)"
   ]
  },
  {
   "cell_type": "code",
   "execution_count": 150,
   "id": "91d12489-5cbf-48ce-adf2-3b11ab0e6be9",
   "metadata": {},
   "outputs": [],
   "source": [
    "y = x * 2"
   ]
  },
  {
   "cell_type": "code",
   "execution_count": 151,
   "id": "28b6d585-3daa-43a7-b25c-16a1d975071e",
   "metadata": {},
   "outputs": [
    {
     "data": {
      "text/plain": [
       "array([ 0,  2,  4,  6,  8, 10, 12, 14, 16, 18])"
      ]
     },
     "execution_count": 151,
     "metadata": {},
     "output_type": "execute_result"
    }
   ],
   "source": [
    "y"
   ]
  },
  {
   "cell_type": "code",
   "execution_count": 152,
   "id": "9b459c13-f4ac-44ea-b740-69965eb28ce6",
   "metadata": {},
   "outputs": [
    {
     "data": {
      "text/plain": [
       "[<matplotlib.lines.Line2D at 0x7f80fba1acb0>]"
      ]
     },
     "execution_count": 152,
     "metadata": {},
     "output_type": "execute_result"
    },
    {
     "data": {
      "image/png": "[encoded data removed]",
      "text/plain": [
       "<Figure size 640x480 with 1 Axes>"
      ]
     },
     "metadata": {},
     "output_type": "display_data"
    }
   ],
   "source": [
    "plt.plot(x)\n",
    "plt.plot(y)"
   ]
  },
  {
   "cell_type": "code",
   "execution_count": 153,
   "id": "a640368b-a7d6-4456-b0b1-382960860a07",
   "metadata": {},
   "outputs": [],
   "source": [
    "u = np.array([0,1])\n",
    "v = np.array([1,0])"
   ]
  },
  {
   "cell_type": "code",
   "execution_count": 155,
   "id": "161b4f2c-fc2b-42d4-8129-0a1bbcc9c97f",
   "metadata": {},
   "outputs": [
    {
     "data": {
      "text/plain": [
       "[<matplotlib.lines.Line2D at 0x7f80fc16a5f0>]"
      ]
     },
     "execution_count": 155,
     "metadata": {},
     "output_type": "execute_result"
    },
    {
     "data": {
      "image/png": "[encoded data removed]",
      "text/plain": [
       "<Figure size 640x480 with 1 Axes>"
      ]
     },
     "metadata": {},
     "output_type": "display_data"
    }
   ],
   "source": [
    "plt.plot(u)\n",
    "plt.plot(v)"
   ]
  },
  {
   "cell_type": "code",
   "execution_count": 156,
   "id": "9a263a40-63ff-4b98-97a2-704cb5800c8f",
   "metadata": {},
   "outputs": [
    {
     "data": {
      "text/plain": [
       "0"
      ]
     },
     "execution_count": 156,
     "metadata": {},
     "output_type": "execute_result"
    }
   ],
   "source": [
    "np.dot(u, v)"
   ]
  },
  {
   "cell_type": "code",
   "execution_count": 157,
   "id": "3120c52b-8dfc-4cd7-8d36-d74cc512828e",
   "metadata": {},
   "outputs": [
    {
     "data": {
      "text/plain": [
       "0"
      ]
     },
     "execution_count": 157,
     "metadata": {},
     "output_type": "execute_result"
    }
   ],
   "source": [
    "u.dot(v)"
   ]
  },
  {
   "cell_type": "code",
   "execution_count": 159,
   "id": "5cddc75d-aa81-430a-8c9b-12a58659570d",
   "metadata": {},
   "outputs": [
    {
     "data": {
      "text/plain": [
       "0"
      ]
     },
     "execution_count": 159,
     "metadata": {},
     "output_type": "execute_result"
    }
   ],
   "source": [
    "sum(u * v)"
   ]
  },
  {
   "cell_type": "code",
   "execution_count": 160,
   "id": "b12e5d24-2e0b-4d68-b104-bdabf14fd189",
   "metadata": {},
   "outputs": [
    {
     "data": {
      "text/plain": [
       "array([0, 1, 2, 3, 4, 5, 6, 7, 8, 9])"
      ]
     },
     "execution_count": 160,
     "metadata": {},
     "output_type": "execute_result"
    }
   ],
   "source": [
    "x"
   ]
  },
  {
   "cell_type": "code",
   "execution_count": 163,
   "id": "89bb3a96-9a58-4a01-af1d-a51c77db3df7",
   "metadata": {},
   "outputs": [],
   "source": [
    "y = x * 1.037 + 4.739"
   ]
  },
  {
   "cell_type": "code",
   "execution_count": 164,
   "id": "459a9853-6f3b-4108-bf95-f77dd9a54482",
   "metadata": {},
   "outputs": [
    {
     "data": {
      "text/plain": [
       "array([ 4.739,  5.776,  6.813,  7.85 ,  8.887,  9.924, 10.961, 11.998,\n",
       "       13.035, 14.072])"
      ]
     },
     "execution_count": 164,
     "metadata": {},
     "output_type": "execute_result"
    }
   ],
   "source": [
    "y"
   ]
  },
  {
   "cell_type": "code",
   "execution_count": 165,
   "id": "616841ac-4d0d-4d35-8129-560db20fe905",
   "metadata": {},
   "outputs": [
    {
     "data": {
      "text/plain": [
       "[<matplotlib.lines.Line2D at 0x7f80fc159d20>]"
      ]
     },
     "execution_count": 165,
     "metadata": {},
     "output_type": "execute_result"
    },
    {
     "data": {
      "image/png": "[encoded data removed]",
      "text/plain": [
       "<Figure size 640x480 with 1 Axes>"
      ]
     },
     "metadata": {},
     "output_type": "display_data"
    }
   ],
   "source": [
    "plt.plot(x, y)"
   ]
  },
  {
   "cell_type": "code",
   "execution_count": null,
   "id": "f776cd83-6cac-4699-b7d1-3650c32d5cb8",
   "metadata": {},
   "outputs": [],
   "source": []
  }
 ],
 "metadata": {
  "kernelspec": {
   "display_name": "Python 3 (ipykernel)",
   "language": "python",
   "name": "python3"
  },
  "language_info": {
   "codemirror_mode": {
    "name": "ipython",
    "version": 3
   },
   "file_extension": ".py",
   "mimetype": "text/x-python",
   "name": "python",
   "nbconvert_exporter": "python",
   "pygments_lexer": "ipython3",
   "version": "3.10.12"
  }
 },
 "nbformat": 4,
 "nbformat_minor": 5
}
