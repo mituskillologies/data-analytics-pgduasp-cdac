{
 "cells": [
  {
   "cell_type": "markdown",
   "id": "5eff8d87-5776-405d-9d78-1f9226f7d122",
   "metadata": {},
   "source": [
    "##### Import the libraries"
   ]
  },
  {
   "cell_type": "code",
   "execution_count": 5,
   "id": "6ea00444-57da-451f-b72c-62b6ad80191b",
   "metadata": {},
   "outputs": [],
   "source": [
    "import numpy as np\n",
    "import scipy.stats as stats"
   ]
  },
  {
   "cell_type": "code",
   "execution_count": 80,
   "id": "beeff405-9f39-4dce-b7ff-20ea9aa305e3",
   "metadata": {},
   "outputs": [],
   "source": [
    "# sample Data - Average population weight in kgs\n",
    "data = [78, 62, 80, 75, 61, 74, 79, 93, 77, 95, 67, 88, 54, 69]"
   ]
  },
  {
   "cell_type": "code",
   "execution_count": 81,
   "id": "b0bf92e8-256e-4ace-80c1-99f0166364a7",
   "metadata": {},
   "outputs": [],
   "source": [
    "# Define the null hypothesis (average population weight = 80)\n",
    "null_mean = 80"
   ]
  },
  {
   "cell_type": "code",
   "execution_count": 82,
   "id": "2f53431f-1831-423c-850f-d6242acf23b0",
   "metadata": {},
   "outputs": [],
   "source": [
    "# Calculate the sample mean and standard deviation\n",
    "sample_mean = np.mean(data)\n",
    "sample_std = np.std(data)"
   ]
  },
  {
   "cell_type": "code",
   "execution_count": 83,
   "id": "bc0f9cdc-3aae-4f1b-afa3-449ebaa96a64",
   "metadata": {},
   "outputs": [
    {
     "data": {
      "text/plain": [
       "75.14285714285714"
      ]
     },
     "execution_count": 83,
     "metadata": {},
     "output_type": "execute_result"
    }
   ],
   "source": [
    "sample_mean"
   ]
  },
  {
   "cell_type": "code",
   "execution_count": 84,
   "id": "f95c608d-7a74-4ce6-80c6-4a3da939d1e4",
   "metadata": {},
   "outputs": [
    {
     "data": {
      "text/plain": [
       "11.506874608915581"
      ]
     },
     "execution_count": 84,
     "metadata": {},
     "output_type": "execute_result"
    }
   ],
   "source": [
    "sample_std"
   ]
  },
  {
   "cell_type": "code",
   "execution_count": 85,
   "id": "e65388ef-e9eb-4840-a30b-c44ed00d9a39",
   "metadata": {},
   "outputs": [],
   "source": [
    "# Calculate the z-score\n",
    "z_score = (sample_mean - null_mean) / sample_std"
   ]
  },
  {
   "cell_type": "code",
   "execution_count": 86,
   "id": "bcfc0ba0-a08f-41a8-a22e-d3bf4991a215",
   "metadata": {},
   "outputs": [
    {
     "data": {
      "text/plain": [
       "-0.4221079156784696"
      ]
     },
     "execution_count": 86,
     "metadata": {},
     "output_type": "execute_result"
    }
   ],
   "source": [
    "z_score"
   ]
  },
  {
   "cell_type": "code",
   "execution_count": 87,
   "id": "cbbdc581-c3bf-40da-8dcd-416a24ff3db1",
   "metadata": {},
   "outputs": [],
   "source": [
    "# Calculate the two-tailed p-value using the z-score\n",
    "p_value = 2 * (1 - stats.norm.cdf(abs(z_score)))"
   ]
  },
  {
   "cell_type": "code",
   "execution_count": 88,
   "id": "73587564-d827-4497-abfc-c6ef3e2d136c",
   "metadata": {},
   "outputs": [
    {
     "data": {
      "text/plain": [
       "0.6729462504556214"
      ]
     },
     "execution_count": 88,
     "metadata": {},
     "output_type": "execute_result"
    }
   ],
   "source": [
    "p_value"
   ]
  },
  {
   "cell_type": "code",
   "execution_count": 89,
   "id": "bd23dfc2-76da-4a87-ace5-957b8f4562ea",
   "metadata": {},
   "outputs": [
    {
     "name": "stdout",
     "output_type": "stream",
     "text": [
      "Sample Mean: 75.14285714285714\n",
      "Sample Standard Deviation: 11.506874608915581\n",
      "z-score: -0.4221079156784696\n",
      "p-value: 0.6729462504556214\n"
     ]
    }
   ],
   "source": [
    "# Print results\n",
    "print(\"Sample Mean:\", sample_mean)\n",
    "print(\"Sample Standard Deviation:\", sample_std)\n",
    "print(\"z-score:\", z_score)\n",
    "print(\"p-value:\", p_value)"
   ]
  },
  {
   "cell_type": "code",
   "execution_count": 90,
   "id": "cf0c203d-1b03-43b9-b078-656f55390268",
   "metadata": {},
   "outputs": [],
   "source": [
    "# Define significance level (alpha) - commonly used value is 0.05 (5%)\n",
    "alpha = 0.05"
   ]
  },
  {
   "cell_type": "code",
   "execution_count": 91,
   "id": "e74d5663-ef43-4e96-b80f-efd976b9b6c1",
   "metadata": {},
   "outputs": [
    {
     "name": "stdout",
     "output_type": "stream",
     "text": [
      "Fail to reject the null hypothesis. There is not enough evidence to conclude \n",
      "  the average weight is statistically different from 80 at a significance level of 0.05\n"
     ]
    }
   ],
   "source": [
    "# Interpretation\n",
    "if p_value < alpha:\n",
    "  print('''Reject the null hypothesis. The average weight is statistically different \n",
    "  from 80 at a significance level of''', alpha)\n",
    "else:\n",
    "  print('''Fail to reject the null hypothesis. There is not enough evidence to conclude \n",
    "  the average weight is statistically different from 80 at a significance level of''', alpha)"
   ]
  },
  {
   "cell_type": "code",
   "execution_count": 92,
   "id": "58d92b80-f70c-49ab-9176-75a26cdececa",
   "metadata": {},
   "outputs": [],
   "source": [
    "from statsmodels.stats.weightstats import ztest as ztest"
   ]
  },
  {
   "cell_type": "code",
   "execution_count": 95,
   "id": "579b6162-801e-4ed8-b661-72e1544f5266",
   "metadata": {},
   "outputs": [],
   "source": [
    "#enter IQ levels for 20 patients\n",
    "data = [88, 92, 94, 94, 96, 97, 97, 97, 99, 99,\n",
    "        105, 109, 109, 109, 110, 112, 112, 113, 114, 115]"
   ]
  },
  {
   "cell_type": "code",
   "execution_count": 94,
   "id": "5dc4707b-2e4f-42b9-873d-2e52e723253b",
   "metadata": {},
   "outputs": [
    {
     "data": {
      "text/plain": [
       "(1.5976240527147705, 0.1101266701438426)"
      ]
     },
     "execution_count": 94,
     "metadata": {},
     "output_type": "execute_result"
    }
   ],
   "source": [
    "#perform one sample z-test\n",
    "ztest(data, value=100)"
   ]
  },
  {
   "cell_type": "markdown",
   "id": "f6febbed-cadf-45b1-a757-e5c755419a09",
   "metadata": {},
   "source": [
    "The test statistic for the one sample z-test is 1.5976 and the corresponding p-value is 0.1101.\n",
    "\n",
    "Since this p-value is not less than .05, we do not have sufficient evidence to reject the null hypothesis. In other words, the new drug does not significantly affect IQ level."
   ]
  },
  {
   "cell_type": "markdown",
   "id": "5a4427ad-9434-46f5-b018-5bd312a7e570",
   "metadata": {},
   "source": [
    "##### Chi-Square Test"
   ]
  },
  {
   "cell_type": "code",
   "execution_count": 117,
   "id": "96968933-a698-499e-a0d4-f26533b3db37",
   "metadata": {},
   "outputs": [],
   "source": [
    "from scipy.stats import chi2_contingency"
   ]
  },
  {
   "cell_type": "code",
   "execution_count": 121,
   "id": "72c32ca6-b30c-4f63-be44-cc682f659bcf",
   "metadata": {},
   "outputs": [],
   "source": [
    "# defining the table\n",
    "data = [[207, 282, 241], [234, 242, 232]]\n",
    "stat, p, dof, expected = chi2_contingency(data)"
   ]
  },
  {
   "cell_type": "code",
   "execution_count": 119,
   "id": "fccd6c06-0c88-4d7c-92df-5df9122e18b1",
   "metadata": {},
   "outputs": [
    {
     "data": {
      "text/plain": [
       "4.542228269825232"
      ]
     },
     "execution_count": 119,
     "metadata": {},
     "output_type": "execute_result"
    }
   ],
   "source": [
    "stat"
   ]
  },
  {
   "cell_type": "code",
   "execution_count": 122,
   "id": "f2b0d9ab-e169-43f8-9fc7-d80e0d4f737c",
   "metadata": {},
   "outputs": [
    {
     "data": {
      "text/plain": [
       "array([[223.87343533, 266.00834492, 240.11821975],\n",
       "       [217.12656467, 257.99165508, 232.88178025]])"
      ]
     },
     "execution_count": 122,
     "metadata": {},
     "output_type": "execute_result"
    }
   ],
   "source": [
    "expected"
   ]
  },
  {
   "cell_type": "code",
   "execution_count": 123,
   "id": "0c57b7c6-6710-428d-9e09-1cc9d6b4f566",
   "metadata": {},
   "outputs": [
    {
     "data": {
      "text/plain": [
       "2"
      ]
     },
     "execution_count": 123,
     "metadata": {},
     "output_type": "execute_result"
    }
   ],
   "source": [
    "dof"
   ]
  },
  {
   "cell_type": "code",
   "execution_count": 124,
   "id": "fecc6695-d591-4043-b448-e088afd8b108",
   "metadata": {},
   "outputs": [
    {
     "name": "stdout",
     "output_type": "stream",
     "text": [
      "p value is 0.1031971404730939\n",
      "Independent (H0 holds true)\n"
     ]
    }
   ],
   "source": [
    "# interpret p-value\n",
    "alpha = 0.05\n",
    "print(\"p value is \" + str(p))\n",
    "if p <= alpha:\n",
    "    print('Dependent (reject H0)')\n",
    "else:\n",
    "    print('Independent (H0 holds true)')"
   ]
  },
  {
   "cell_type": "code",
   "execution_count": 125,
   "id": "e89edf79-aec7-4574-96d2-6afe9728bed4",
   "metadata": {},
   "outputs": [],
   "source": [
    "import numpy as np"
   ]
  },
  {
   "cell_type": "code",
   "execution_count": 126,
   "id": "9b55a281-2413-472e-aa65-4d2521dfa373",
   "metadata": {},
   "outputs": [],
   "source": [
    "# defining the table\n",
    "data = np.array([[5, 10, 5], [15, 5, 0],[5, 10, 15]])\n",
    "stat, p, dof, expected = chi2_contingency(data)"
   ]
  },
  {
   "cell_type": "code",
   "execution_count": 127,
   "id": "7c63e7cd-cd5b-4af6-9989-93a0ffa7ad35",
   "metadata": {},
   "outputs": [
    {
     "data": {
      "text/plain": [
       "array([[ 5, 10,  5],\n",
       "       [15,  5,  0],\n",
       "       [ 5, 10, 15]])"
      ]
     },
     "execution_count": 127,
     "metadata": {},
     "output_type": "execute_result"
    }
   ],
   "source": [
    "data"
   ]
  },
  {
   "cell_type": "code",
   "execution_count": 128,
   "id": "b93e50f7-eb4e-4d5d-8a7b-51e5ce4321f4",
   "metadata": {},
   "outputs": [
    {
     "data": {
      "text/plain": [
       "5.540229051644113e-05"
      ]
     },
     "execution_count": 128,
     "metadata": {},
     "output_type": "execute_result"
    }
   ],
   "source": [
    "p"
   ]
  },
  {
   "cell_type": "code",
   "execution_count": 129,
   "id": "544ebc0f-ebf7-45bb-80c1-ff6ea55d29ad",
   "metadata": {},
   "outputs": [
    {
     "name": "stdout",
     "output_type": "stream",
     "text": [
      "p value is 5.540229051644113e-05\n",
      "Dependent (reject H0)\n"
     ]
    }
   ],
   "source": [
    "# interpret p-value\n",
    "alpha = 0.05\n",
    "print(\"p value is \" + str(p))\n",
    "if p <= alpha:\n",
    "    print('Dependent (reject H0)')\n",
    "else:\n",
    "    print('Independent (H0 holds true)')"
   ]
  },
  {
   "cell_type": "code",
   "execution_count": null,
   "id": "90623df0-06e0-430a-86a5-ac45e3b4e856",
   "metadata": {},
   "outputs": [],
   "source": []
  },
  {
   "cell_type": "code",
   "execution_count": null,
   "id": "7c64115b-53c7-43e1-8d31-4332f3c8c4d7",
   "metadata": {},
   "outputs": [],
   "source": []
  },
  {
   "cell_type": "markdown",
   "id": "f7dab5b0-b8bf-4a6f-8673-e86f9dd9872a",
   "metadata": {},
   "source": [
    "##### Gantt Chart"
   ]
  },
  {
   "cell_type": "code",
   "execution_count": 96,
   "id": "92bb4987-468d-423b-8875-fa68aa4a17ed",
   "metadata": {},
   "outputs": [
    {
     "data": {
      "image/png": "[encoded data removed]",
      "text/plain": [
       "<Figure size 1000x600 with 1 Axes>"
      ]
     },
     "metadata": {},
     "output_type": "display_data"
    }
   ],
   "source": [
    "# Import libraries\n",
    "import matplotlib.pyplot as plt\n",
    "\n",
    "# Define task data (replace with your actual data)\n",
    "tasks = [\"Task A\", \"Task B\", \"Task C\", \"Task D\"]\n",
    "start_dates = [0, 2, 5, 8]  # Start days (relative to some reference)\n",
    "durations = [3, 4, 1, 2]    # Durations in days\n",
    "\n",
    "# Create the figure and axis\n",
    "fig, ax = plt.subplots(figsize=(10, 6))\n",
    "\n",
    "# Set the y-axis labels (can be task names or IDs)\n",
    "ax.set_ylabel(\"Tasks\")\n",
    "ax.set_yticks(range(len(tasks)))\n",
    "ax.set_yticklabels(tasks)\n",
    "\n",
    "# Invert the y-axis to display tasks from top to bottom (optional)\n",
    "ax.invert_yaxis()\n",
    "\n",
    "# Set the x-axis label (can be days or any relevant unit)\n",
    "ax.set_xlabel(\"Days\")\n",
    "\n",
    "# Create Gantt bars\n",
    "for i, task in enumerate(tasks):\n",
    "  start_day = start_dates[i]\n",
    "  duration = durations[i]\n",
    "  ax.barh(i, duration, left=start_day, color='skyblue')\n",
    "\n",
    "  # Add task labels above the bars (optional)\n",
    "  ax.text(start_day + duration/2, i, task, ha='center', va='center')\n",
    "\n",
    "# Set limits for the x-axis (adjust based on your data)\n",
    "ax.set_xlim(min(start_dates) - 1, max(start_dates + durations) + 1)\n",
    "\n",
    "# Add grid lines\n",
    "ax.grid(axis='x', linestyle='--', alpha=0.6)\n",
    "\n",
    "# Add a title (optional)\n",
    "ax.set_title(\"Gantt Chart\")\n",
    "\n",
    "# Display the chart\n",
    "plt.show()"
   ]
  },
  {
   "cell_type": "code",
   "execution_count": null,
   "id": "297bf5e0-9e30-470d-a692-b38815a7b810",
   "metadata": {},
   "outputs": [],
   "source": []
  },
  {
   "cell_type": "code",
   "execution_count": null,
   "id": "0e890702-4345-40d1-bcce-313faf862358",
   "metadata": {},
   "outputs": [],
   "source": []
  },
  {
   "cell_type": "code",
   "execution_count": 101,
   "id": "05bb34c8-62bc-423e-9157-d94b8f2cb380",
   "metadata": {},
   "outputs": [],
   "source": [
    "import numpy as np\n",
    "import matplotlib.pyplot as plt\n",
    "\n",
    "# Define the function to optimize\n",
    "def f(x):\n",
    "  return x**2 - 4*x + 2\n",
    "\n",
    "# Define the learning rate\n",
    "learning_rate = 0.1\n",
    "\n",
    "# Set initial guess for x\n",
    "x = 5\n",
    "\n",
    "# Initialize lists to store x values and corresponding function values\n",
    "x_history = [x]\n",
    "f_history = [f(x)]\n",
    "\n",
    "# Perform gradient descent for a certain number of iterations\n",
    "for i in range(100):\n",
    "  # Calculate the derivative (slope) of the function at the current x\n",
    "  slope = 2*x - 4\n",
    "\n",
    "  # Update x using the gradient descent formula: x_new = x_old - learning_rate * slope\n",
    "  x = x - learning_rate * slope\n",
    "\n",
    "  # Update history lists\n",
    "  x_history.append(x)\n",
    "  f_history.append(f(x))"
   ]
  },
  {
   "cell_type": "code",
   "execution_count": 102,
   "id": "20e162de-917a-4ad7-a23f-8426918a17b1",
   "metadata": {},
   "outputs": [
    {
     "data": {
      "image/png": "[encoded data removed]",
      "text/plain": [
       "<Figure size 640x480 with 1 Axes>"
      ]
     },
     "metadata": {},
     "output_type": "display_data"
    }
   ],
   "source": [
    "# Plot the function and the path taken by gradient descent\n",
    "plt.plot(np.arange(-1, 7, 0.1), f(np.arange(-1, 7, 0.1)), label='Function')\n",
    "plt.plot(x_history, f_history, marker='o', color='red', label='Gradient Descent Path')\n",
    "\n",
    "# Label the plot\n",
    "plt.xlabel('x')\n",
    "plt.ylabel('f(x)')\n",
    "plt.title('Gradient Descent Visualization')\n",
    "plt.legend()\n",
    "plt.grid(True)\n",
    "\n",
    "# Show the plot\n",
    "plt.show()"
   ]
  },
  {
   "cell_type": "markdown",
   "id": "8fafa931-6189-4f0e-bdd5-0a3a369caf99",
   "metadata": {},
   "source": [
    "##### Convex Function"
   ]
  },
  {
   "cell_type": "code",
   "execution_count": 104,
   "id": "cdfbe633-c435-4694-bbd2-7cca86ab1c72",
   "metadata": {},
   "outputs": [
    {
     "data": {
      "image/png": "[encoded data removed]",
      "text/plain": [
       "<Figure size 640x480 with 1 Axes>"
      ]
     },
     "metadata": {},
     "output_type": "display_data"
    }
   ],
   "source": [
    "import numpy as np\n",
    "import matplotlib.pyplot as plt\n",
    "\n",
    "# Define a convex function (quadratic with non-negative leading coefficient)\n",
    "def f(x):\n",
    "  return x**2 + 2*x + 1  # This function satisfies f''(x) >= 0 for all x\n",
    "\n",
    "# Sample x values for plotting the function\n",
    "x = np.arange(-2, 5, 0.1)\n",
    "\n",
    "# Calculate function values for the sample x values\n",
    "y = f(x)\n",
    "\n",
    "# Plot the function\n",
    "plt.plot(x, y, label='Convex Function')\n",
    "\n",
    "# Optional: Plot the line segment property (illustrative)\n",
    "def line(x1, x2):\n",
    "  # Linear equation for the line connecting (x1, f(x1)) and (x2, f(x2))\n",
    "  m = (f(x2) - f(x1)) / (x2 - x1)\n",
    "  c = f(x1) - m * x1\n",
    "  return m * x + c\n",
    "\n",
    "# Choose two points on the curve (modify these values as desired)\n",
    "x1_point = -1\n",
    "x2_point = 3\n",
    "\n",
    "# Get function values at the chosen points\n",
    "y1 = f(x1_point)\n",
    "y2 = f(x2_point)\n",
    "\n",
    "# Plot the line segment connecting the two points\n",
    "plt.plot([x1_point, x2_point], [y1, y2], 'r--', label='Line Segment')\n",
    "\n",
    "# Label the plot and add a legend\n",
    "plt.xlabel('x')\n",
    "plt.ylabel('f(x)')\n",
    "plt.title('Convex Function and Line Segment Property')\n",
    "plt.legend()\n",
    "plt.grid(True)\n",
    "\n",
    "# Show the plot\n",
    "plt.show()\n"
   ]
  },
  {
   "cell_type": "markdown",
   "id": "e4daa710-7dc0-484f-9494-b4a48ad1c649",
   "metadata": {},
   "source": [
    "##### Batch GD"
   ]
  },
  {
   "cell_type": "code",
   "execution_count": 112,
   "id": "32ca1a2d-ebde-4611-8473-8d0e576a4cfe",
   "metadata": {},
   "outputs": [
    {
     "name": "stdout",
     "output_type": "stream",
     "text": [
      "Epoch: 1, Loss: 17.2000\n",
      "Epoch: 2, Loss: 10.4902\n",
      "Epoch: 3, Loss: 6.5782\n",
      "Epoch: 4, Loss: 4.2967\n",
      "Epoch: 5, Loss: 2.9654\n",
      "Epoch: 6, Loss: 2.1879\n",
      "Epoch: 7, Loss: 1.7330\n",
      "Epoch: 8, Loss: 1.4661\n",
      "Epoch: 9, Loss: 1.3089\n",
      "Epoch: 10, Loss: 1.2156\n",
      "Epoch: 11, Loss: 1.1595\n",
      "Epoch: 12, Loss: 1.1251\n",
      "Epoch: 13, Loss: 1.1034\n",
      "Epoch: 14, Loss: 1.0890\n",
      "Epoch: 15, Loss: 1.0790\n",
      "Epoch: 16, Loss: 1.0716\n",
      "Epoch: 17, Loss: 1.0656\n",
      "Epoch: 18, Loss: 1.0604\n",
      "Epoch: 19, Loss: 1.0558\n",
      "Epoch: 20, Loss: 1.0516\n",
      "Epoch: 21, Loss: 1.0475\n",
      "Epoch: 22, Loss: 1.0435\n",
      "Epoch: 23, Loss: 1.0396\n",
      "Epoch: 24, Loss: 1.0358\n",
      "Epoch: 25, Loss: 1.0320\n",
      "Epoch: 26, Loss: 1.0283\n",
      "Epoch: 27, Loss: 1.0246\n",
      "Epoch: 28, Loss: 1.0209\n",
      "Epoch: 29, Loss: 1.0172\n",
      "Epoch: 30, Loss: 1.0136\n",
      "Epoch: 31, Loss: 1.0100\n",
      "Epoch: 32, Loss: 1.0064\n",
      "Epoch: 33, Loss: 1.0029\n",
      "Epoch: 34, Loss: 0.9993\n",
      "Epoch: 35, Loss: 0.9958\n",
      "Epoch: 36, Loss: 0.9924\n",
      "Epoch: 37, Loss: 0.9889\n",
      "Epoch: 38, Loss: 0.9855\n",
      "Epoch: 39, Loss: 0.9820\n",
      "Epoch: 40, Loss: 0.9787\n",
      "Epoch: 41, Loss: 0.9753\n",
      "Epoch: 42, Loss: 0.9719\n",
      "Epoch: 43, Loss: 0.9686\n",
      "Epoch: 44, Loss: 0.9653\n",
      "Epoch: 45, Loss: 0.9621\n",
      "Epoch: 46, Loss: 0.9588\n",
      "Epoch: 47, Loss: 0.9556\n",
      "Epoch: 48, Loss: 0.9524\n",
      "Epoch: 49, Loss: 0.9492\n",
      "Epoch: 50, Loss: 0.9460\n",
      "Epoch: 51, Loss: 0.9429\n",
      "Epoch: 52, Loss: 0.9397\n",
      "Epoch: 53, Loss: 0.9366\n",
      "Epoch: 54, Loss: 0.9335\n",
      "Epoch: 55, Loss: 0.9305\n",
      "Epoch: 56, Loss: 0.9274\n",
      "Epoch: 57, Loss: 0.9244\n",
      "Epoch: 58, Loss: 0.9214\n",
      "Epoch: 59, Loss: 0.9184\n",
      "Epoch: 60, Loss: 0.9155\n",
      "Epoch: 61, Loss: 0.9125\n",
      "Epoch: 62, Loss: 0.9096\n",
      "Epoch: 63, Loss: 0.9067\n",
      "Epoch: 64, Loss: 0.9038\n",
      "Epoch: 65, Loss: 0.9010\n",
      "Epoch: 66, Loss: 0.8981\n",
      "Epoch: 67, Loss: 0.8953\n",
      "Epoch: 68, Loss: 0.8925\n",
      "Epoch: 69, Loss: 0.8897\n",
      "Epoch: 70, Loss: 0.8870\n",
      "Epoch: 71, Loss: 0.8842\n",
      "Epoch: 72, Loss: 0.8815\n",
      "Epoch: 73, Loss: 0.8788\n",
      "Epoch: 74, Loss: 0.8761\n",
      "Epoch: 75, Loss: 0.8734\n",
      "Epoch: 76, Loss: 0.8708\n",
      "Epoch: 77, Loss: 0.8681\n",
      "Epoch: 78, Loss: 0.8655\n",
      "Epoch: 79, Loss: 0.8629\n",
      "Epoch: 80, Loss: 0.8603\n",
      "Epoch: 81, Loss: 0.8577\n",
      "Epoch: 82, Loss: 0.8552\n",
      "Epoch: 83, Loss: 0.8527\n",
      "Epoch: 84, Loss: 0.8501\n",
      "Epoch: 85, Loss: 0.8476\n",
      "Epoch: 86, Loss: 0.8452\n",
      "Epoch: 87, Loss: 0.8427\n",
      "Epoch: 88, Loss: 0.8403\n",
      "Epoch: 89, Loss: 0.8378\n",
      "Epoch: 90, Loss: 0.8354\n",
      "Epoch: 91, Loss: 0.8330\n",
      "Epoch: 92, Loss: 0.8306\n",
      "Epoch: 93, Loss: 0.8283\n",
      "Epoch: 94, Loss: 0.8259\n",
      "Epoch: 95, Loss: 0.8236\n",
      "Epoch: 96, Loss: 0.8212\n",
      "Epoch: 97, Loss: 0.8189\n",
      "Epoch: 98, Loss: 0.8167\n",
      "Epoch: 99, Loss: 0.8144\n",
      "Epoch: 100, Loss: 0.8121\n",
      "\n",
      "Final Model: y = 0.9729x + 0.8538\n",
      "\n",
      "Predicted value for x = 6: 6.6911\n"
     ]
    }
   ],
   "source": [
    "import numpy as np\n",
    "\n",
    "# Sample data (replace with your actual data)\n",
    "x = np.array([1, 2, 3, 4, 5])\n",
    "y = np.array([2, 4, 5, 4, 5])\n",
    "\n",
    "# Learning rate\n",
    "learning_rate = 0.01\n",
    "\n",
    "# Initialize model parameters (slope and intercept)\n",
    "m = 0  # Initial slope\n",
    "c = 0  # Initial intercept\n",
    "\n",
    "# Number of iterations\n",
    "epochs = 100\n",
    "\n",
    "# Function to calculate the prediction for a given x value\n",
    "def predict(x_value):\n",
    "  return m * x_value + c\n",
    "\n",
    "# Function to calculate the mean squared error (MSE)\n",
    "def mse(y_true, y_predicted):\n",
    "  return np.mean((y_true - y_predicted) ** 2)\n",
    "\n",
    "# Training loop (batch gradient descent)\n",
    "for epoch in range(epochs):\n",
    "  # Calculate predicted values for all data points\n",
    "  y_predicted = predict(x)\n",
    "\n",
    "  # Calculate the gradient of the MSE with respect to m and c\n",
    "  dm = -(2/len(x)) * np.sum(x * (y - y_predicted))\n",
    "  dc = -(2/len(x)) * np.sum(y - y_predicted)\n",
    "\n",
    "  # Update model parameters\n",
    "  m = m - learning_rate * dm\n",
    "  c = c - learning_rate * dc\n",
    "\n",
    "  # Print loss (optional)\n",
    "  loss = mse(y, y_predicted)\n",
    "  print(f\"Epoch: {epoch+1}, Loss: {loss:.4f}\")\n",
    "\n",
    "# Print final model parameters\n",
    "print(f\"\\nFinal Model: y = {m:.4f}x + {c:.4f}\")\n",
    "\n",
    "# Make predictions using the trained model (optional)\n",
    "new_x = 6  # Example input for prediction\n",
    "predicted_y = predict(new_x)\n",
    "print(f\"\\nPredicted value for x = {new_x}: {predicted_y:.4f}\")\n"
   ]
  },
  {
   "cell_type": "markdown",
   "id": "ce6a8bd8-1efa-4678-8ec3-152990e34896",
   "metadata": {},
   "source": [
    "##### Mini-Batch Gradient Descent"
   ]
  },
  {
   "cell_type": "code",
   "execution_count": 114,
   "id": "83fd0160-c275-4406-a9c4-f9cb6cb0d690",
   "metadata": {},
   "outputs": [
    {
     "name": "stdout",
     "output_type": "stream",
     "text": [
      "Epoch: 1, Loss: 9.3540\n",
      "Epoch: 2, Loss: 5.3295\n",
      "Epoch: 3, Loss: 3.2651\n",
      "Epoch: 4, Loss: 2.2626\n",
      "Epoch: 5, Loss: 1.6792\n",
      "Epoch: 6, Loss: 1.4121\n",
      "Epoch: 7, Loss: 1.2503\n",
      "Epoch: 8, Loss: 1.1663\n",
      "Epoch: 9, Loss: 1.1253\n",
      "Epoch: 10, Loss: 1.1027\n",
      "Epoch: 11, Loss: 1.0876\n",
      "Epoch: 12, Loss: 1.0742\n",
      "Epoch: 13, Loss: 1.0668\n",
      "Epoch: 14, Loss: 1.0604\n",
      "Epoch: 15, Loss: 1.0535\n",
      "Epoch: 16, Loss: 1.0477\n",
      "Epoch: 17, Loss: 1.0425\n",
      "Epoch: 18, Loss: 1.0377\n",
      "Epoch: 19, Loss: 1.0330\n",
      "Epoch: 20, Loss: 1.0279\n",
      "Epoch: 21, Loss: 1.0234\n",
      "Epoch: 22, Loss: 1.0187\n",
      "Epoch: 23, Loss: 1.0142\n",
      "Epoch: 24, Loss: 1.0094\n",
      "Epoch: 25, Loss: 1.0049\n",
      "Epoch: 26, Loss: 1.0003\n",
      "Epoch: 27, Loss: 0.9959\n",
      "Epoch: 28, Loss: 0.9915\n",
      "Epoch: 29, Loss: 0.9872\n",
      "Epoch: 30, Loss: 0.9828\n",
      "Epoch: 31, Loss: 0.9785\n",
      "Epoch: 32, Loss: 0.9743\n",
      "Epoch: 33, Loss: 0.9701\n",
      "Epoch: 34, Loss: 0.9659\n",
      "Epoch: 35, Loss: 0.9618\n",
      "Epoch: 36, Loss: 0.9578\n",
      "Epoch: 37, Loss: 0.9538\n",
      "Epoch: 38, Loss: 0.9495\n",
      "Epoch: 39, Loss: 0.9456\n",
      "Epoch: 40, Loss: 0.9415\n",
      "Epoch: 41, Loss: 0.9377\n",
      "Epoch: 42, Loss: 0.9336\n",
      "Epoch: 43, Loss: 0.9297\n",
      "Epoch: 44, Loss: 0.9259\n",
      "Epoch: 45, Loss: 0.9222\n",
      "Epoch: 46, Loss: 0.9183\n",
      "Epoch: 47, Loss: 0.9146\n",
      "Epoch: 48, Loss: 0.9110\n",
      "Epoch: 49, Loss: 0.9071\n",
      "Epoch: 50, Loss: 0.9034\n",
      "Epoch: 51, Loss: 0.8998\n",
      "Epoch: 52, Loss: 0.8962\n",
      "Epoch: 53, Loss: 0.8927\n",
      "Epoch: 54, Loss: 0.8892\n",
      "Epoch: 55, Loss: 0.8857\n",
      "Epoch: 56, Loss: 0.8823\n",
      "Epoch: 57, Loss: 0.8789\n",
      "Epoch: 58, Loss: 0.8754\n",
      "Epoch: 59, Loss: 0.8721\n",
      "Epoch: 60, Loss: 0.8687\n",
      "Epoch: 61, Loss: 0.8654\n",
      "Epoch: 62, Loss: 0.8621\n",
      "Epoch: 63, Loss: 0.8589\n",
      "Epoch: 64, Loss: 0.8557\n",
      "Epoch: 65, Loss: 0.8525\n",
      "Epoch: 66, Loss: 0.8494\n",
      "Epoch: 67, Loss: 0.8463\n",
      "Epoch: 68, Loss: 0.8432\n",
      "Epoch: 69, Loss: 0.8401\n",
      "Epoch: 70, Loss: 0.8371\n",
      "Epoch: 71, Loss: 0.8340\n",
      "Epoch: 72, Loss: 0.8310\n",
      "Epoch: 73, Loss: 0.8281\n",
      "Epoch: 74, Loss: 0.8250\n",
      "Epoch: 75, Loss: 0.8221\n",
      "Epoch: 76, Loss: 0.8191\n",
      "Epoch: 77, Loss: 0.8162\n",
      "Epoch: 78, Loss: 0.8134\n",
      "Epoch: 79, Loss: 0.8106\n",
      "Epoch: 80, Loss: 0.8077\n",
      "Epoch: 81, Loss: 0.8049\n",
      "Epoch: 82, Loss: 0.8022\n",
      "Epoch: 83, Loss: 0.7994\n",
      "Epoch: 84, Loss: 0.7967\n",
      "Epoch: 85, Loss: 0.7941\n",
      "Epoch: 86, Loss: 0.7913\n",
      "Epoch: 87, Loss: 0.7887\n",
      "Epoch: 88, Loss: 0.7861\n",
      "Epoch: 89, Loss: 0.7834\n",
      "Epoch: 90, Loss: 0.7809\n",
      "Epoch: 91, Loss: 0.7784\n",
      "Epoch: 92, Loss: 0.7757\n",
      "Epoch: 93, Loss: 0.7732\n",
      "Epoch: 94, Loss: 0.7707\n",
      "Epoch: 95, Loss: 0.7682\n",
      "Epoch: 96, Loss: 0.7658\n",
      "Epoch: 97, Loss: 0.7634\n",
      "Epoch: 98, Loss: 0.7610\n",
      "Epoch: 99, Loss: 0.7585\n",
      "Epoch: 100, Loss: 0.7562\n",
      "\n",
      "Final Model: y = 0.9404x + 0.9680\n",
      "\n",
      "Predicted value for x = 6: 6.6106\n"
     ]
    }
   ],
   "source": [
    "import numpy as np\n",
    "\n",
    "# Sample data (replace with your actual data)\n",
    "x = np.array([1, 2, 3, 4, 5])\n",
    "y = np.array([2, 4, 5, 4, 5])\n",
    "\n",
    "# Learning rate\n",
    "learning_rate = 0.01\n",
    "\n",
    "# Initialize model parameters (slope and intercept)\n",
    "m = 0  # Initial slope\n",
    "c = 0  # Initial intercept\n",
    "\n",
    "# Number of iterations\n",
    "epochs = 100\n",
    "\n",
    "# Mini-batch size\n",
    "batch_size = 4  # Adjust this value as needed\n",
    "\n",
    "# Function to calculate the prediction for a given x value\n",
    "def predict(x_value):\n",
    "  return m * x_value + c\n",
    "\n",
    "# Function to calculate the mean squared error (MSE)\n",
    "def mse(y_true, y_predicted):\n",
    "  return np.mean((y_true - y_predicted) ** 2)\n",
    "\n",
    "# Training loop (mini-batch gradient descent)\n",
    "for epoch in range(epochs):\n",
    "  # Shuffle the data for each epoch (optional but helps reduce bias)\n",
    "  shuffled_indices = np.random.permutation(len(x))\n",
    "  x_shuffled = x[shuffled_indices]\n",
    "  y_shuffled = y[shuffled_indices]\n",
    "\n",
    "  # Iterate over mini-batches\n",
    "  for i in range(0, len(x), batch_size):\n",
    "    # Get the current mini-batch\n",
    "    x_mini_batch = x_shuffled[i:i+batch_size]\n",
    "    y_mini_batch = y_shuffled[i:i+batch_size]\n",
    "\n",
    "    # Calculate predicted values for the mini-batch\n",
    "    y_predicted = predict(x_mini_batch)\n",
    "\n",
    "    # Calculate the gradient of the MSE with respect to m and c\n",
    "    dm = -(2/batch_size) * np.sum(x_mini_batch * (y_mini_batch - y_predicted))\n",
    "    dc = -(2/batch_size) * np.sum(y_mini_batch - y_predicted)\n",
    "\n",
    "    # Update model parameters\n",
    "    m = m - learning_rate * dm\n",
    "    c = c - learning_rate * dc\n",
    "\n",
    "  # (Optional) Print loss (average over all mini-batches in this epoch)\n",
    "  loss = mse(y, predict(x))  # Use all data for loss calculation\n",
    "  print(f\"Epoch: {epoch+1}, Loss: {loss:.4f}\")\n",
    "\n",
    "# Print final model parameters\n",
    "print(f\"\\nFinal Model: y = {m:.4f}x + {c:.4f}\")\n",
    "\n",
    "# Make predictions using the trained model (optional)\n",
    "new_x = 6  # Example input for prediction\n",
    "predicted_y = predict(new_x)\n",
    "print(f\"\\nPredicted value for x = {new_x}: {predicted_y:.4f}\")"
   ]
  },
  {
   "cell_type": "code",
   "execution_count": null,
   "id": "37080fcb-4d89-433b-92a8-2c77d5c23472",
   "metadata": {},
   "outputs": [],
   "source": []
  }
 ],
 "metadata": {
  "kernelspec": {
   "display_name": "Python 3 (ipykernel)",
   "language": "python",
   "name": "python3"
  },
  "language_info": {
   "codemirror_mode": {
    "name": "ipython",
    "version": 3
   },
   "file_extension": ".py",
   "mimetype": "text/x-python",
   "name": "python",
   "nbconvert_exporter": "python",
   "pygments_lexer": "ipython3",
   "version": "3.10.12"
  }
 },
 "nbformat": 4,
 "nbformat_minor": 5
}
