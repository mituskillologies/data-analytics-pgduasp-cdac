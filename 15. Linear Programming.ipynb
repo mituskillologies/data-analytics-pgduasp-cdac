{
 "cells": [
  {
   "cell_type": "code",
   "execution_count": null,
   "id": "26e4a9b6-3ca4-48a0-b0b1-d0bb35479a0e",
   "metadata": {},
   "outputs": [],
   "source": [
    "pip install pulp"
   ]
  },
  {
   "cell_type": "markdown",
   "id": "f211dda4-f3ed-4a14-a637-ca8306e1e7a8",
   "metadata": {},
   "source": [
    "Problem:\n",
    "\n",
    "A small bakery wants to maximize its daily profit by producing cookies and cakes. They have limited flour and oven space available. Here's the information:\n",
    "\n",
    "    Profit per unit:\n",
    "        Cookies: ₹10 per cookie\n",
    "        Cakes: ₹200 per cake\n",
    "    Flour requirement per unit:\n",
    "        Cookies: 1 cup per cookie\n",
    "        Cakes: 2 cups per cake\n",
    "    Oven time per unit:\n",
    "        Cookies: 10 minutes per cookie\n",
    "        Cakes: 15 minutes per cake\n",
    "    Available resources:\n",
    "        Flour: 100 cups\n",
    "        Oven time: 240 minutes\n",
    "\n",
    "Objective: Maximize the total daily profit."
   ]
  },
  {
   "cell_type": "code",
   "execution_count": 30,
   "id": "b68bbde4-73f0-4889-8b04-e83348e1bdf4",
   "metadata": {},
   "outputs": [],
   "source": [
    "from pulp import LpProblem, LpVariable, LpMaximize, LpStatus"
   ]
  },
  {
   "cell_type": "code",
   "execution_count": 152,
   "id": "d55c91d0-d2f4-42e1-8f1e-27d68758d117",
   "metadata": {},
   "outputs": [],
   "source": [
    "# Create the optimization problem\n",
    "problem = LpProblem(\"Bakery_Profit_Maximization\", LpMaximize)"
   ]
  },
  {
   "cell_type": "code",
   "execution_count": 153,
   "id": "875cd7cb-8d4a-4a6e-a140-5a6c47da6aeb",
   "metadata": {},
   "outputs": [],
   "source": [
    "# Decision variables\n",
    "cookies = LpVariable(\"Cookies\", lowBound=0)  # Number of cookies to produce (non-negative)\n",
    "cakes = LpVariable(\"Cakes\", lowBound=0, upBound=10)  # Number of cakes to produce (non-negative)"
   ]
  },
  {
   "cell_type": "code",
   "execution_count": 154,
   "id": "81da4090-305c-4a2c-a0d5-f6a3404d3b0b",
   "metadata": {},
   "outputs": [],
   "source": [
    "# Objective function (maximize total profit)\n",
    "profit = 10 * cookies + 200 * cakes\n",
    "problem += profit"
   ]
  },
  {
   "cell_type": "code",
   "execution_count": 155,
   "id": "234eb6f9-9d2a-4f6a-8e88-d1bd5912b1f0",
   "metadata": {},
   "outputs": [
    {
     "data": {
      "text/plain": [
       "Bakery_Profit_Maximization:\n",
       "MAXIMIZE\n",
       "200*Cakes + 10*Cookies + 0\n",
       "VARIABLES\n",
       "Cakes <= 10 Continuous\n",
       "Cookies Continuous"
      ]
     },
     "execution_count": 155,
     "metadata": {},
     "output_type": "execute_result"
    }
   ],
   "source": [
    "problem"
   ]
  },
  {
   "cell_type": "code",
   "execution_count": 156,
   "id": "0bf88c0c-dd2a-4554-9c86-428ee03a9ed0",
   "metadata": {},
   "outputs": [
    {
     "data": {
      "text/plain": [
       "pulp.pulp.LpProblem"
      ]
     },
     "execution_count": 156,
     "metadata": {},
     "output_type": "execute_result"
    }
   ],
   "source": [
    "type(problem)"
   ]
  },
  {
   "cell_type": "code",
   "execution_count": 157,
   "id": "a62116f4-c840-4d06-bbe4-9150c66f4861",
   "metadata": {},
   "outputs": [],
   "source": [
    "# Constraint 1: Flour limitation\n",
    "problem += 1 * cookies + 2 * cakes <= 100  \n",
    "# Flour requirement per unit * number of units <= total flour"
   ]
  },
  {
   "cell_type": "code",
   "execution_count": 158,
   "id": "eb52566c-37b3-4d23-b7db-47708a05417d",
   "metadata": {},
   "outputs": [
    {
     "data": {
      "text/plain": [
       "Bakery_Profit_Maximization:\n",
       "MAXIMIZE\n",
       "200*Cakes + 10*Cookies + 0\n",
       "SUBJECT TO\n",
       "_C1: 2 Cakes + Cookies <= 100\n",
       "\n",
       "VARIABLES\n",
       "Cakes <= 10 Continuous\n",
       "Cookies Continuous"
      ]
     },
     "execution_count": 158,
     "metadata": {},
     "output_type": "execute_result"
    }
   ],
   "source": [
    "problem"
   ]
  },
  {
   "cell_type": "code",
   "execution_count": 159,
   "id": "c2d3e5a7-9813-424f-b411-934f51ffa1fa",
   "metadata": {},
   "outputs": [],
   "source": [
    "# Constraint 2: Oven time limitation\n",
    "problem += 10 * cookies + 15 * cakes <= 250  \n",
    "# Oven time per unit * number of units <= total oven time"
   ]
  },
  {
   "cell_type": "code",
   "execution_count": 160,
   "id": "f11c1242-24f2-4724-92f7-e7f4af7d0e7c",
   "metadata": {},
   "outputs": [
    {
     "data": {
      "text/plain": [
       "Bakery_Profit_Maximization:\n",
       "MAXIMIZE\n",
       "200*Cakes + 10*Cookies + 0\n",
       "SUBJECT TO\n",
       "_C1: 2 Cakes + Cookies <= 100\n",
       "\n",
       "_C2: 15 Cakes + 10 Cookies <= 250\n",
       "\n",
       "VARIABLES\n",
       "Cakes <= 10 Continuous\n",
       "Cookies Continuous"
      ]
     },
     "execution_count": 160,
     "metadata": {},
     "output_type": "execute_result"
    }
   ],
   "source": [
    "problem"
   ]
  },
  {
   "cell_type": "code",
   "execution_count": 161,
   "id": "1de49b58-0eca-46e0-9684-1e0abe1d36e8",
   "metadata": {},
   "outputs": [
    {
     "name": "stdout",
     "output_type": "stream",
     "text": [
      "Welcome to the CBC MILP Solver \n",
      "Version: 2.10.3 \n",
      "Build Date: Dec 15 2019 \n",
      "\n",
      "command line - /home/mitu/.local/lib/python3.10/site-packages/pulp/solverdir/cbc/linux/64/cbc /tmp/d395e09939074ac7a032b0784d4b8da0-pulp.mps -max -timeMode elapsed -branch -printingOptions all -solution /tmp/d395e09939074ac7a032b0784d4b8da0-pulp.sol (default strategy 1)\n",
      "At line 2 NAME          MODEL\n",
      "At line 3 ROWS\n",
      "At line 7 COLUMNS\n",
      "At line 14 RHS\n",
      "At line 17 BOUNDS\n",
      "At line 19 ENDATA\n",
      "Problem MODEL has 2 rows, 2 columns and 4 elements\n",
      "Coin0008I MODEL read with 0 errors\n",
      "Option for timeMode changed from cpu to elapsed\n",
      "Presolve 2 (0) rows, 2 (0) columns and 4 (0) elements\n",
      "0  Obj -0 Dual inf 215 (2)\n",
      "0  Obj -0 Dual inf 215 (2)\n",
      "2  Obj 2100\n",
      "Optimal - objective value 2100\n",
      "Optimal objective 2100 - 2 iterations time 0.002\n",
      "Option for printingOptions changed from normal to all\n",
      "Total time (CPU seconds):       0.00   (Wallclock seconds):       0.00\n",
      "\n"
     ]
    }
   ],
   "source": [
    "# Solve the problem\n",
    "status = problem.solve()"
   ]
  },
  {
   "cell_type": "code",
   "execution_count": 162,
   "id": "ba5700c4-2264-498f-8412-c36f1580175b",
   "metadata": {},
   "outputs": [
    {
     "data": {
      "text/plain": [
       "1"
      ]
     },
     "execution_count": 162,
     "metadata": {},
     "output_type": "execute_result"
    }
   ],
   "source": [
    "status"
   ]
  },
  {
   "cell_type": "code",
   "execution_count": 163,
   "id": "176cc73e-4c21-480e-83c8-ade08408aea3",
   "metadata": {},
   "outputs": [
    {
     "data": {
      "text/plain": [
       "'Optimal'"
      ]
     },
     "execution_count": 163,
     "metadata": {},
     "output_type": "execute_result"
    }
   ],
   "source": [
    "LpStatus[status]"
   ]
  },
  {
   "cell_type": "code",
   "execution_count": 164,
   "id": "ec130203-9859-42dd-9ff2-89d712574445",
   "metadata": {},
   "outputs": [
    {
     "name": "stdout",
     "output_type": "stream",
     "text": [
      "Optimal number of cookies: 10.0\n",
      "Optimal number of cakes: 10.0\n",
      "Maximum daily profit: 2100.0\n"
     ]
    }
   ],
   "source": [
    "print(\"Optimal number of cookies:\", cookies.varValue)\n",
    "print(\"Optimal number of cakes:\", cakes.varValue)\n",
    "print(\"Maximum daily profit:\", problem.objective.value())"
   ]
  },
  {
   "cell_type": "markdown",
   "id": "d9866a79-47c0-4a97-a4b4-13c4d17dc874",
   "metadata": {},
   "source": [
    "Scenario:\n",
    "\n",
    "A juice company needs to produce two types of juice blends:\n",
    "\n",
    "    Blend A: This requires 2 units of orange juice and 1 unit of apple juice per liter.\n",
    "    Blend B: This requires 1 unit of orange juice and 3 units of apple juice per liter.\n",
    "\n",
    "    Orange Juice Requirement for Blend A: 200\n",
    "    Apple \n",
    "\n",
    "The company wants to minimize the total cost of producing a certain amount of each blend while considering the following factors:\n",
    "\n",
    "    Orange Juice Cost: $1 per unit\n",
    "    Apple Juice Cost: $0.5 per unit\n",
    "    Production Target:\n",
    "        100 liters of Blend A\n",
    "        150 liters of Blend B"
   ]
  },
  {
   "cell_type": "code",
   "execution_count": 165,
   "id": "e6cd0295-ec57-4630-9b3e-3651aea78435",
   "metadata": {},
   "outputs": [],
   "source": [
    "# Import PuLP libraries\n",
    "from pulp import LpProblem, LpVariable, LpMinimize"
   ]
  },
  {
   "cell_type": "code",
   "execution_count": 166,
   "id": "f47b4305-2816-4bc2-bfa8-845fe4532895",
   "metadata": {},
   "outputs": [],
   "source": [
    "# Create the optimization problem\n",
    "problem = LpProblem(\"MinimizeBlendingCost\", LpMinimize)"
   ]
  },
  {
   "cell_type": "code",
   "execution_count": 167,
   "id": "f2dbfef3-d8aa-48e8-962f-d9e704e1a76a",
   "metadata": {},
   "outputs": [],
   "source": [
    "# Define decision variables\n",
    "x = LpVariable(\"x\", lowBound=0)  # Liters of Blend A to produce\n",
    "y = LpVariable(\"y\", lowBound=0)  # Liters of Blend B to produce"
   ]
  },
  {
   "cell_type": "code",
   "execution_count": 168,
   "id": "b492bf66-5a4c-4b37-bef0-9522621f5347",
   "metadata": {},
   "outputs": [],
   "source": [
    "# Define the objective function (minimize total cost)\n",
    "objective = 1*x + 0.5*y  # Cost per liter of A + Cost per liter of B"
   ]
  },
  {
   "cell_type": "code",
   "execution_count": 169,
   "id": "aed3c5d5-9cb9-4196-a25a-5ece642d3dce",
   "metadata": {},
   "outputs": [],
   "source": [
    "# Add the objective function to the problem\n",
    "problem += objective"
   ]
  },
  {
   "cell_type": "code",
   "execution_count": 170,
   "id": "2398e032-90e0-4749-be78-54a07cbf31f6",
   "metadata": {},
   "outputs": [],
   "source": [
    "# Constraint 1: Orange juice requirement for Blend A\n",
    "problem += 2*x + y <= 200\n",
    "# Total orange juice used shouldn't exceed available amount (replace with actual limit if needed)\n",
    "# Modify this value based on your orange juice availability"
   ]
  },
  {
   "cell_type": "code",
   "execution_count": 171,
   "id": "073174d2-ef9f-42fb-9cc5-3e02004aec63",
   "metadata": {},
   "outputs": [],
   "source": [
    "# Constraint 2: Apple juice requirement for Blend A\n",
    "problem += x + 3*y <= 300\n",
    "# Total apple juice used shouldn't exceed available amount (replace with actual limit if needed)\n",
    "# Modify this value based on your apple juice availability"
   ]
  },
  {
   "cell_type": "code",
   "execution_count": 172,
   "id": "81f2940d-7c02-45d0-88c0-393dfb2c3c64",
   "metadata": {},
   "outputs": [],
   "source": [
    "# Constraint 3: Production target for Blend A\n",
    "problem += x >= 100  # Minimum production of Blend A"
   ]
  },
  {
   "cell_type": "code",
   "execution_count": 173,
   "id": "4e946b5c-a5cf-4d8e-a33d-f79c427628d9",
   "metadata": {},
   "outputs": [],
   "source": [
    "# Constraint 4: Production target for Blend B\n",
    "problem += y >= 150  # Minimum production of Blend B"
   ]
  },
  {
   "cell_type": "code",
   "execution_count": 174,
   "id": "2527ef80-d03b-46a0-b708-fbd781fb91ba",
   "metadata": {},
   "outputs": [
    {
     "name": "stdout",
     "output_type": "stream",
     "text": [
      "Welcome to the CBC MILP Solver \n",
      "Version: 2.10.3 \n",
      "Build Date: Dec 15 2019 \n",
      "\n",
      "command line - /home/mitu/.local/lib/python3.10/site-packages/pulp/solverdir/cbc/linux/64/cbc /tmp/57c7ea9706b845e583815322bcd7e946-pulp.mps -timeMode elapsed -branch -printingOptions all -solution /tmp/57c7ea9706b845e583815322bcd7e946-pulp.sol (default strategy 1)\n",
      "At line 2 NAME          MODEL\n",
      "At line 3 ROWS\n",
      "At line 9 COLUMNS\n",
      "At line 18 RHS\n",
      "At line 23 BOUNDS\n",
      "At line 24 ENDATA\n",
      "Problem MODEL has 4 rows, 2 columns and 6 elements\n",
      "Coin0008I MODEL read with 0 errors\n",
      "Option for timeMode changed from cpu to elapsed\n",
      "Presolve determined that the problem was infeasible with tolerance of 1e-08\n",
      "Analysis indicates model infeasible or unbounded\n",
      "0  Obj 0 Primal inf 250 (2)\n",
      "2  Obj 175 Primal inf 158.33333 (2)\n",
      "Primal infeasible - objective value 175\n",
      "PrimalInfeasible objective 175 - 2 iterations time 0.002\n",
      "\n",
      "Result - Linear relaxation infeasible\n",
      "\n",
      "Enumerated nodes:           0\n",
      "Total iterations:           0\n",
      "Time (CPU seconds):         0.00\n",
      "Time (Wallclock Seconds):   0.00\n",
      "\n",
      "Option for printingOptions changed from normal to all\n",
      "Total time (CPU seconds):       0.00   (Wallclock seconds):       0.00\n",
      "\n"
     ]
    }
   ],
   "source": [
    "# Solve the linear program\n",
    "status = problem.solve()"
   ]
  },
  {
   "cell_type": "code",
   "execution_count": 176,
   "id": "8b0ad55a-81d2-4e1d-ba99-6b5d5f2bc70c",
   "metadata": {},
   "outputs": [
    {
     "name": "stdout",
     "output_type": "stream",
     "text": [
      "Optimal x (Blend A liters): 100.0\n",
      "Optimal y (Blend B liters): 150.0\n",
      "Minimum Total Cost: 175.0\n"
     ]
    }
   ],
   "source": [
    "print(\"Optimal x (Blend A liters):\", x.value())\n",
    "print(\"Optimal y (Blend B liters):\", y.value())\n",
    "print(\"Minimum Total Cost:\", objective.value())"
   ]
  },
  {
   "cell_type": "code",
   "execution_count": 177,
   "id": "1d3e61f7-38b1-4d27-9d73-bafbbd46ba68",
   "metadata": {},
   "outputs": [
    {
     "data": {
      "text/plain": [
       "'Infeasible'"
      ]
     },
     "execution_count": 177,
     "metadata": {},
     "output_type": "execute_result"
    }
   ],
   "source": [
    "LpStatus[status]"
   ]
  },
  {
   "cell_type": "code",
   "execution_count": null,
   "id": "af559ada-e956-4cd8-8667-f18c8dbc31c3",
   "metadata": {},
   "outputs": [],
   "source": []
  }
 ],
 "metadata": {
  "kernelspec": {
   "display_name": "Python 3 (ipykernel)",
   "language": "python",
   "name": "python3"
  },
  "language_info": {
   "codemirror_mode": {
    "name": "ipython",
    "version": 3
   },
   "file_extension": ".py",
   "mimetype": "text/x-python",
   "name": "python",
   "nbconvert_exporter": "python",
   "pygments_lexer": "ipython3",
   "version": "3.10.12"
  }
 },
 "nbformat": 4,
 "nbformat_minor": 5
}
