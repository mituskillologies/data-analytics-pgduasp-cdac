{
 "cells": [
  {
   "cell_type": "markdown",
   "id": "337d81a4-949e-47a7-ab83-0754dc86a87b",
   "metadata": {},
   "source": [
    "#### Creation of Matrix"
   ]
  },
  {
   "cell_type": "code",
   "execution_count": 2,
   "id": "f31801a4-bca8-4d9d-a819-65b196815afb",
   "metadata": {},
   "outputs": [],
   "source": [
    "import numpy as np\n",
    "import matplotlib.pyplot as plt"
   ]
  },
  {
   "cell_type": "code",
   "execution_count": 6,
   "id": "6c261f38-6ad1-409e-b65f-75d2d59dc361",
   "metadata": {},
   "outputs": [],
   "source": [
    "M = np.array([[3,4],[2,8],[1,9]])"
   ]
  },
  {
   "cell_type": "code",
   "execution_count": 7,
   "id": "d5b64a61-c4cc-4517-8262-c879acf6b63d",
   "metadata": {},
   "outputs": [
    {
     "data": {
      "text/plain": [
       "array([[3, 4],\n",
       "       [2, 8],\n",
       "       [1, 9]])"
      ]
     },
     "execution_count": 7,
     "metadata": {},
     "output_type": "execute_result"
    }
   ],
   "source": [
    "M"
   ]
  },
  {
   "cell_type": "code",
   "execution_count": 17,
   "id": "7b872dfe-dbeb-46b7-ba00-1256e24b1d73",
   "metadata": {},
   "outputs": [
    {
     "data": {
      "text/plain": [
       "(3, 2)"
      ]
     },
     "execution_count": 17,
     "metadata": {},
     "output_type": "execute_result"
    }
   ],
   "source": [
    "M.shape"
   ]
  },
  {
   "cell_type": "code",
   "execution_count": 18,
   "id": "ed57f342-81d7-4f56-8df8-894a5ec3a932",
   "metadata": {},
   "outputs": [
    {
     "data": {
      "text/plain": [
       "1"
      ]
     },
     "execution_count": 18,
     "metadata": {},
     "output_type": "execute_result"
    }
   ],
   "source": [
    "M.min()"
   ]
  },
  {
   "cell_type": "code",
   "execution_count": 19,
   "id": "0aee5af3-8d7c-4be8-9778-43fc203578c5",
   "metadata": {},
   "outputs": [
    {
     "data": {
      "text/plain": [
       "numpy.ndarray"
      ]
     },
     "execution_count": 19,
     "metadata": {},
     "output_type": "execute_result"
    }
   ],
   "source": [
    "type(M)"
   ]
  },
  {
   "cell_type": "code",
   "execution_count": 20,
   "id": "affc3b42-5a65-4c1f-ad28-a96b6bf5f648",
   "metadata": {},
   "outputs": [
    {
     "data": {
      "text/plain": [
       "6"
      ]
     },
     "execution_count": 20,
     "metadata": {},
     "output_type": "execute_result"
    }
   ],
   "source": [
    "M.size"
   ]
  },
  {
   "cell_type": "code",
   "execution_count": 21,
   "id": "eb589fb0-f167-4f9b-8b5c-2d68c0ccf89d",
   "metadata": {},
   "outputs": [],
   "source": [
    "v = np.array([4,6,5,3,1,7,6,3])"
   ]
  },
  {
   "cell_type": "code",
   "execution_count": 22,
   "id": "9c71d18c-6e43-4510-9835-ad4d782e865a",
   "metadata": {},
   "outputs": [
    {
     "data": {
      "text/plain": [
       "8"
      ]
     },
     "execution_count": 22,
     "metadata": {},
     "output_type": "execute_result"
    }
   ],
   "source": [
    "v.size"
   ]
  },
  {
   "cell_type": "code",
   "execution_count": 23,
   "id": "fdfe8c0f-2705-4b63-8ce2-99dd8c3eb648",
   "metadata": {},
   "outputs": [
    {
     "data": {
      "text/plain": [
       "array([[4, 6],\n",
       "       [5, 3],\n",
       "       [1, 7],\n",
       "       [6, 3]])"
      ]
     },
     "execution_count": 23,
     "metadata": {},
     "output_type": "execute_result"
    }
   ],
   "source": [
    "v.reshape(4, 2)"
   ]
  },
  {
   "cell_type": "code",
   "execution_count": 24,
   "id": "23da35b9-c33c-4696-99b0-8065e569d2a5",
   "metadata": {},
   "outputs": [
    {
     "data": {
      "text/plain": [
       "array([[4, 6, 5, 3],\n",
       "       [1, 7, 6, 3]])"
      ]
     },
     "execution_count": 24,
     "metadata": {},
     "output_type": "execute_result"
    }
   ],
   "source": [
    "v.reshape(2,4)"
   ]
  },
  {
   "cell_type": "code",
   "execution_count": 25,
   "id": "f115dd0c-53c4-454c-af8b-b3f72363c1d9",
   "metadata": {},
   "outputs": [
    {
     "data": {
      "text/plain": [
       "array([[4, 6, 5, 3, 1, 7, 6, 3]])"
      ]
     },
     "execution_count": 25,
     "metadata": {},
     "output_type": "execute_result"
    }
   ],
   "source": [
    "v.reshape(1,8)"
   ]
  },
  {
   "cell_type": "code",
   "execution_count": 26,
   "id": "1d48c11e-c5c0-454c-a4c1-26cf6f738fc5",
   "metadata": {},
   "outputs": [
    {
     "ename": "ValueError",
     "evalue": "cannot reshape array of size 8 into shape (3,3)",
     "output_type": "error",
     "traceback": [
      "\u001b[0;31m---------------------------------------------------------------------------\u001b[0m",
      "\u001b[0;31mValueError\u001b[0m                                Traceback (most recent call last)",
      "Cell \u001b[0;32mIn[26], line 1\u001b[0m\n\u001b[0;32m----> 1\u001b[0m \u001b[43mv\u001b[49m\u001b[38;5;241;43m.\u001b[39;49m\u001b[43mreshape\u001b[49m\u001b[43m(\u001b[49m\u001b[38;5;241;43m3\u001b[39;49m\u001b[43m,\u001b[49m\u001b[38;5;241;43m3\u001b[39;49m\u001b[43m)\u001b[49m\n",
      "\u001b[0;31mValueError\u001b[0m: cannot reshape array of size 8 into shape (3,3)"
     ]
    }
   ],
   "source": [
    "v.reshape(3,3)"
   ]
  },
  {
   "cell_type": "code",
   "execution_count": 27,
   "id": "b1fba08b-692e-4817-a105-763f6a566ae3",
   "metadata": {},
   "outputs": [
    {
     "data": {
      "text/plain": [
       "dtype('int64')"
      ]
     },
     "execution_count": 27,
     "metadata": {},
     "output_type": "execute_result"
    }
   ],
   "source": [
    "M.dtype"
   ]
  },
  {
   "cell_type": "code",
   "execution_count": 28,
   "id": "63a63ecf-bcf9-445b-9926-366f22434347",
   "metadata": {},
   "outputs": [],
   "source": [
    "M = np.array([[3,4],[2,8],[1,9]], dtype=np.int8)"
   ]
  },
  {
   "cell_type": "code",
   "execution_count": 29,
   "id": "c55553d3-0295-48b7-952a-dcd5f3536e92",
   "metadata": {},
   "outputs": [
    {
     "data": {
      "text/plain": [
       "array([[3, 4],\n",
       "       [2, 8],\n",
       "       [1, 9]], dtype=int8)"
      ]
     },
     "execution_count": 29,
     "metadata": {},
     "output_type": "execute_result"
    }
   ],
   "source": [
    "M"
   ]
  },
  {
   "cell_type": "code",
   "execution_count": 30,
   "id": "9feab0a1-59c4-4aa1-bcdc-45fba4d2f834",
   "metadata": {},
   "outputs": [],
   "source": [
    "M = np.array([[3,4,8,0],[2,8,1,3],[1,9,5,6]], dtype=np.int8)"
   ]
  },
  {
   "cell_type": "code",
   "execution_count": 31,
   "id": "84b99301-d56c-484b-ab67-45435e71dbfa",
   "metadata": {},
   "outputs": [
    {
     "data": {
      "text/plain": [
       "array([[3, 4, 8, 0],\n",
       "       [2, 8, 1, 3],\n",
       "       [1, 9, 5, 6]], dtype=int8)"
      ]
     },
     "execution_count": 31,
     "metadata": {},
     "output_type": "execute_result"
    }
   ],
   "source": [
    "M"
   ]
  },
  {
   "cell_type": "code",
   "execution_count": 32,
   "id": "59b3172b-b298-4596-bc7a-ee2275190ea8",
   "metadata": {},
   "outputs": [
    {
     "data": {
      "text/plain": [
       "array([3, 4, 8, 0, 2, 8, 1, 3, 1, 9, 5, 6], dtype=int8)"
      ]
     },
     "execution_count": 32,
     "metadata": {},
     "output_type": "execute_result"
    }
   ],
   "source": [
    "M.flatten()"
   ]
  },
  {
   "cell_type": "code",
   "execution_count": 33,
   "id": "f113a48f-7ac9-4ae3-9a9e-a21a3d34c31a",
   "metadata": {},
   "outputs": [
    {
     "data": {
      "text/plain": [
       "array([[3, 4, 8],\n",
       "       [0, 2, 8],\n",
       "       [1, 3, 1],\n",
       "       [9, 5, 6]], dtype=int8)"
      ]
     },
     "execution_count": 33,
     "metadata": {},
     "output_type": "execute_result"
    }
   ],
   "source": [
    "M.reshape(-1,3)"
   ]
  },
  {
   "cell_type": "code",
   "execution_count": 34,
   "id": "a267494d-0d02-43de-b019-57ee8da3e4dc",
   "metadata": {},
   "outputs": [
    {
     "data": {
      "text/plain": [
       "array([[3, 4],\n",
       "       [8, 0],\n",
       "       [2, 8],\n",
       "       [1, 3],\n",
       "       [1, 9],\n",
       "       [5, 6]], dtype=int8)"
      ]
     },
     "execution_count": 34,
     "metadata": {},
     "output_type": "execute_result"
    }
   ],
   "source": [
    "M.reshape(-1,2)"
   ]
  },
  {
   "cell_type": "code",
   "execution_count": 35,
   "id": "faea6334-69f9-42a7-bf5d-299a8246400d",
   "metadata": {},
   "outputs": [
    {
     "data": {
      "text/plain": [
       "array([[3, 4, 8, 0, 2, 8],\n",
       "       [1, 3, 1, 9, 5, 6]], dtype=int8)"
      ]
     },
     "execution_count": 35,
     "metadata": {},
     "output_type": "execute_result"
    }
   ],
   "source": [
    "M.reshape(2,-1)"
   ]
  },
  {
   "cell_type": "code",
   "execution_count": 36,
   "id": "bc0e367e-72eb-4aa6-9a16-f88ffebd2c86",
   "metadata": {},
   "outputs": [
    {
     "data": {
      "text/plain": [
       "array([3, 4, 8, 0, 2, 8, 1, 3, 1, 9, 5, 6], dtype=int8)"
      ]
     },
     "execution_count": 36,
     "metadata": {},
     "output_type": "execute_result"
    }
   ],
   "source": [
    "M.reshape(-1)"
   ]
  },
  {
   "cell_type": "markdown",
   "id": "7f18a72d-9d24-4893-bdd4-1266624be3c4",
   "metadata": {},
   "source": [
    "#### Matrix Operations"
   ]
  },
  {
   "cell_type": "code",
   "execution_count": 40,
   "id": "f56120b3-af2b-4495-8a93-53128630d1bd",
   "metadata": {},
   "outputs": [
    {
     "data": {
      "text/plain": [
       "array([[3, 4, 8, 0],\n",
       "       [2, 8, 1, 3],\n",
       "       [1, 9, 5, 6]], dtype=int8)"
      ]
     },
     "execution_count": 40,
     "metadata": {},
     "output_type": "execute_result"
    }
   ],
   "source": [
    "M"
   ]
  },
  {
   "cell_type": "code",
   "execution_count": 41,
   "id": "1eb4bc4c-a24f-47e7-a4f5-ec5cba05f961",
   "metadata": {},
   "outputs": [
    {
     "data": {
      "text/plain": [
       "1"
      ]
     },
     "execution_count": 41,
     "metadata": {},
     "output_type": "execute_result"
    }
   ],
   "source": [
    "M[1][2]"
   ]
  },
  {
   "cell_type": "code",
   "execution_count": 42,
   "id": "082d95dd-5d99-4069-9385-ff2c63d70900",
   "metadata": {},
   "outputs": [
    {
     "name": "stdout",
     "output_type": "stream",
     "text": [
      "[3 4 8 0]\n",
      "[2 8 1 3]\n",
      "[1 9 5 6]\n"
     ]
    }
   ],
   "source": [
    "for row in M:\n",
    "    print(row)"
   ]
  },
  {
   "cell_type": "code",
   "execution_count": 45,
   "id": "f00f9cfd-6488-426e-a48d-534e54d863cf",
   "metadata": {},
   "outputs": [
    {
     "name": "stdout",
     "output_type": "stream",
     "text": [
      "3 4 8 0 \n",
      "2 8 1 3 \n",
      "1 9 5 6 \n"
     ]
    }
   ],
   "source": [
    "for row in M:\n",
    "    for value in row:\n",
    "        print(value, end=' ')\n",
    "    print()"
   ]
  },
  {
   "cell_type": "markdown",
   "id": "d946d104-f988-4682-8383-71900b67fce2",
   "metadata": {},
   "source": [
    "##### Addition"
   ]
  },
  {
   "cell_type": "code",
   "execution_count": 48,
   "id": "619e02d9-0425-4d41-bc06-a85ee40b017d",
   "metadata": {},
   "outputs": [],
   "source": [
    "M1 = np.array([[4,5,6],[2,1,9],[0,2,8]])\n",
    "M2 = np.array([[2,5,7],[0,8,7],[6,4,3]])"
   ]
  },
  {
   "cell_type": "code",
   "execution_count": 49,
   "id": "33bd6dad-3f90-4cd3-9ebc-ffd3548aab94",
   "metadata": {},
   "outputs": [],
   "source": [
    "M3 = M1 + M2"
   ]
  },
  {
   "cell_type": "code",
   "execution_count": 50,
   "id": "8bd3c6dc-3a2f-4d4f-aa7c-b4b38061e164",
   "metadata": {},
   "outputs": [
    {
     "data": {
      "text/plain": [
       "array([[ 6, 10, 13],\n",
       "       [ 2,  9, 16],\n",
       "       [ 6,  6, 11]])"
      ]
     },
     "execution_count": 50,
     "metadata": {},
     "output_type": "execute_result"
    }
   ],
   "source": [
    "M3"
   ]
  },
  {
   "cell_type": "markdown",
   "id": "c0020592-684e-4a6b-baa0-9f261ca7a477",
   "metadata": {},
   "source": [
    "##### Subtraction"
   ]
  },
  {
   "cell_type": "code",
   "execution_count": 52,
   "id": "7f6c7c21-c84c-4749-950c-23e7d26eb970",
   "metadata": {},
   "outputs": [],
   "source": [
    "M3 = M1 - M2"
   ]
  },
  {
   "cell_type": "code",
   "execution_count": 53,
   "id": "868332d4-f7cc-4d8a-8050-4a3fac0c5406",
   "metadata": {},
   "outputs": [
    {
     "data": {
      "text/plain": [
       "array([[ 2,  0, -1],\n",
       "       [ 2, -7,  2],\n",
       "       [-6, -2,  5]])"
      ]
     },
     "execution_count": 53,
     "metadata": {},
     "output_type": "execute_result"
    }
   ],
   "source": [
    "M3"
   ]
  },
  {
   "cell_type": "code",
   "execution_count": 54,
   "id": "e666d3d7-7273-4fbf-b101-eb5ffc6edfc0",
   "metadata": {},
   "outputs": [
    {
     "data": {
      "text/plain": [
       "array([[4, 5, 6],\n",
       "       [2, 1, 9],\n",
       "       [0, 2, 8]])"
      ]
     },
     "execution_count": 54,
     "metadata": {},
     "output_type": "execute_result"
    }
   ],
   "source": [
    "M1"
   ]
  },
  {
   "cell_type": "markdown",
   "id": "7a8ab3b4-0d93-4d56-a174-285f303b3447",
   "metadata": {},
   "source": [
    "##### Scaler Multiplication"
   ]
  },
  {
   "cell_type": "code",
   "execution_count": 57,
   "id": "1229c272-e7c0-4dd7-bbf1-19b7806f0a51",
   "metadata": {},
   "outputs": [
    {
     "data": {
      "text/plain": [
       "(array([[4, 5, 6],\n",
       "        [2, 1, 9],\n",
       "        [0, 2, 8]]),\n",
       " array([[ 8, 10, 12],\n",
       "        [ 4,  2, 18],\n",
       "        [ 0,  4, 16]]))"
      ]
     },
     "execution_count": 57,
     "metadata": {},
     "output_type": "execute_result"
    }
   ],
   "source": [
    "M1, M1 * 2"
   ]
  },
  {
   "cell_type": "code",
   "execution_count": 58,
   "id": "29501ed6-e4db-4c18-8465-9bf6a0f0ae82",
   "metadata": {},
   "outputs": [
    {
     "data": {
      "text/plain": [
       "array([[14, 15, 16],\n",
       "       [12, 11, 19],\n",
       "       [10, 12, 18]])"
      ]
     },
     "execution_count": 58,
     "metadata": {},
     "output_type": "execute_result"
    }
   ],
   "source": [
    "M1 + 10"
   ]
  },
  {
   "cell_type": "code",
   "execution_count": 61,
   "id": "ec96cb87-1e6d-40cb-8395-405365ee8d31",
   "metadata": {},
   "outputs": [],
   "source": [
    "M3 = 2 * (M1 + M2)"
   ]
  },
  {
   "cell_type": "code",
   "execution_count": 62,
   "id": "62763475-ed95-4c96-b7a2-beabcf2c66b1",
   "metadata": {},
   "outputs": [],
   "source": [
    "M4 = 2 * M1 + 2 * M2"
   ]
  },
  {
   "cell_type": "code",
   "execution_count": 63,
   "id": "2fbe1cc1-1962-46e0-a399-3c3da98f5a47",
   "metadata": {},
   "outputs": [
    {
     "data": {
      "text/plain": [
       "(array([[12, 20, 26],\n",
       "        [ 4, 18, 32],\n",
       "        [12, 12, 22]]),\n",
       " array([[12, 20, 26],\n",
       "        [ 4, 18, 32],\n",
       "        [12, 12, 22]]))"
      ]
     },
     "execution_count": 63,
     "metadata": {},
     "output_type": "execute_result"
    }
   ],
   "source": [
    "M3, M4"
   ]
  },
  {
   "cell_type": "code",
   "execution_count": 65,
   "id": "aef68861-17e9-4982-b3e4-2c34775168f1",
   "metadata": {},
   "outputs": [
    {
     "data": {
      "text/plain": [
       "array([[20, 25, 30],\n",
       "       [10,  5, 45],\n",
       "       [ 0, 10, 40]])"
      ]
     },
     "execution_count": 65,
     "metadata": {},
     "output_type": "execute_result"
    }
   ],
   "source": [
    "(2 + 3) * M1"
   ]
  },
  {
   "cell_type": "code",
   "execution_count": 66,
   "id": "4973e217-645a-4a73-a7f5-c2b53b7a9a32",
   "metadata": {},
   "outputs": [
    {
     "data": {
      "text/plain": [
       "array([[20, 25, 30],\n",
       "       [10,  5, 45],\n",
       "       [ 0, 10, 40]])"
      ]
     },
     "execution_count": 66,
     "metadata": {},
     "output_type": "execute_result"
    }
   ],
   "source": [
    "2 * M1 + 3 * M1"
   ]
  },
  {
   "cell_type": "code",
   "execution_count": 67,
   "id": "8cf5f6d8-00ab-4ec0-8e87-127b197825aa",
   "metadata": {},
   "outputs": [
    {
     "data": {
      "text/plain": [
       "array([[4, 5, 6],\n",
       "       [2, 1, 9],\n",
       "       [0, 2, 8]])"
      ]
     },
     "execution_count": 67,
     "metadata": {},
     "output_type": "execute_result"
    }
   ],
   "source": [
    "1 * M1"
   ]
  },
  {
   "cell_type": "code",
   "execution_count": 68,
   "id": "33a405c4-eeb9-47ba-bd56-1d4ee6039397",
   "metadata": {},
   "outputs": [
    {
     "data": {
      "text/plain": [
       "array([[-4, -5, -6],\n",
       "       [-2, -1, -9],\n",
       "       [ 0, -2, -8]])"
      ]
     },
     "execution_count": 68,
     "metadata": {},
     "output_type": "execute_result"
    }
   ],
   "source": [
    "-1 * M1"
   ]
  },
  {
   "cell_type": "markdown",
   "id": "10ae0792-e43e-43bd-bca2-007fc6c8b4ef",
   "metadata": {},
   "source": [
    "##### Matrix Multiplication"
   ]
  },
  {
   "cell_type": "code",
   "execution_count": 70,
   "id": "855b2e2e-0b09-4450-b2d5-20f2894336d9",
   "metadata": {},
   "outputs": [
    {
     "data": {
      "text/plain": [
       "(array([[4, 5, 6],\n",
       "        [2, 1, 9],\n",
       "        [0, 2, 8]]),\n",
       " array([[2, 5, 7],\n",
       "        [0, 8, 7],\n",
       "        [6, 4, 3]]))"
      ]
     },
     "execution_count": 70,
     "metadata": {},
     "output_type": "execute_result"
    }
   ],
   "source": [
    "M1, M2"
   ]
  },
  {
   "cell_type": "code",
   "execution_count": 71,
   "id": "99a39a18-41f8-4dcb-baac-98bef2c667c5",
   "metadata": {},
   "outputs": [
    {
     "data": {
      "text/plain": [
       "array([[ 8, 25, 42],\n",
       "       [ 0,  8, 63],\n",
       "       [ 0,  8, 24]])"
      ]
     },
     "execution_count": 71,
     "metadata": {},
     "output_type": "execute_result"
    }
   ],
   "source": [
    "M1 * M2"
   ]
  },
  {
   "cell_type": "code",
   "execution_count": 72,
   "id": "0aa481b4-df13-422f-89cc-bf4d10544ea0",
   "metadata": {},
   "outputs": [
    {
     "data": {
      "text/plain": [
       "array([[44, 84, 81],\n",
       "       [58, 54, 48],\n",
       "       [48, 48, 38]])"
      ]
     },
     "execution_count": 72,
     "metadata": {},
     "output_type": "execute_result"
    }
   ],
   "source": [
    "M1 @ M2"
   ]
  },
  {
   "cell_type": "code",
   "execution_count": 74,
   "id": "e5a84159-dc05-459d-a548-02f91a8ea89f",
   "metadata": {},
   "outputs": [
    {
     "data": {
      "text/plain": [
       "array([[ 18,  29, 113],\n",
       "       [ 16,  22, 128],\n",
       "       [ 32,  40,  96]])"
      ]
     },
     "execution_count": 74,
     "metadata": {},
     "output_type": "execute_result"
    }
   ],
   "source": [
    "M2 @ M1"
   ]
  },
  {
   "cell_type": "code",
   "execution_count": 75,
   "id": "0a035371-1df6-475d-a8a2-9e6b70882623",
   "metadata": {},
   "outputs": [
    {
     "data": {
      "text/plain": [
       "array([[12, 20, 26],\n",
       "       [ 4, 18, 32],\n",
       "       [12, 12, 22]])"
      ]
     },
     "execution_count": 75,
     "metadata": {},
     "output_type": "execute_result"
    }
   ],
   "source": [
    "M3"
   ]
  },
  {
   "cell_type": "code",
   "execution_count": 76,
   "id": "e0a8e217-c6c6-4312-9d9e-12fe59b31c19",
   "metadata": {},
   "outputs": [
    {
     "data": {
      "text/plain": [
       "(array([[1836, 3364, 5614],\n",
       "        [1488, 2708, 4292],\n",
       "        [1224, 2280, 3620]]),\n",
       " array([[1836, 3364, 5614],\n",
       "        [1488, 2708, 4292],\n",
       "        [1224, 2280, 3620]]))"
      ]
     },
     "execution_count": 76,
     "metadata": {},
     "output_type": "execute_result"
    }
   ],
   "source": [
    "M1 @ (M2 @ M3), (M1 @ M2) @ M3"
   ]
  },
  {
   "cell_type": "code",
   "execution_count": 77,
   "id": "eb53727e-8230-47bf-b630-0f279282d4a5",
   "metadata": {},
   "outputs": [
    {
     "data": {
      "text/plain": [
       "array([[44, 84, 81],\n",
       "       [58, 54, 48],\n",
       "       [48, 48, 38]])"
      ]
     },
     "execution_count": 77,
     "metadata": {},
     "output_type": "execute_result"
    }
   ],
   "source": [
    "np.matmul(M1, M2)"
   ]
  },
  {
   "cell_type": "markdown",
   "id": "b4003e11-e8a7-4ddf-9a71-ef9fdc053851",
   "metadata": {},
   "source": [
    "##### Matrix Transpose"
   ]
  },
  {
   "cell_type": "code",
   "execution_count": 79,
   "id": "32712b4c-cb1d-48f7-90a0-994c54824449",
   "metadata": {},
   "outputs": [
    {
     "data": {
      "text/plain": [
       "array([[4, 2, 0],\n",
       "       [5, 1, 2],\n",
       "       [6, 9, 8]])"
      ]
     },
     "execution_count": 79,
     "metadata": {},
     "output_type": "execute_result"
    }
   ],
   "source": [
    "M1.T"
   ]
  },
  {
   "cell_type": "code",
   "execution_count": 80,
   "id": "22f2f3af-d575-4ca4-8c11-c0ab320b93b4",
   "metadata": {},
   "outputs": [
    {
     "data": {
      "text/plain": [
       "array([[4, 5, 6],\n",
       "       [2, 1, 9],\n",
       "       [0, 2, 8]])"
      ]
     },
     "execution_count": 80,
     "metadata": {},
     "output_type": "execute_result"
    }
   ],
   "source": [
    "M1"
   ]
  },
  {
   "cell_type": "code",
   "execution_count": 81,
   "id": "dac5c8c9-8030-432d-a82d-d8178a529585",
   "metadata": {},
   "outputs": [
    {
     "data": {
      "text/plain": [
       "array([[4, 2, 0],\n",
       "       [5, 1, 2],\n",
       "       [6, 9, 8]])"
      ]
     },
     "execution_count": 81,
     "metadata": {},
     "output_type": "execute_result"
    }
   ],
   "source": [
    "np.transpose(M1)"
   ]
  },
  {
   "cell_type": "code",
   "execution_count": 84,
   "id": "bf3a6793-0ae9-4143-b622-54c605bf2e6a",
   "metadata": {},
   "outputs": [
    {
     "name": "stdin",
     "output_type": "stream",
     "text": [
      "Enter number of rows:  3\n",
      "Enter number of columns:  2\n",
      "Enter value:  5\n",
      "Enter value:  4\n",
      "Enter value:  6\n",
      "Enter value:  7\n",
      "Enter value:  8\n",
      "Enter value:  9\n"
     ]
    },
    {
     "name": "stdout",
     "output_type": "stream",
     "text": [
      "Matrix:\n",
      " [[5 4]\n",
      " [6 7]\n",
      " [8 9]]\n",
      "Transpose:\n",
      " [[5 6 8]\n",
      " [4 7 9]]\n"
     ]
    }
   ],
   "source": [
    "rows = int(input('Enter number of rows: '))\n",
    "cols = int(input('Enter number of columns: '))\n",
    "mat = np.zeros(rows * cols, dtype = np.int16)\n",
    "for i in range(len(mat)):\n",
    "    mat[i] = int(input('Enter value: '))\n",
    "\n",
    "mat = mat.reshape(rows, cols)\n",
    "print('Matrix:\\n', mat)\n",
    "print('Transpose:\\n', mat.T)"
   ]
  },
  {
   "cell_type": "code",
   "execution_count": 86,
   "id": "fb2007a4-6941-4f98-a84d-1066cd3ff4b2",
   "metadata": {},
   "outputs": [
    {
     "data": {
      "text/plain": [
       "array([[4, 5, 6],\n",
       "       [2, 1, 9],\n",
       "       [0, 2, 8]])"
      ]
     },
     "execution_count": 86,
     "metadata": {},
     "output_type": "execute_result"
    }
   ],
   "source": [
    "M1.T.T"
   ]
  },
  {
   "cell_type": "code",
   "execution_count": 87,
   "id": "46b1ecaf-5f34-43cc-995e-f51f96478d3d",
   "metadata": {},
   "outputs": [
    {
     "data": {
      "text/plain": [
       "array([[4, 5, 6],\n",
       "       [2, 1, 9],\n",
       "       [0, 2, 8]])"
      ]
     },
     "execution_count": 87,
     "metadata": {},
     "output_type": "execute_result"
    }
   ],
   "source": [
    "M1"
   ]
  },
  {
   "cell_type": "code",
   "execution_count": 88,
   "id": "a8325a30-32e5-4df6-8477-d0950a613dd5",
   "metadata": {},
   "outputs": [
    {
     "data": {
      "text/plain": [
       "(array([[ 6,  2,  6],\n",
       "        [10,  9,  6],\n",
       "        [13, 16, 11]]),\n",
       " array([[ 6,  2,  6],\n",
       "        [10,  9,  6],\n",
       "        [13, 16, 11]]))"
      ]
     },
     "execution_count": 88,
     "metadata": {},
     "output_type": "execute_result"
    }
   ],
   "source": [
    "M1.T + M2.T, (M1 + M2).T"
   ]
  },
  {
   "cell_type": "code",
   "execution_count": 91,
   "id": "34a0368a-2851-408d-a63a-484b282f39ea",
   "metadata": {},
   "outputs": [
    {
     "data": {
      "text/plain": [
       "(array([[44, 58, 48],\n",
       "        [84, 54, 48],\n",
       "        [81, 48, 38]]),\n",
       " array([[44, 58, 48],\n",
       "        [84, 54, 48],\n",
       "        [81, 48, 38]]))"
      ]
     },
     "execution_count": 91,
     "metadata": {},
     "output_type": "execute_result"
    }
   ],
   "source": [
    "(M1 @ M2).T,    M2.T @ M1.T"
   ]
  },
  {
   "cell_type": "markdown",
   "id": "91b925e3-fa34-460a-8bb1-c22d58920aed",
   "metadata": {},
   "source": [
    "##### Trace of Matrix"
   ]
  },
  {
   "cell_type": "code",
   "execution_count": 93,
   "id": "c8c55512-27eb-4f58-83ad-89871e07d51d",
   "metadata": {},
   "outputs": [
    {
     "data": {
      "text/plain": [
       "array([[4, 5, 6],\n",
       "       [2, 1, 9],\n",
       "       [0, 2, 8]])"
      ]
     },
     "execution_count": 93,
     "metadata": {},
     "output_type": "execute_result"
    }
   ],
   "source": [
    "M1"
   ]
  },
  {
   "cell_type": "code",
   "execution_count": 97,
   "id": "f379d8df-fed8-4c52-b9e8-6a02935dd4e5",
   "metadata": {},
   "outputs": [],
   "source": [
    "add = 0\n",
    "rn = 0\n",
    "for row in M1:\n",
    "    add = add + row[rn]\n",
    "    rn += 1"
   ]
  },
  {
   "cell_type": "code",
   "execution_count": 98,
   "id": "2207d8e4-fb13-441a-940f-9df530dffa3b",
   "metadata": {},
   "outputs": [
    {
     "data": {
      "text/plain": [
       "13"
      ]
     },
     "execution_count": 98,
     "metadata": {},
     "output_type": "execute_result"
    }
   ],
   "source": [
    "add"
   ]
  },
  {
   "cell_type": "code",
   "execution_count": 99,
   "id": "b1c74935-9dab-4dc0-adae-c4d6d9534cc5",
   "metadata": {},
   "outputs": [
    {
     "data": {
      "text/plain": [
       "13"
      ]
     },
     "execution_count": 99,
     "metadata": {},
     "output_type": "execute_result"
    }
   ],
   "source": [
    "np.trace(M1)"
   ]
  },
  {
   "cell_type": "code",
   "execution_count": 100,
   "id": "ce50f923-4f6d-4a31-920c-afa9fa4a0b17",
   "metadata": {},
   "outputs": [],
   "source": [
    "M3 = np.array([[3,4,8,0],[2,8,1,3],[1,9,5,6]], dtype=np.int8)"
   ]
  },
  {
   "cell_type": "code",
   "execution_count": 101,
   "id": "7e30883d-5195-4d3c-96c5-38358a5b7c2e",
   "metadata": {},
   "outputs": [
    {
     "data": {
      "text/plain": [
       "array([[3, 4, 8, 0],\n",
       "       [2, 8, 1, 3],\n",
       "       [1, 9, 5, 6]], dtype=int8)"
      ]
     },
     "execution_count": 101,
     "metadata": {},
     "output_type": "execute_result"
    }
   ],
   "source": [
    "M3"
   ]
  },
  {
   "cell_type": "code",
   "execution_count": 102,
   "id": "03767f07-7d62-422d-804b-a1a3a181a413",
   "metadata": {},
   "outputs": [
    {
     "data": {
      "text/plain": [
       "16"
      ]
     },
     "execution_count": 102,
     "metadata": {},
     "output_type": "execute_result"
    }
   ],
   "source": [
    "np.trace(M3)"
   ]
  },
  {
   "cell_type": "code",
   "execution_count": 103,
   "id": "043692fe-d855-41d7-987f-78497fe2d2e4",
   "metadata": {},
   "outputs": [
    {
     "data": {
      "text/plain": [
       "array([[44, 84, 81],\n",
       "       [58, 54, 48],\n",
       "       [48, 48, 38]])"
      ]
     },
     "execution_count": 103,
     "metadata": {},
     "output_type": "execute_result"
    }
   ],
   "source": [
    "M1 @ M2"
   ]
  },
  {
   "cell_type": "code",
   "execution_count": 104,
   "id": "88f8db2c-52bd-4053-8b4c-025547ae9ac9",
   "metadata": {},
   "outputs": [
    {
     "data": {
      "text/plain": [
       "array([[ 18,  29, 113],\n",
       "       [ 16,  22, 128],\n",
       "       [ 32,  40,  96]])"
      ]
     },
     "execution_count": 104,
     "metadata": {},
     "output_type": "execute_result"
    }
   ],
   "source": [
    "M2 @ M1"
   ]
  },
  {
   "cell_type": "code",
   "execution_count": 105,
   "id": "673b0b34-b420-45d7-866b-6526d2597b9f",
   "metadata": {},
   "outputs": [
    {
     "data": {
      "text/plain": [
       "(136, 136)"
      ]
     },
     "execution_count": 105,
     "metadata": {},
     "output_type": "execute_result"
    }
   ],
   "source": [
    "np.trace(M1 @ M2), np.trace(M2 @ M1) "
   ]
  },
  {
   "cell_type": "code",
   "execution_count": 106,
   "id": "573f1188-2e94-4969-8d4d-be643f216d93",
   "metadata": {},
   "outputs": [
    {
     "data": {
      "text/plain": [
       "(13, 13)"
      ]
     },
     "execution_count": 106,
     "metadata": {},
     "output_type": "execute_result"
    }
   ],
   "source": [
    "np.trace(M1), np.trace(M1.T)"
   ]
  },
  {
   "cell_type": "code",
   "execution_count": 108,
   "id": "5fa28e3d-6c98-4e00-82c2-acdf1946f9ec",
   "metadata": {},
   "outputs": [
    {
     "data": {
      "text/plain": [
       "(26, 26)"
      ]
     },
     "execution_count": 108,
     "metadata": {},
     "output_type": "execute_result"
    }
   ],
   "source": [
    "2 * np.trace(M1), np.trace(2 * M1), "
   ]
  },
  {
   "cell_type": "markdown",
   "id": "0c832cec-67e3-4ebd-b05a-3000da3f8862",
   "metadata": {},
   "source": [
    "##### Determinant of Matrix"
   ]
  },
  {
   "cell_type": "code",
   "execution_count": 110,
   "id": "46c8bcb0-16de-460a-9d76-46e1edd42b4e",
   "metadata": {},
   "outputs": [
    {
     "data": {
      "text/plain": [
       "array([[4, 5, 6],\n",
       "       [2, 1, 9],\n",
       "       [0, 2, 8]])"
      ]
     },
     "execution_count": 110,
     "metadata": {},
     "output_type": "execute_result"
    }
   ],
   "source": [
    "M1"
   ]
  },
  {
   "cell_type": "code",
   "execution_count": 111,
   "id": "64ac74d6-4929-418d-9582-755f92977c9b",
   "metadata": {},
   "outputs": [
    {
     "data": {
      "text/plain": [
       "-95.99999999999999"
      ]
     },
     "execution_count": 111,
     "metadata": {},
     "output_type": "execute_result"
    }
   ],
   "source": [
    "np.linalg.det(M1)"
   ]
  },
  {
   "cell_type": "code",
   "execution_count": 112,
   "id": "1aae3f09-e9c2-4b20-ad31-62c02b91c107",
   "metadata": {},
   "outputs": [
    {
     "data": {
      "text/plain": [
       "-133.99999999999997"
      ]
     },
     "execution_count": 112,
     "metadata": {},
     "output_type": "execute_result"
    }
   ],
   "source": [
    "np.linalg.det(M2)"
   ]
  },
  {
   "cell_type": "code",
   "execution_count": 113,
   "id": "51b74491-b09c-4a0b-b064-0f03d467a83a",
   "metadata": {},
   "outputs": [
    {
     "data": {
      "text/plain": [
       "-96"
      ]
     },
     "execution_count": 113,
     "metadata": {},
     "output_type": "execute_result"
    }
   ],
   "source": [
    "4 * (8*1-9*2) - 5 * (8*2-9*0) + 6 * (2*2-0*1)"
   ]
  },
  {
   "cell_type": "code",
   "execution_count": 114,
   "id": "c66c9b4a-42d9-4a4e-a774-3ccdc3b336a1",
   "metadata": {},
   "outputs": [
    {
     "data": {
      "text/plain": [
       "array([[4, 5, 6],\n",
       "       [2, 1, 9],\n",
       "       [0, 2, 8]])"
      ]
     },
     "execution_count": 114,
     "metadata": {},
     "output_type": "execute_result"
    }
   ],
   "source": [
    "M1"
   ]
  },
  {
   "cell_type": "markdown",
   "id": "eec3fafb-40cd-4cb9-b3c0-66a590e4e4e1",
   "metadata": {},
   "source": [
    "##### Inverse of the Matrix"
   ]
  },
  {
   "cell_type": "code",
   "execution_count": 116,
   "id": "a826f77f-b09e-4d6f-997c-c2a67bad1664",
   "metadata": {},
   "outputs": [
    {
     "data": {
      "text/plain": [
       "array([[ 0.10416667,  0.29166667, -0.40625   ],\n",
       "       [ 0.16666667, -0.33333333,  0.25      ],\n",
       "       [-0.04166667,  0.08333333,  0.0625    ]])"
      ]
     },
     "execution_count": 116,
     "metadata": {},
     "output_type": "execute_result"
    }
   ],
   "source": [
    "np.linalg.inv(M1)"
   ]
  },
  {
   "cell_type": "markdown",
   "id": "2d8b7d9a-9583-4a91-9106-32fa0a7d2fff",
   "metadata": {},
   "source": [
    "##### Rank of the Matrix"
   ]
  },
  {
   "cell_type": "code",
   "execution_count": 119,
   "id": "b672f9ce-b24e-4d9a-a12b-077926e88503",
   "metadata": {},
   "outputs": [],
   "source": [
    "M4 = np.array([[1,2],[2,4]])"
   ]
  },
  {
   "cell_type": "code",
   "execution_count": 120,
   "id": "a21b02f6-4997-43cc-9bd4-b7c13a589113",
   "metadata": {},
   "outputs": [
    {
     "data": {
      "text/plain": [
       "array([[1, 2],\n",
       "       [2, 4]])"
      ]
     },
     "execution_count": 120,
     "metadata": {},
     "output_type": "execute_result"
    }
   ],
   "source": [
    "M4"
   ]
  },
  {
   "cell_type": "code",
   "execution_count": 121,
   "id": "7495e1ce-ae6a-4331-832c-ab3b680552ce",
   "metadata": {},
   "outputs": [
    {
     "data": {
      "text/plain": [
       "1"
      ]
     },
     "execution_count": 121,
     "metadata": {},
     "output_type": "execute_result"
    }
   ],
   "source": [
    "np.linalg.matrix_rank(M4)"
   ]
  },
  {
   "cell_type": "code",
   "execution_count": 122,
   "id": "764bb403-a6fe-4752-b666-89031eb91541",
   "metadata": {},
   "outputs": [
    {
     "data": {
      "text/plain": [
       "2"
      ]
     },
     "execution_count": 122,
     "metadata": {},
     "output_type": "execute_result"
    }
   ],
   "source": [
    "M5 = np.array([[1,2],[3,4]])\n",
    "np.linalg.matrix_rank(M5)"
   ]
  },
  {
   "cell_type": "code",
   "execution_count": 124,
   "id": "d3ad9029-5a8e-4cc7-bc29-d020b2c63835",
   "metadata": {},
   "outputs": [
    {
     "data": {
      "text/plain": [
       "array([[1, 2],\n",
       "       [3, 4]])"
      ]
     },
     "execution_count": 124,
     "metadata": {},
     "output_type": "execute_result"
    }
   ],
   "source": [
    "M5"
   ]
  },
  {
   "cell_type": "code",
   "execution_count": 131,
   "id": "53dee94c-03ed-4b17-a741-942c2d4090ba",
   "metadata": {},
   "outputs": [
    {
     "data": {
      "text/plain": [
       "1"
      ]
     },
     "execution_count": 131,
     "metadata": {},
     "output_type": "execute_result"
    }
   ],
   "source": [
    "M4 = np.array([[1,2,3],[2,4,6],[1.5,3.0,4.5]])\n",
    "np.linalg.matrix_rank(M4)"
   ]
  },
  {
   "cell_type": "code",
   "execution_count": 132,
   "id": "002ce4bd-65db-4f9a-812b-3031f69ada64",
   "metadata": {},
   "outputs": [
    {
     "data": {
      "text/plain": [
       "array([[1. , 2. , 3. ],\n",
       "       [2. , 4. , 6. ],\n",
       "       [1.5, 3. , 4.5]])"
      ]
     },
     "execution_count": 132,
     "metadata": {},
     "output_type": "execute_result"
    }
   ],
   "source": [
    "M4"
   ]
  },
  {
   "cell_type": "code",
   "execution_count": 133,
   "id": "3f198239-2453-4290-b803-7a9a5f390866",
   "metadata": {},
   "outputs": [
    {
     "data": {
      "text/plain": [
       "2"
      ]
     },
     "execution_count": 133,
     "metadata": {},
     "output_type": "execute_result"
    }
   ],
   "source": [
    "M4 = np.array([[1,2,3],[2,4,6],[7,8,9]])\n",
    "np.linalg.matrix_rank(M4)"
   ]
  },
  {
   "cell_type": "code",
   "execution_count": 134,
   "id": "6e46a8bb-d628-4b5c-9b4c-21d6d024d8d4",
   "metadata": {},
   "outputs": [
    {
     "data": {
      "text/plain": [
       "array([1, 2, 3])"
      ]
     },
     "execution_count": 134,
     "metadata": {},
     "output_type": "execute_result"
    }
   ],
   "source": [
    "M4[0]"
   ]
  },
  {
   "cell_type": "code",
   "execution_count": 135,
   "id": "4f1a3159-2413-4655-a806-056c90023cfc",
   "metadata": {},
   "outputs": [
    {
     "data": {
      "text/plain": [
       "array([2, 4, 6])"
      ]
     },
     "execution_count": 135,
     "metadata": {},
     "output_type": "execute_result"
    }
   ],
   "source": [
    "M4[0] * 2"
   ]
  },
  {
   "cell_type": "code",
   "execution_count": 136,
   "id": "eaa4f58b-ee0d-431a-bb39-89424220121c",
   "metadata": {},
   "outputs": [
    {
     "data": {
      "text/plain": [
       "array([1.5, 3. , 4.5])"
      ]
     },
     "execution_count": 136,
     "metadata": {},
     "output_type": "execute_result"
    }
   ],
   "source": [
    "M4[0] * 1.5"
   ]
  },
  {
   "cell_type": "markdown",
   "id": "f81ae450-fe2d-4ae2-b206-f52b5ab63571",
   "metadata": {},
   "source": [
    "##### Row Matrix"
   ]
  },
  {
   "cell_type": "code",
   "execution_count": 138,
   "id": "4ab6ca1f-bf65-49ce-ad7c-e34dd65495f4",
   "metadata": {},
   "outputs": [
    {
     "data": {
      "text/plain": [
       "array([[4, 5, 6],\n",
       "       [2, 1, 9],\n",
       "       [0, 2, 8]])"
      ]
     },
     "execution_count": 138,
     "metadata": {},
     "output_type": "execute_result"
    }
   ],
   "source": [
    "M1"
   ]
  },
  {
   "cell_type": "code",
   "execution_count": 143,
   "id": "fb646233-10f7-4e8b-9bf4-a2941a253c17",
   "metadata": {},
   "outputs": [],
   "source": [
    "R=M1.reshape(1,-1)"
   ]
  },
  {
   "cell_type": "code",
   "execution_count": 144,
   "id": "6ece1cf6-2d5f-419b-a059-cb35e10d4ba6",
   "metadata": {},
   "outputs": [
    {
     "data": {
      "text/plain": [
       "(1, 9)"
      ]
     },
     "execution_count": 144,
     "metadata": {},
     "output_type": "execute_result"
    }
   ],
   "source": [
    "R.shape"
   ]
  },
  {
   "cell_type": "code",
   "execution_count": 141,
   "id": "7a4aab40-e6ed-41ce-b546-a459386ce667",
   "metadata": {},
   "outputs": [
    {
     "data": {
      "text/plain": [
       "array([[4, 5, 6, 2, 1, 9, 0, 2, 8]])"
      ]
     },
     "execution_count": 141,
     "metadata": {},
     "output_type": "execute_result"
    }
   ],
   "source": [
    "R"
   ]
  },
  {
   "cell_type": "markdown",
   "id": "f75eda4d-f58e-46b4-a480-cb8773f37772",
   "metadata": {},
   "source": [
    "##### Column Matrix"
   ]
  },
  {
   "cell_type": "code",
   "execution_count": 146,
   "id": "bd7d6c08-c072-4e6b-b99d-d8c51d08b4b4",
   "metadata": {},
   "outputs": [],
   "source": [
    "C = M1.reshape(-1, 1)"
   ]
  },
  {
   "cell_type": "code",
   "execution_count": 147,
   "id": "ccfbedf1-9426-4827-9e79-d3eb93969d90",
   "metadata": {},
   "outputs": [
    {
     "data": {
      "text/plain": [
       "array([[4],\n",
       "       [5],\n",
       "       [6],\n",
       "       [2],\n",
       "       [1],\n",
       "       [9],\n",
       "       [0],\n",
       "       [2],\n",
       "       [8]])"
      ]
     },
     "execution_count": 147,
     "metadata": {},
     "output_type": "execute_result"
    }
   ],
   "source": [
    "C"
   ]
  },
  {
   "cell_type": "code",
   "execution_count": 148,
   "id": "b3d7fe21-c8f6-42df-a3a4-c254a1ed2f1f",
   "metadata": {},
   "outputs": [
    {
     "data": {
      "text/plain": [
       "(9, 1)"
      ]
     },
     "execution_count": 148,
     "metadata": {},
     "output_type": "execute_result"
    }
   ],
   "source": [
    "C.shape"
   ]
  },
  {
   "cell_type": "code",
   "execution_count": 149,
   "id": "833f516f-5568-40f2-a1a1-5f9e4ac6a007",
   "metadata": {},
   "outputs": [
    {
     "data": {
      "text/plain": [
       "array([[4, 5, 6, 2, 1, 9, 0, 2, 8]])"
      ]
     },
     "execution_count": 149,
     "metadata": {},
     "output_type": "execute_result"
    }
   ],
   "source": [
    "C.T"
   ]
  },
  {
   "cell_type": "code",
   "execution_count": 150,
   "id": "86d7358e-c794-497b-8e3f-e3d234fcba07",
   "metadata": {},
   "outputs": [
    {
     "data": {
      "text/plain": [
       "array([[4],\n",
       "       [5],\n",
       "       [6],\n",
       "       [2],\n",
       "       [1],\n",
       "       [9],\n",
       "       [0],\n",
       "       [2],\n",
       "       [8]])"
      ]
     },
     "execution_count": 150,
     "metadata": {},
     "output_type": "execute_result"
    }
   ],
   "source": [
    "R.T"
   ]
  },
  {
   "cell_type": "markdown",
   "id": "1d218daf-2073-461f-8f77-6360856bf7b4",
   "metadata": {},
   "source": [
    "##### Square Matrix"
   ]
  },
  {
   "cell_type": "code",
   "execution_count": 153,
   "id": "44193fe2-994a-4f42-b841-ac10f01bdfb3",
   "metadata": {},
   "outputs": [],
   "source": [
    "def isSquareMatrix(M):\n",
    "    if M.shape[0] == M.shape[1]:\n",
    "        return True\n",
    "    else:\n",
    "        return False"
   ]
  },
  {
   "cell_type": "code",
   "execution_count": 154,
   "id": "5276501b-8d04-472f-9b9c-c2c31abedfa8",
   "metadata": {},
   "outputs": [
    {
     "data": {
      "text/plain": [
       "(3, 3)"
      ]
     },
     "execution_count": 154,
     "metadata": {},
     "output_type": "execute_result"
    }
   ],
   "source": [
    "M1.shape"
   ]
  },
  {
   "cell_type": "code",
   "execution_count": 155,
   "id": "121e5193-d2b1-492e-9621-3de43038eebd",
   "metadata": {},
   "outputs": [
    {
     "data": {
      "text/plain": [
       "True"
      ]
     },
     "execution_count": 155,
     "metadata": {},
     "output_type": "execute_result"
    }
   ],
   "source": [
    "isSquareMatrix(M1)"
   ]
  },
  {
   "cell_type": "code",
   "execution_count": 156,
   "id": "6f74f65d-a614-45d7-aeea-0c0c15b643c6",
   "metadata": {},
   "outputs": [
    {
     "data": {
      "text/plain": [
       "False"
      ]
     },
     "execution_count": 156,
     "metadata": {},
     "output_type": "execute_result"
    }
   ],
   "source": [
    "isSquareMatrix(M)"
   ]
  },
  {
   "cell_type": "code",
   "execution_count": 160,
   "id": "99974f70-c842-46a1-bd82-5bf25e537587",
   "metadata": {},
   "outputs": [],
   "source": [
    "S = np.zeros([4,4], dtype=np.int8)\n",
    "S = S + 4"
   ]
  },
  {
   "cell_type": "code",
   "execution_count": 161,
   "id": "39588004-5595-4a33-9285-2913a810deed",
   "metadata": {},
   "outputs": [
    {
     "data": {
      "text/plain": [
       "array([[4, 4, 4, 4],\n",
       "       [4, 4, 4, 4],\n",
       "       [4, 4, 4, 4],\n",
       "       [4, 4, 4, 4]], dtype=int8)"
      ]
     },
     "execution_count": 161,
     "metadata": {},
     "output_type": "execute_result"
    }
   ],
   "source": [
    "S"
   ]
  },
  {
   "cell_type": "markdown",
   "id": "7df1f6f5-febf-412e-809a-aa52ccc00c18",
   "metadata": {},
   "source": [
    "##### Rectangular Matrix"
   ]
  },
  {
   "cell_type": "code",
   "execution_count": 163,
   "id": "b587a8c6-83e2-4813-807f-bdad8f252102",
   "metadata": {},
   "outputs": [],
   "source": [
    "def isRectangularMatrix(M):\n",
    "    if M.shape[0] != M.shape[1]:\n",
    "        return True\n",
    "    else:\n",
    "        return False"
   ]
  },
  {
   "cell_type": "code",
   "execution_count": 164,
   "id": "62d2baf5-4f66-470b-a5bc-e196d013f46c",
   "metadata": {},
   "outputs": [
    {
     "data": {
      "text/plain": [
       "False"
      ]
     },
     "execution_count": 164,
     "metadata": {},
     "output_type": "execute_result"
    }
   ],
   "source": [
    "isRectangularMatrix(M1)"
   ]
  },
  {
   "cell_type": "markdown",
   "id": "26272feb-28fa-4453-8335-02f0c2579ec2",
   "metadata": {},
   "source": [
    "##### Diagonal Matrix"
   ]
  },
  {
   "cell_type": "code",
   "execution_count": 168,
   "id": "c9e484ea-fb70-4378-be0d-209fd9c61026",
   "metadata": {},
   "outputs": [
    {
     "data": {
      "text/plain": [
       "array([[4, 0, 0, 0],\n",
       "       [0, 4, 0, 0],\n",
       "       [0, 0, 4, 0],\n",
       "       [0, 0, 0, 4]], dtype=int8)"
      ]
     },
     "execution_count": 168,
     "metadata": {},
     "output_type": "execute_result"
    }
   ],
   "source": [
    "D = np.zeros([4,4], dtype=np.int8)\n",
    "for i in range(4):\n",
    "    D[i][i] = 4\n",
    "\n",
    "D"
   ]
  },
  {
   "cell_type": "code",
   "execution_count": 177,
   "id": "38c7e597-8f64-4e11-b8e4-e920f7dc1c92",
   "metadata": {},
   "outputs": [],
   "source": [
    "def isDiagonalMatrix(M):\n",
    "    for i in range(M.shape[0]):\n",
    "        for j in range(M.shape[1]):\n",
    "            if i != j and M[i][j] != 0:\n",
    "                return False\n",
    "    return True"
   ]
  },
  {
   "cell_type": "code",
   "execution_count": 178,
   "id": "98f07421-b7e6-4ded-8257-4160966ab171",
   "metadata": {},
   "outputs": [
    {
     "data": {
      "text/plain": [
       "True"
      ]
     },
     "execution_count": 178,
     "metadata": {},
     "output_type": "execute_result"
    }
   ],
   "source": [
    "isDiagonalMatrix(D)"
   ]
  },
  {
   "cell_type": "code",
   "execution_count": 179,
   "id": "0d3bd793-0e70-4ba0-8d70-c14a68d0dbed",
   "metadata": {},
   "outputs": [
    {
     "data": {
      "text/plain": [
       "False"
      ]
     },
     "execution_count": 179,
     "metadata": {},
     "output_type": "execute_result"
    }
   ],
   "source": [
    "isDiagonalMatrix(M)"
   ]
  },
  {
   "cell_type": "markdown",
   "id": "5d165e8f-eeb0-4062-945a-9167ab88f36d",
   "metadata": {},
   "source": [
    "##### Identity Matrix"
   ]
  },
  {
   "cell_type": "code",
   "execution_count": 182,
   "id": "a42e58bf-c65a-45fd-accc-9dc5689c1160",
   "metadata": {},
   "outputs": [
    {
     "data": {
      "text/plain": [
       "array([[1, 0, 0, 0],\n",
       "       [0, 1, 0, 0],\n",
       "       [0, 0, 1, 0],\n",
       "       [0, 0, 0, 1]], dtype=int8)"
      ]
     },
     "execution_count": 182,
     "metadata": {},
     "output_type": "execute_result"
    }
   ],
   "source": [
    "I = np.zeros([4,4], dtype=np.int8)\n",
    "for i in range(4):\n",
    "    I[i][i] = 1\n",
    "\n",
    "I"
   ]
  },
  {
   "cell_type": "code",
   "execution_count": 183,
   "id": "cc2cf651-41fa-473c-896a-5f7791dbd73d",
   "metadata": {},
   "outputs": [
    {
     "data": {
      "text/plain": [
       "array([1, 1, 1, 1], dtype=int8)"
      ]
     },
     "execution_count": 183,
     "metadata": {},
     "output_type": "execute_result"
    }
   ],
   "source": [
    "np.diag(I)"
   ]
  },
  {
   "cell_type": "markdown",
   "id": "bab3c674-a5df-45a7-8a19-2b7081b7f76c",
   "metadata": {},
   "source": [
    "##### Symmetric Matrix"
   ]
  },
  {
   "cell_type": "code",
   "execution_count": 196,
   "id": "5021d1f5-e99c-4a61-93db-553bf3a8a9ad",
   "metadata": {},
   "outputs": [
    {
     "data": {
      "text/plain": [
       "array([[2, 3, 6],\n",
       "       [3, 4, 5],\n",
       "       [6, 5, 9]])"
      ]
     },
     "execution_count": 196,
     "metadata": {},
     "output_type": "execute_result"
    }
   ],
   "source": [
    "S1 = np.array([[2,3,6],[3,4,5],[6,5,9]])\n",
    "S1"
   ]
  },
  {
   "cell_type": "code",
   "execution_count": 198,
   "id": "03ae3ed4-ab4c-48fd-b3ef-421ef1e5db8c",
   "metadata": {},
   "outputs": [
    {
     "data": {
      "text/plain": [
       "9"
      ]
     },
     "execution_count": 198,
     "metadata": {},
     "output_type": "execute_result"
    }
   ],
   "source": [
    "(S1 == S1.T).sum()"
   ]
  },
  {
   "cell_type": "code",
   "execution_count": 199,
   "id": "618440d9-a75d-4323-af36-582cb59da570",
   "metadata": {},
   "outputs": [
    {
     "data": {
      "text/plain": [
       "9"
      ]
     },
     "execution_count": 199,
     "metadata": {},
     "output_type": "execute_result"
    }
   ],
   "source": [
    "S1.size"
   ]
  },
  {
   "cell_type": "code",
   "execution_count": 200,
   "id": "a40d582a-5dbb-441a-aee2-07fdd9325ce9",
   "metadata": {},
   "outputs": [],
   "source": [
    "def isSymmetricMatrix(M):\n",
    "    if (M == M.T).sum() == M.size:\n",
    "        return True\n",
    "    else:\n",
    "        return False"
   ]
  },
  {
   "cell_type": "code",
   "execution_count": 201,
   "id": "ea9ff8a9-d099-40c7-a8ff-4d016f428697",
   "metadata": {},
   "outputs": [
    {
     "data": {
      "text/plain": [
       "True"
      ]
     },
     "execution_count": 201,
     "metadata": {},
     "output_type": "execute_result"
    }
   ],
   "source": [
    "isSymmetricMatrix(S1)"
   ]
  },
  {
   "cell_type": "code",
   "execution_count": 203,
   "id": "0ad31459-c272-4029-a23f-64e87de6c903",
   "metadata": {},
   "outputs": [
    {
     "data": {
      "text/plain": [
       "False"
      ]
     },
     "execution_count": 203,
     "metadata": {},
     "output_type": "execute_result"
    }
   ],
   "source": [
    "isSymmetricMatrix(M1)"
   ]
  },
  {
   "cell_type": "markdown",
   "id": "4fc50a5c-c7dd-4820-a082-333c11eeb12e",
   "metadata": {},
   "source": [
    "##### Skew-Symmetric Matrix"
   ]
  },
  {
   "cell_type": "code",
   "execution_count": 205,
   "id": "1532a251-e541-4132-a5f9-ac256a047d7c",
   "metadata": {},
   "outputs": [],
   "source": [
    "S2 = np.array([[0, 3],[-3, 0]])"
   ]
  },
  {
   "cell_type": "code",
   "execution_count": 206,
   "id": "5d88d58c-d284-49e8-87d3-ba8410da32ba",
   "metadata": {},
   "outputs": [
    {
     "data": {
      "text/plain": [
       "array([[ 0,  3],\n",
       "       [-3,  0]])"
      ]
     },
     "execution_count": 206,
     "metadata": {},
     "output_type": "execute_result"
    }
   ],
   "source": [
    "S2"
   ]
  },
  {
   "cell_type": "code",
   "execution_count": 207,
   "id": "5706a71e-00be-4f08-9848-6b69250e39f4",
   "metadata": {},
   "outputs": [
    {
     "data": {
      "text/plain": [
       "array([[ 0, -3],\n",
       "       [ 3,  0]])"
      ]
     },
     "execution_count": 207,
     "metadata": {},
     "output_type": "execute_result"
    }
   ],
   "source": [
    "-S2"
   ]
  },
  {
   "cell_type": "code",
   "execution_count": 208,
   "id": "cc58dc73-b6a8-4436-9374-ccc2b5fdbfec",
   "metadata": {},
   "outputs": [
    {
     "data": {
      "text/plain": [
       "array([[ 0, -3],\n",
       "       [ 3,  0]])"
      ]
     },
     "execution_count": 208,
     "metadata": {},
     "output_type": "execute_result"
    }
   ],
   "source": [
    "S2.T"
   ]
  },
  {
   "cell_type": "markdown",
   "id": "59104f11-4767-4ad6-96bf-f0061b0c09b0",
   "metadata": {},
   "source": [
    "#### EigenVectors and Eigenvalues"
   ]
  },
  {
   "cell_type": "code",
   "execution_count": 232,
   "id": "a50a6bb5-1bda-4722-973e-16de662d6bbd",
   "metadata": {},
   "outputs": [
    {
     "name": "stdout",
     "output_type": "stream",
     "text": [
      "Eigenvalues:\n",
      " [-7.  6.]\n",
      "Eigenvectors:\n",
      " [[-0.9486833  -0.24253563]\n",
      " [ 0.31622777 -0.9701425 ]]\n"
     ]
    }
   ],
   "source": [
    "# Define a matrix\n",
    "A = np.array([[-6, 3], [4, 5]])\n",
    "\n",
    "# Calculate eigenvalues and eigenvectors\n",
    "eigenvalues, eigenvectors = np.linalg.eig(A)\n",
    "\n",
    "# Print the eigenvalues\n",
    "print(\"Eigenvalues:\\n\", eigenvalues)\n",
    "\n",
    "# Print the eigenvectors (one per column)\n",
    "print(\"Eigenvectors:\\n\", eigenvectors)"
   ]
  },
  {
   "cell_type": "code",
   "execution_count": 235,
   "id": "a91b44d6-1fd4-4339-856e-ff6da3a00f62",
   "metadata": {},
   "outputs": [
    {
     "data": {
      "text/plain": [
       "array([[ True,  True],\n",
       "       [False, False]])"
      ]
     },
     "execution_count": 235,
     "metadata": {},
     "output_type": "execute_result"
    }
   ],
   "source": [
    "A @ eigenvectors = "
   ]
  },
  {
   "cell_type": "code",
   "execution_count": 234,
   "id": "90a77e61-0212-41f1-aef0-0edafceed5ac",
   "metadata": {},
   "outputs": [
    {
     "data": {
      "text/plain": [
       "array([[ 6.64078309, -1.45521375],\n",
       "       [-2.21359436, -5.820855  ]])"
      ]
     },
     "execution_count": 234,
     "metadata": {},
     "output_type": "execute_result"
    }
   ],
   "source": []
  },
  {
   "cell_type": "code",
   "execution_count": null,
   "id": "438b1a70-294e-4627-8b21-7a8d359bb86c",
   "metadata": {},
   "outputs": [],
   "source": []
  },
  {
   "cell_type": "code",
   "execution_count": null,
   "id": "d598b2ed-d847-480b-8cfd-ee95d93698b3",
   "metadata": {},
   "outputs": [],
   "source": []
  }
 ],
 "metadata": {
  "kernelspec": {
   "display_name": "Python 3 (ipykernel)",
   "language": "python",
   "name": "python3"
  },
  "language_info": {
   "codemirror_mode": {
    "name": "ipython",
    "version": 3
   },
   "file_extension": ".py",
   "mimetype": "text/x-python",
   "name": "python",
   "nbconvert_exporter": "python",
   "pygments_lexer": "ipython3",
   "version": "3.10.12"
  }
 },
 "nbformat": 4,
 "nbformat_minor": 5
}
