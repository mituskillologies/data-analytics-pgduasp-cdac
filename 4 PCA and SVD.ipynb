{
 "cells": [
  {
   "cell_type": "markdown",
   "id": "8e3077bb-6ec9-49d8-bb08-99227320eaa8",
   "metadata": {},
   "source": [
    "##### LU Decomposition"
   ]
  },
  {
   "cell_type": "code",
   "execution_count": 1,
   "id": "a194a8f9-4881-46e5-bd8f-b83b1daffe9d",
   "metadata": {},
   "outputs": [],
   "source": [
    "import numpy as np\n",
    "from scipy.linalg import lu"
   ]
  },
  {
   "cell_type": "code",
   "execution_count": 2,
   "id": "43b511d7-ce01-427a-9b00-1a0da9f38895",
   "metadata": {},
   "outputs": [],
   "source": [
    "M = np.array([[4,5,6],[2,1,4],[9,1,3]])"
   ]
  },
  {
   "cell_type": "code",
   "execution_count": 3,
   "id": "ccc96c0d-ceca-475e-a5a6-a6923dae2f23",
   "metadata": {},
   "outputs": [
    {
     "data": {
      "text/plain": [
       "array([[4, 5, 6],\n",
       "       [2, 1, 4],\n",
       "       [9, 1, 3]])"
      ]
     },
     "execution_count": 3,
     "metadata": {},
     "output_type": "execute_result"
    }
   ],
   "source": [
    "M"
   ]
  },
  {
   "cell_type": "code",
   "execution_count": 4,
   "id": "443bcb1f-45f4-42b3-bb4f-63a4291038a3",
   "metadata": {},
   "outputs": [],
   "source": [
    "P, L, U = lu(M)"
   ]
  },
  {
   "cell_type": "code",
   "execution_count": 5,
   "id": "723b8477-a043-4b19-9e72-ddc58d5ecaf0",
   "metadata": {},
   "outputs": [
    {
     "data": {
      "text/plain": [
       "array([[1.        , 0.        , 0.        ],\n",
       "       [0.44444444, 1.        , 0.        ],\n",
       "       [0.22222222, 0.17073171, 1.        ]])"
      ]
     },
     "execution_count": 5,
     "metadata": {},
     "output_type": "execute_result"
    }
   ],
   "source": [
    "L"
   ]
  },
  {
   "cell_type": "code",
   "execution_count": 6,
   "id": "41e51fed-dbd5-4d9a-8c8c-85fae0964ff5",
   "metadata": {},
   "outputs": [
    {
     "data": {
      "text/plain": [
       "array([[9.        , 1.        , 3.        ],\n",
       "       [0.        , 4.55555556, 4.66666667],\n",
       "       [0.        , 0.        , 2.53658537]])"
      ]
     },
     "execution_count": 6,
     "metadata": {},
     "output_type": "execute_result"
    }
   ],
   "source": [
    "U"
   ]
  },
  {
   "cell_type": "code",
   "execution_count": 7,
   "id": "7b302a51-60fe-4511-b89a-2bb5a84262e0",
   "metadata": {},
   "outputs": [
    {
     "data": {
      "text/plain": [
       "array([[4., 5., 6.],\n",
       "       [2., 1., 4.],\n",
       "       [9., 1., 3.]])"
      ]
     },
     "execution_count": 7,
     "metadata": {},
     "output_type": "execute_result"
    }
   ],
   "source": [
    "P @ L @ U"
   ]
  },
  {
   "cell_type": "code",
   "execution_count": 8,
   "id": "4635bc6f-a9a9-4f40-b4e4-3af981299490",
   "metadata": {},
   "outputs": [
    {
     "data": {
      "text/plain": [
       "array([[0., 1., 0.],\n",
       "       [0., 0., 1.],\n",
       "       [1., 0., 0.]])"
      ]
     },
     "execution_count": 8,
     "metadata": {},
     "output_type": "execute_result"
    }
   ],
   "source": [
    "P"
   ]
  },
  {
   "cell_type": "markdown",
   "id": "49102d21-102b-4545-a1ff-6f8ddce55d65",
   "metadata": {},
   "source": [
    "##### QR Decomposition"
   ]
  },
  {
   "cell_type": "code",
   "execution_count": 9,
   "id": "4c557659-c89c-4c46-9f31-39945a29b286",
   "metadata": {},
   "outputs": [],
   "source": [
    "M = np.array([[1,8,6],[3,2,0],[5,4,7],[9,3,5]])"
   ]
  },
  {
   "cell_type": "code",
   "execution_count": 10,
   "id": "890f52b9-9cf6-473d-9ba2-82b95867a1c8",
   "metadata": {},
   "outputs": [
    {
     "data": {
      "text/plain": [
       "array([[1, 8, 6],\n",
       "       [3, 2, 0],\n",
       "       [5, 4, 7],\n",
       "       [9, 3, 5]])"
      ]
     },
     "execution_count": 10,
     "metadata": {},
     "output_type": "execute_result"
    }
   ],
   "source": [
    "M"
   ]
  },
  {
   "cell_type": "code",
   "execution_count": 11,
   "id": "75339742-b327-4186-9af0-13093633d737",
   "metadata": {},
   "outputs": [],
   "source": [
    "from scipy.linalg import qr"
   ]
  },
  {
   "cell_type": "code",
   "execution_count": 12,
   "id": "aa5e5b53-8699-4c57-9f94-336346bca781",
   "metadata": {},
   "outputs": [],
   "source": [
    "Q, R = qr(M)"
   ]
  },
  {
   "cell_type": "code",
   "execution_count": 13,
   "id": "8b545f22-33d0-49db-83bc-420f1a1804f2",
   "metadata": {},
   "outputs": [
    {
     "data": {
      "text/plain": [
       "array([[-0.09284767,  0.95757447,  0.10380886,  0.25229779],\n",
       "       [-0.27854301,  0.05411897,  0.73842016, -0.61173573],\n",
       "       [-0.46423835,  0.17561054, -0.65755203, -0.56680598],\n",
       "       [-0.83562902, -0.22199823,  0.10763231,  0.49077103]])"
      ]
     },
     "execution_count": 13,
     "metadata": {},
     "output_type": "execute_result"
    }
   ],
   "source": [
    "Q"
   ]
  },
  {
   "cell_type": "code",
   "execution_count": 14,
   "id": "5029b719-5bfe-4c4d-a339-7b66ea8994cf",
   "metadata": {},
   "outputs": [
    {
     "data": {
      "text/plain": [
       "array([[-10.77032961,  -5.66370781,  -7.98489954],\n",
       "       [  0.        ,   7.80528115,   5.86472943],\n",
       "       [  0.        ,   0.        ,  -3.4418495 ],\n",
       "       [  0.        ,   0.        ,   0.        ]])"
      ]
     },
     "execution_count": 14,
     "metadata": {},
     "output_type": "execute_result"
    }
   ],
   "source": [
    "R"
   ]
  },
  {
   "cell_type": "code",
   "execution_count": 15,
   "id": "558a0faf-1664-40ca-ac11-545c2689dd10",
   "metadata": {},
   "outputs": [
    {
     "data": {
      "text/plain": [
       "(array([[1, 8, 6],\n",
       "        [3, 2, 0],\n",
       "        [5, 4, 7],\n",
       "        [9, 3, 5]]),\n",
       " array([[1., 8., 6.],\n",
       "        [3., 2., 0.],\n",
       "        [5., 4., 7.],\n",
       "        [9., 3., 5.]], dtype=float16))"
      ]
     },
     "execution_count": 15,
     "metadata": {},
     "output_type": "execute_result"
    }
   ],
   "source": [
    "M, np.array(Q @ R, dtype=np.float16)"
   ]
  },
  {
   "cell_type": "markdown",
   "id": "33ba7cc5-9d1e-4b58-b8ce-0e8a3ff2fe18",
   "metadata": {},
   "source": [
    "##### Correlation Methods"
   ]
  },
  {
   "cell_type": "code",
   "execution_count": 16,
   "id": "73f622a4-7f60-4779-84d6-0157f95c094b",
   "metadata": {},
   "outputs": [],
   "source": [
    "x = np.array([3,11,16,21,22,36,41,57,68,77])\n",
    "y = np.array([10,21,46,57,63,73,78,88,91,97])\n",
    "z = np.array([76,72,56,64,51,39,33,21,18,11])\n",
    "p = np.array([56,43,25,56,78,76,35,51,58,59])"
   ]
  },
  {
   "cell_type": "code",
   "execution_count": 17,
   "id": "78ae5927-7af1-46ab-9072-c3ffd64c7efd",
   "metadata": {},
   "outputs": [],
   "source": [
    "import matplotlib.pyplot as plt"
   ]
  },
  {
   "cell_type": "code",
   "execution_count": 18,
   "id": "4162fe95-f62e-443a-aa1f-495fba8a521e",
   "metadata": {},
   "outputs": [
    {
     "data": {
      "text/plain": [
       "<matplotlib.collections.PathCollection at 0x7fd224371d50>"
      ]
     },
     "execution_count": 18,
     "metadata": {},
     "output_type": "execute_result"
    },
    {
     "data": {
      "image/png": "[encoded data removed]",
      "text/plain": [
       "<Figure size 640x480 with 1 Axes>"
      ]
     },
     "metadata": {},
     "output_type": "display_data"
    }
   ],
   "source": [
    "plt.scatter(x, y)"
   ]
  },
  {
   "cell_type": "code",
   "execution_count": 19,
   "id": "1f0f181c-8df8-4f55-a5dc-b3504fe04563",
   "metadata": {},
   "outputs": [
    {
     "data": {
      "text/plain": [
       "[<matplotlib.lines.Line2D at 0x7fd22421f640>]"
      ]
     },
     "execution_count": 19,
     "metadata": {},
     "output_type": "execute_result"
    },
    {
     "data": {
      "image/png": "[encoded data removed]",
      "text/plain": [
       "<Figure size 640x480 with 1 Axes>"
      ]
     },
     "metadata": {},
     "output_type": "display_data"
    }
   ],
   "source": [
    "plt.plot(x, y)"
   ]
  },
  {
   "cell_type": "code",
   "execution_count": 20,
   "id": "90709afc-8653-4878-bc44-349f7b002c44",
   "metadata": {},
   "outputs": [
    {
     "data": {
      "text/plain": [
       "[<matplotlib.lines.Line2D at 0x7fd2240b1870>]"
      ]
     },
     "execution_count": 20,
     "metadata": {},
     "output_type": "execute_result"
    },
    {
     "data": {
      "image/png": "[encoded data removed]",
      "text/plain": [
       "<Figure size 640x480 with 1 Axes>"
      ]
     },
     "metadata": {},
     "output_type": "display_data"
    }
   ],
   "source": [
    "plt.plot(x, z)"
   ]
  },
  {
   "cell_type": "code",
   "execution_count": 21,
   "id": "f399c2a3-b274-4945-85b7-e7874f991da7",
   "metadata": {},
   "outputs": [
    {
     "data": {
      "text/plain": [
       "[<matplotlib.lines.Line2D at 0x7fd22413d420>]"
      ]
     },
     "execution_count": 21,
     "metadata": {},
     "output_type": "execute_result"
    },
    {
     "data": {
      "image/png": "[encoded data removed]",
      "text/plain": [
       "<Figure size 640x480 with 1 Axes>"
      ]
     },
     "metadata": {},
     "output_type": "display_data"
    }
   ],
   "source": [
    "plt.plot(x, p)"
   ]
  },
  {
   "cell_type": "code",
   "execution_count": 22,
   "id": "64449559-5b9d-47a0-90a7-39566a57f77f",
   "metadata": {},
   "outputs": [
    {
     "data": {
      "text/plain": [
       "[<matplotlib.lines.Line2D at 0x7fd22403a0b0>]"
      ]
     },
     "execution_count": 22,
     "metadata": {},
     "output_type": "execute_result"
    },
    {
     "data": {
      "image/png": "[encoded data removed]",
      "text/plain": [
       "<Figure size 1600x500 with 3 Axes>"
      ]
     },
     "metadata": {},
     "output_type": "display_data"
    }
   ],
   "source": [
    "plt.figure(figsize=(16,5))\n",
    "plt.subplot(1,3,1)\n",
    "plt.title('Positive Correlation')\n",
    "plt.plot(x, y)\n",
    "plt.subplot(1,3,2)\n",
    "plt.title('Negative Correlation')\n",
    "plt.plot(x, z)\n",
    "plt.subplot(1,3,3)\n",
    "plt.title('No-Correlation')\n",
    "plt.plot(x, p)"
   ]
  },
  {
   "cell_type": "code",
   "execution_count": 23,
   "id": "1eea111c-56a7-4892-bb2a-908ec098d9c2",
   "metadata": {},
   "outputs": [
    {
     "data": {
      "text/plain": [
       "array([[1.       , 0.9179201],\n",
       "       [0.9179201, 1.       ]])"
      ]
     },
     "execution_count": 23,
     "metadata": {},
     "output_type": "execute_result"
    }
   ],
   "source": [
    "np.corrcoef(x, y)"
   ]
  },
  {
   "cell_type": "code",
   "execution_count": 24,
   "id": "810186a1-c65a-4b40-a280-362f70fe9149",
   "metadata": {},
   "outputs": [
    {
     "data": {
      "text/plain": [
       "array([[ 1.        , -0.97400743],\n",
       "       [-0.97400743,  1.        ]])"
      ]
     },
     "execution_count": 24,
     "metadata": {},
     "output_type": "execute_result"
    }
   ],
   "source": [
    "np.corrcoef(x, z)"
   ]
  },
  {
   "cell_type": "code",
   "execution_count": 25,
   "id": "1165bcab-eb62-41e8-bf8a-c2f09949f5e4",
   "metadata": {},
   "outputs": [
    {
     "data": {
      "text/plain": [
       "array([[1.        , 0.15970874],\n",
       "       [0.15970874, 1.        ]])"
      ]
     },
     "execution_count": 25,
     "metadata": {},
     "output_type": "execute_result"
    }
   ],
   "source": [
    "np.corrcoef(x, p)"
   ]
  },
  {
   "cell_type": "code",
   "execution_count": 26,
   "id": "4351b0f3-ff37-46d1-a8ae-e6194140fe5b",
   "metadata": {},
   "outputs": [],
   "source": [
    "from scipy.stats import pearsonr"
   ]
  },
  {
   "cell_type": "code",
   "execution_count": 27,
   "id": "2b08a9b7-a863-4ff9-9c3d-d3007aa2eb22",
   "metadata": {},
   "outputs": [
    {
     "data": {
      "text/plain": [
       "PearsonRResult(statistic=0.9179200999513757, pvalue=0.00017967756314829717)"
      ]
     },
     "execution_count": 27,
     "metadata": {},
     "output_type": "execute_result"
    }
   ],
   "source": [
    "pearsonr(x, y)"
   ]
  },
  {
   "cell_type": "code",
   "execution_count": 28,
   "id": "b2d9783b-d7c7-4961-882e-627410d7d961",
   "metadata": {},
   "outputs": [
    {
     "data": {
      "text/plain": [
       "PearsonRResult(statistic=-0.9740074276901914, pvalue=1.9353702855863766e-06)"
      ]
     },
     "execution_count": 28,
     "metadata": {},
     "output_type": "execute_result"
    }
   ],
   "source": [
    "pearsonr(x, z)"
   ]
  },
  {
   "cell_type": "code",
   "execution_count": 29,
   "id": "b906fc02-fc73-4466-b6f0-eaf33c65c43e",
   "metadata": {},
   "outputs": [
    {
     "data": {
      "text/plain": [
       "PearsonRResult(statistic=0.1597087415917263, pvalue=0.6594127360961791)"
      ]
     },
     "execution_count": 29,
     "metadata": {},
     "output_type": "execute_result"
    }
   ],
   "source": [
    "pearsonr(x, p)"
   ]
  },
  {
   "cell_type": "code",
   "execution_count": 30,
   "id": "1a4050eb-96ed-470a-bcec-065706cb1dc2",
   "metadata": {},
   "outputs": [
    {
     "ename": "SyntaxError",
     "evalue": "invalid syntax (349046253.py, line 1)",
     "output_type": "error",
     "traceback": [
      "\u001b[0;36m  Cell \u001b[0;32mIn[30], line 1\u001b[0;36m\u001b[0m\n\u001b[0;31m    (len(x) * np.sum(x * y) - (np.sum(x) * np.sum(y))) /\u001b[0m\n\u001b[0m                                                         ^\u001b[0m\n\u001b[0;31mSyntaxError\u001b[0m\u001b[0;31m:\u001b[0m invalid syntax\n"
     ]
    }
   ],
   "source": [
    "(len(x) * np.sum(x * y) - (np.sum(x) * np.sum(y))) / \n",
    "np.sqrt((len(x)*np.sum(x**2)-(np.sum(x)**2))*(len(x)*np.sum(y**2)-(np.sum(y)**2)))"
   ]
  },
  {
   "cell_type": "code",
   "execution_count": 33,
   "id": "f746b583-9ac5-44c4-80f2-5f6aa439cbf1",
   "metadata": {},
   "outputs": [
    {
     "ename": "SyntaxError",
     "evalue": "invalid syntax (4275304207.py, line 1)",
     "output_type": "error",
     "traceback": [
      "\u001b[0;36m  Cell \u001b[0;32mIn[33], line 1\u001b[0;36m\u001b[0m\n\u001b[0;31m    (len(x) * np.sum(x * z) - (np.sum(x) * np.sum(z))) /\u001b[0m\n\u001b[0m                                                         ^\u001b[0m\n\u001b[0;31mSyntaxError\u001b[0m\u001b[0;31m:\u001b[0m invalid syntax\n"
     ]
    }
   ],
   "source": [
    "(len(x) * np.sum(x * z) - (np.sum(x) * np.sum(z))) / \n",
    "np.sqrt((len(x)*np.sum(x**2)-(np.sum(x)**2))*(len(x)*np.sum(z**2)-(np.sum(z)**2)))"
   ]
  },
  {
   "cell_type": "code",
   "execution_count": 34,
   "id": "09dca3b3-6d0a-4fb1-9e1a-380b93b78df5",
   "metadata": {},
   "outputs": [],
   "source": [
    "height = np.array([151, 174, 138, 186, 128, 136, 179, 163, 152, 131])\n",
    "weight = np.array([63, 81, 56, 91, 47, 57, 76, 72, 62, 48])"
   ]
  },
  {
   "cell_type": "code",
   "execution_count": 35,
   "id": "41ee011c-bb22-41d2-9bb4-d6b2b4bb76cf",
   "metadata": {},
   "outputs": [
    {
     "data": {
      "text/plain": [
       "array([[1.       , 0.9771296],\n",
       "       [0.9771296, 1.       ]])"
      ]
     },
     "execution_count": 35,
     "metadata": {},
     "output_type": "execute_result"
    }
   ],
   "source": [
    "np.corrcoef(height, weight)"
   ]
  },
  {
   "cell_type": "markdown",
   "id": "66a3c3d0-89c9-4a5b-b5cd-aa32159457e5",
   "metadata": {},
   "source": [
    "##### Normalization"
   ]
  },
  {
   "cell_type": "code",
   "execution_count": 36,
   "id": "21798138-5703-4c9c-a75e-714ca3db1b79",
   "metadata": {},
   "outputs": [],
   "source": [
    "d = np.array([5,8,12,4,9,11,10])"
   ]
  },
  {
   "cell_type": "code",
   "execution_count": 37,
   "id": "78243bfc-58f5-4ca2-b630-e782767a38fb",
   "metadata": {},
   "outputs": [
    {
     "data": {
      "text/plain": [
       "array([0.125, 0.5  , 1.   , 0.   , 0.625, 0.875, 0.75 ])"
      ]
     },
     "execution_count": 37,
     "metadata": {},
     "output_type": "execute_result"
    }
   ],
   "source": [
    "(d - d.min()) / (d.max() - d.min())"
   ]
  },
  {
   "cell_type": "code",
   "execution_count": 38,
   "id": "2122685b-3f98-486d-933d-7f9ada254f24",
   "metadata": {},
   "outputs": [],
   "source": [
    "e = np.array([315, 819, 502, 301, 214, 802, 628])"
   ]
  },
  {
   "cell_type": "code",
   "execution_count": 39,
   "id": "b3b1ed0a-856b-4cda-b8ad-72b5e65b4e74",
   "metadata": {},
   "outputs": [
    {
     "data": {
      "text/plain": [
       "array([0.16694215, 1.        , 0.47603306, 0.14380165, 0.        ,\n",
       "       0.97190083, 0.68429752])"
      ]
     },
     "execution_count": 39,
     "metadata": {},
     "output_type": "execute_result"
    }
   ],
   "source": [
    "(e - e.min()) / (e.max() - e.min())"
   ]
  },
  {
   "cell_type": "code",
   "execution_count": 40,
   "id": "e897e012-dfa3-4fc2-8220-2bd879b16825",
   "metadata": {},
   "outputs": [],
   "source": [
    "M = np.array([[5,315],[8,819], [12,502], [4,301],[9,214], [11,802],[10, 628]])"
   ]
  },
  {
   "cell_type": "code",
   "execution_count": 41,
   "id": "eaa46466-ed72-4b16-b3ed-218781be9737",
   "metadata": {},
   "outputs": [
    {
     "data": {
      "text/plain": [
       "array([[  5, 315],\n",
       "       [  8, 819],\n",
       "       [ 12, 502],\n",
       "       [  4, 301],\n",
       "       [  9, 214],\n",
       "       [ 11, 802],\n",
       "       [ 10, 628]])"
      ]
     },
     "execution_count": 41,
     "metadata": {},
     "output_type": "execute_result"
    }
   ],
   "source": [
    "M"
   ]
  },
  {
   "cell_type": "code",
   "execution_count": 42,
   "id": "1207e359-1763-46f6-9854-554107950ce5",
   "metadata": {},
   "outputs": [
    {
     "data": {
      "text/plain": [
       "array([[0.125     , 0.16694215],\n",
       "       [0.5       , 1.        ],\n",
       "       [1.        , 0.47603306],\n",
       "       [0.        , 0.14380165],\n",
       "       [0.625     , 0.        ],\n",
       "       [0.875     , 0.97190083],\n",
       "       [0.75      , 0.68429752]])"
      ]
     },
     "execution_count": 42,
     "metadata": {},
     "output_type": "execute_result"
    }
   ],
   "source": [
    "# Import the class\n",
    "from sklearn.preprocessing import MinMaxScaler\n",
    "# Create the object\n",
    "scaler = MinMaxScaler()\n",
    "# Apply the method\n",
    "scaler.fit_transform(M)"
   ]
  },
  {
   "cell_type": "code",
   "execution_count": 43,
   "id": "33c64f0d-27b2-4f16-8709-db9df50cf7bf",
   "metadata": {},
   "outputs": [
    {
     "data": {
      "text/plain": [
       "<matplotlib.collections.PathCollection at 0x7fd21bfc2470>"
      ]
     },
     "execution_count": 43,
     "metadata": {},
     "output_type": "execute_result"
    },
    {
     "data": {
      "image/png": "[encoded data removed]",
      "text/plain": [
       "<Figure size 640x480 with 1 Axes>"
      ]
     },
     "metadata": {},
     "output_type": "display_data"
    }
   ],
   "source": [
    "plt.scatter(d, range(7))\n",
    "plt.scatter(d.mean(), 3.13, color = 'r')"
   ]
  },
  {
   "cell_type": "markdown",
   "id": "f2f9f64c-d8c4-44b3-9401-05f2496217a2",
   "metadata": {},
   "source": [
    "##### Variance"
   ]
  },
  {
   "cell_type": "code",
   "execution_count": 58,
   "id": "32cbfb6f-558e-4d53-b71e-7d00a0eb03b5",
   "metadata": {},
   "outputs": [],
   "source": [
    "variance = np.sum((d - d.mean()) ** 2)/len(d)"
   ]
  },
  {
   "cell_type": "code",
   "execution_count": 59,
   "id": "55a02136-8b27-43cc-a78f-ef75ebb94228",
   "metadata": {},
   "outputs": [
    {
     "data": {
      "text/plain": [
       "7.673469387755101"
      ]
     },
     "execution_count": 59,
     "metadata": {},
     "output_type": "execute_result"
    }
   ],
   "source": [
    "variance"
   ]
  },
  {
   "cell_type": "code",
   "execution_count": 60,
   "id": "b3b45764-3a11-47a6-96c1-e5d327f91d79",
   "metadata": {},
   "outputs": [],
   "source": [
    "v = np.ones(8) + 4"
   ]
  },
  {
   "cell_type": "code",
   "execution_count": 61,
   "id": "60de9011-cfef-4f57-974d-4cd6f0a3ae7b",
   "metadata": {},
   "outputs": [
    {
     "data": {
      "text/plain": [
       "array([5., 5., 5., 5., 5., 5., 5., 5.])"
      ]
     },
     "execution_count": 61,
     "metadata": {},
     "output_type": "execute_result"
    }
   ],
   "source": [
    "v"
   ]
  },
  {
   "cell_type": "code",
   "execution_count": 62,
   "id": "f6bdba2b-8536-4bcd-afc7-dc6f113f326f",
   "metadata": {},
   "outputs": [
    {
     "data": {
      "text/plain": [
       "array([ 5,  8, 12,  4,  9, 11, 10])"
      ]
     },
     "execution_count": 62,
     "metadata": {},
     "output_type": "execute_result"
    }
   ],
   "source": [
    "d"
   ]
  },
  {
   "cell_type": "markdown",
   "id": "7af180b6-a9ef-4925-9c2a-a85ef174d8b4",
   "metadata": {},
   "source": [
    "##### Standard Deviation"
   ]
  },
  {
   "cell_type": "code",
   "execution_count": 63,
   "id": "0463a737-5c01-453c-b0d9-8c2c8c6ac93a",
   "metadata": {},
   "outputs": [
    {
     "data": {
      "text/plain": [
       "2.7701027756664733"
      ]
     },
     "execution_count": 63,
     "metadata": {},
     "output_type": "execute_result"
    }
   ],
   "source": [
    "np.sqrt(variance)"
   ]
  },
  {
   "cell_type": "code",
   "execution_count": 64,
   "id": "34ad55c0-b452-4845-8ba5-977e96742453",
   "metadata": {},
   "outputs": [
    {
     "data": {
      "text/plain": [
       "2.7701027756664733"
      ]
     },
     "execution_count": 64,
     "metadata": {},
     "output_type": "execute_result"
    }
   ],
   "source": [
    "np.std(d)"
   ]
  },
  {
   "cell_type": "code",
   "execution_count": 66,
   "id": "dafe7818-5039-4b2e-a216-e400aa10cb07",
   "metadata": {},
   "outputs": [],
   "source": [
    "z = (d - d.mean()) / d.std()"
   ]
  },
  {
   "cell_type": "code",
   "execution_count": 67,
   "id": "076cc373-a368-4b33-aa19-6d823ebb8bb8",
   "metadata": {},
   "outputs": [
    {
     "data": {
      "text/plain": [
       "1.0000000000000002"
      ]
     },
     "execution_count": 67,
     "metadata": {},
     "output_type": "execute_result"
    }
   ],
   "source": [
    "z.std()"
   ]
  },
  {
   "cell_type": "code",
   "execution_count": 69,
   "id": "1fd3e448-4270-49f7-befd-14e57846b0f4",
   "metadata": {},
   "outputs": [],
   "source": [
    "# Import the class\n",
    "from sklearn.preprocessing import StandardScaler\n",
    "# Create the object\n",
    "scaler = StandardScaler()\n",
    "# Apply the method\n",
    "new = scaler.fit_transform(M)"
   ]
  },
  {
   "cell_type": "code",
   "execution_count": 70,
   "id": "5cea8cca-e1d2-4fd2-a6cb-77005fc64aad",
   "metadata": {},
   "outputs": [
    {
     "data": {
      "text/plain": [
       "array([[-1.2377055 , -0.86197809],\n",
       "       [-0.15471319,  1.34809363],\n",
       "       [ 1.28927656, -0.04197132],\n",
       "       [-1.59870293, -0.92336897],\n",
       "       [ 0.20628425, -1.30486944],\n",
       "       [ 0.92827912,  1.27354756],\n",
       "       [ 0.56728169,  0.51054661]])"
      ]
     },
     "execution_count": 70,
     "metadata": {},
     "output_type": "execute_result"
    }
   ],
   "source": [
    "new"
   ]
  },
  {
   "cell_type": "code",
   "execution_count": 72,
   "id": "cda0a4a5-4e4e-4d47-9cd4-0ce2adc5e7b4",
   "metadata": {},
   "outputs": [
    {
     "data": {
      "text/plain": [
       "1.0000000000000002"
      ]
     },
     "execution_count": 72,
     "metadata": {},
     "output_type": "execute_result"
    }
   ],
   "source": [
    "new[:,0].std()"
   ]
  },
  {
   "cell_type": "code",
   "execution_count": 73,
   "id": "864c9845-b5a2-413e-82b4-47a9fc267b25",
   "metadata": {},
   "outputs": [
    {
     "data": {
      "text/plain": [
       "1.0"
      ]
     },
     "execution_count": 73,
     "metadata": {},
     "output_type": "execute_result"
    }
   ],
   "source": [
    "new[:,1].std()"
   ]
  },
  {
   "cell_type": "code",
   "execution_count": 74,
   "id": "3926ce7c-5591-42ea-a3c3-717f041c9dc5",
   "metadata": {},
   "outputs": [
    {
     "data": {
      "text/plain": [
       "array([ 3, 11, 16, 21, 22, 36, 41, 57, 68, 77])"
      ]
     },
     "execution_count": 74,
     "metadata": {},
     "output_type": "execute_result"
    }
   ],
   "source": [
    "x"
   ]
  },
  {
   "cell_type": "code",
   "execution_count": 75,
   "id": "f02547dc-c8fd-4a2e-8a6f-c19370812cc4",
   "metadata": {},
   "outputs": [
    {
     "data": {
      "text/plain": [
       "array([10, 21, 46, 57, 63, 73, 78, 88, 91, 97])"
      ]
     },
     "execution_count": 75,
     "metadata": {},
     "output_type": "execute_result"
    }
   ],
   "source": [
    "y"
   ]
  },
  {
   "cell_type": "code",
   "execution_count": 78,
   "id": "0c5fe894-934c-47f7-ab8e-7f608216768a",
   "metadata": {},
   "outputs": [],
   "source": [
    "x = np.array([3,11,16,21,22,36,41,57,68,77])\n",
    "y = np.array([10,21,46,57,63,73,78,88,91,97])\n",
    "z = np.array([76,72,56,64,51,39,33,21,18,11])\n",
    "p = np.array([56,43,25,56,78,76,35,51,58,59])"
   ]
  },
  {
   "cell_type": "code",
   "execution_count": 79,
   "id": "c94d19a0-e2c5-4920-a519-04516fba9a84",
   "metadata": {},
   "outputs": [
    {
     "data": {
      "text/plain": [
       "array([[633.28888889, 679.35555556],\n",
       "       [679.35555556, 864.93333333]])"
      ]
     },
     "execution_count": 79,
     "metadata": {},
     "output_type": "execute_result"
    }
   ],
   "source": [
    "np.cov(x, y)"
   ]
  },
  {
   "cell_type": "code",
   "execution_count": 80,
   "id": "c969fdb6-07cd-4a8d-989c-54a95abd81da",
   "metadata": {},
   "outputs": [
    {
     "data": {
      "text/plain": [
       "array([[ 633.28888889, -568.46666667],\n",
       "       [-568.46666667,  537.87777778]])"
      ]
     },
     "execution_count": 80,
     "metadata": {},
     "output_type": "execute_result"
    }
   ],
   "source": [
    "np.cov(x, z)"
   ]
  },
  {
   "cell_type": "code",
   "execution_count": 81,
   "id": "a08e1314-34e0-4ae1-9c53-dba97e8b24a5",
   "metadata": {},
   "outputs": [
    {
     "data": {
      "text/plain": [
       "array([[633.28888889,  66.17777778],\n",
       "       [ 66.17777778, 271.12222222]])"
      ]
     },
     "execution_count": 81,
     "metadata": {},
     "output_type": "execute_result"
    }
   ],
   "source": [
    "np.cov(x, p)"
   ]
  },
  {
   "cell_type": "code",
   "execution_count": 83,
   "id": "459b0915-88c3-4155-9677-38d42855022b",
   "metadata": {},
   "outputs": [
    {
     "data": {
      "text/plain": [
       "array([[8.95238095e+00, 3.66714286e+02],\n",
       "       [3.66714286e+02, 6.06729524e+04]])"
      ]
     },
     "execution_count": 83,
     "metadata": {},
     "output_type": "execute_result"
    }
   ],
   "source": [
    "np.cov(M[:,0], M[:,1])"
   ]
  },
  {
   "cell_type": "markdown",
   "id": "5d74bdd8-a2f4-4c69-83c7-4a801eafce42",
   "metadata": {},
   "source": [
    "##### Principal Component Analysis"
   ]
  },
  {
   "cell_type": "code",
   "execution_count": 93,
   "id": "3802df29-c575-4048-8e4f-6fe50957a16c",
   "metadata": {},
   "outputs": [],
   "source": [
    "data = np.array([[67,3,1089,56],[48,1,1234,51],[87,7,1256,59],\n",
    "                [76,5,1052,58],[71,9,1114,62],[71,6,1068,50],\n",
    "                [73,8,1139,49],[70,4,1139,60]])"
   ]
  },
  {
   "cell_type": "code",
   "execution_count": 94,
   "id": "480791c4-2128-4051-af17-9bf216e78e71",
   "metadata": {},
   "outputs": [
    {
     "data": {
      "text/plain": [
       "array([[  67,    3, 1089,   56],\n",
       "       [  48,    1, 1234,   51],\n",
       "       [  87,    7, 1256,   59],\n",
       "       [  76,    5, 1052,   58],\n",
       "       [  71,    9, 1114,   62],\n",
       "       [  71,    6, 1068,   50],\n",
       "       [  73,    8, 1139,   49],\n",
       "       [  70,    4, 1139,   60]])"
      ]
     },
     "execution_count": 94,
     "metadata": {},
     "output_type": "execute_result"
    }
   ],
   "source": [
    "data"
   ]
  },
  {
   "cell_type": "code",
   "execution_count": 95,
   "id": "f4785ef1-d6ce-4355-aec9-d3ab41434fc6",
   "metadata": {},
   "outputs": [
    {
     "data": {
      "text/plain": [
       "(8, 4)"
      ]
     },
     "execution_count": 95,
     "metadata": {},
     "output_type": "execute_result"
    }
   ],
   "source": [
    "data.shape"
   ]
  },
  {
   "cell_type": "code",
   "execution_count": 109,
   "id": "e4d4a395-b6fe-41b6-9ee5-7229d6644b9c",
   "metadata": {},
   "outputs": [],
   "source": [
    "# import the class\n",
    "from sklearn.decomposition import PCA\n",
    "\n",
    "# create the object\n",
    "pca = PCA()\n",
    "\n",
    "x_scaled = scaler.fit_transform(data)\n",
    "\n",
    "# apply the algorithm\n",
    "x_pca = pca.fit_transform(x_scaled)"
   ]
  },
  {
   "cell_type": "code",
   "execution_count": 110,
   "id": "6b544ac3-129e-4e59-8210-007d8726ea7a",
   "metadata": {},
   "outputs": [
    {
     "data": {
      "text/plain": [
       "array([[ 0.64137018, -0.53076267, -0.80809099, -0.37799898],\n",
       "       [ 3.15660158,  0.8961504 ,  0.09301393,  0.31967722],\n",
       "       [-1.46629459,  1.92541462,  0.65820173, -0.55657025],\n",
       "       [-0.69375773, -0.85873061, -0.81341391, -0.4368813 ],\n",
       "       [-1.55517893,  0.10248127, -0.52636458,  1.17456168],\n",
       "       [ 0.14796496, -1.38752082,  0.71849428, -0.18171377],\n",
       "       [-0.19884737, -0.59343111,  1.66367099,  0.18219123],\n",
       "       [-0.03185811,  0.44639892, -0.98551145, -0.12326582]])"
      ]
     },
     "execution_count": 110,
     "metadata": {},
     "output_type": "execute_result"
    }
   ],
   "source": [
    "x_pca"
   ]
  },
  {
   "cell_type": "code",
   "execution_count": 111,
   "id": "17d7a89c-88c2-4b5a-85da-5eb88308bd46",
   "metadata": {},
   "outputs": [
    {
     "data": {
      "text/plain": [
       "array([0.48399498, 0.25051822, 0.19652694, 0.06895986])"
      ]
     },
     "execution_count": 111,
     "metadata": {},
     "output_type": "execute_result"
    }
   ],
   "source": [
    "pca.explained_variance_ratio_"
   ]
  },
  {
   "cell_type": "code",
   "execution_count": 113,
   "id": "a792d80e-1c82-4e8b-981d-5dd646ddd53e",
   "metadata": {},
   "outputs": [
    {
     "data": {
      "text/plain": [
       "[<matplotlib.lines.Line2D at 0x7fd217621f30>]"
      ]
     },
     "execution_count": 113,
     "metadata": {},
     "output_type": "execute_result"
    },
    {
     "data": {
      "image/png": "[encoded data removed]",
      "text/plain": [
       "<Figure size 640x480 with 1 Axes>"
      ]
     },
     "metadata": {},
     "output_type": "display_data"
    }
   ],
   "source": [
    "plt.xlabel('Feature Number')\n",
    "plt.ylabel('Variance')\n",
    "plt.grid()\n",
    "plt.bar(range(4), pca.explained_variance_ratio_, color='#A678B3')\n",
    "plt.plot(range(4), pca.explained_variance_ratio_, marker='.', color='c')"
   ]
  },
  {
   "cell_type": "code",
   "execution_count": 103,
   "id": "0d8c5d03-aeb4-40d8-9a76-fe5c2cee68bc",
   "metadata": {},
   "outputs": [
    {
     "data": {
      "text/plain": [
       "(8, 4)"
      ]
     },
     "execution_count": 103,
     "metadata": {},
     "output_type": "execute_result"
    }
   ],
   "source": [
    "x_pca.shape"
   ]
  },
  {
   "cell_type": "code",
   "execution_count": 104,
   "id": "b089716d-71a2-423b-8f5a-9cfd5c671781",
   "metadata": {},
   "outputs": [],
   "source": [
    "pca = PCA(n_components=2)"
   ]
  },
  {
   "cell_type": "code",
   "execution_count": 105,
   "id": "997d9f6d-701e-463b-9e43-73cee445ffb3",
   "metadata": {},
   "outputs": [],
   "source": [
    "x_pca = pca.fit_transform(x_scaled)"
   ]
  },
  {
   "cell_type": "code",
   "execution_count": 106,
   "id": "e1380336-b828-48a2-bb15-8210f0635070",
   "metadata": {},
   "outputs": [
    {
     "data": {
      "text/plain": [
       "array([[ 0.64137018, -0.53076267],\n",
       "       [ 3.15660158,  0.8961504 ],\n",
       "       [-1.46629459,  1.92541462],\n",
       "       [-0.69375773, -0.85873061],\n",
       "       [-1.55517893,  0.10248127],\n",
       "       [ 0.14796496, -1.38752082],\n",
       "       [-0.19884737, -0.59343111],\n",
       "       [-0.03185811,  0.44639892]])"
      ]
     },
     "execution_count": 106,
     "metadata": {},
     "output_type": "execute_result"
    }
   ],
   "source": [
    "x_pca"
   ]
  },
  {
   "cell_type": "code",
   "execution_count": null,
   "id": "b82b6eba-de0a-4e11-8d7a-54c395aa2a34",
   "metadata": {},
   "outputs": [],
   "source": []
  }
 ],
 "metadata": {
  "kernelspec": {
   "display_name": "Python 3 (ipykernel)",
   "language": "python",
   "name": "python3"
  },
  "language_info": {
   "codemirror_mode": {
    "name": "ipython",
    "version": 3
   },
   "file_extension": ".py",
   "mimetype": "text/x-python",
   "name": "python",
   "nbconvert_exporter": "python",
   "pygments_lexer": "ipython3",
   "version": "3.10.12"
  }
 },
 "nbformat": 4,
 "nbformat_minor": 5
}
