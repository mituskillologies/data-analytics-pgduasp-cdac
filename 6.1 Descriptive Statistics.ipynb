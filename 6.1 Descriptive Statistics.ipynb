{
 "cells": [
  {
   "cell_type": "markdown",
   "id": "59eca04b-3891-4682-b307-3278044c7447",
   "metadata": {},
   "source": [
    "#### Measure of Central Tendency"
   ]
  },
  {
   "cell_type": "markdown",
   "id": "32c55a92-64d5-4329-b475-e5a03a038992",
   "metadata": {},
   "source": [
    "##### Mean"
   ]
  },
  {
   "cell_type": "code",
   "execution_count": 3,
   "id": "a950b24d-6c5b-4346-b03c-c6a2dcabc30f",
   "metadata": {},
   "outputs": [],
   "source": [
    "import numpy as np"
   ]
  },
  {
   "cell_type": "code",
   "execution_count": 4,
   "id": "b3d8effe-f9ce-4b53-9ed5-40f42d687829",
   "metadata": {},
   "outputs": [],
   "source": [
    "num = np.array([56,32,16,93,63,41,27])"
   ]
  },
  {
   "cell_type": "code",
   "execution_count": 5,
   "id": "438d8482-6ef6-4e3f-88a1-dcb086e235b2",
   "metadata": {},
   "outputs": [
    {
     "data": {
      "text/plain": [
       "46.857142857142854"
      ]
     },
     "execution_count": 5,
     "metadata": {},
     "output_type": "execute_result"
    }
   ],
   "source": [
    "sum(num) / num.size"
   ]
  },
  {
   "cell_type": "code",
   "execution_count": 6,
   "id": "0113275c-5679-4fe1-ba86-0ed3223215b3",
   "metadata": {},
   "outputs": [
    {
     "data": {
      "text/plain": [
       "46.857142857142854"
      ]
     },
     "execution_count": 6,
     "metadata": {},
     "output_type": "execute_result"
    }
   ],
   "source": [
    "num.mean()"
   ]
  },
  {
   "cell_type": "markdown",
   "id": "b73ada40-8e8a-4030-874c-cc94412c0f41",
   "metadata": {},
   "source": [
    "##### Median"
   ]
  },
  {
   "cell_type": "code",
   "execution_count": 8,
   "id": "6d579dc1-b2ed-445d-a7ce-1e907668ba3a",
   "metadata": {},
   "outputs": [
    {
     "data": {
      "text/plain": [
       "array([56, 32, 16, 93, 63, 41, 27])"
      ]
     },
     "execution_count": 8,
     "metadata": {},
     "output_type": "execute_result"
    }
   ],
   "source": [
    "num"
   ]
  },
  {
   "cell_type": "code",
   "execution_count": 9,
   "id": "27532dae-3c8d-41e2-83a0-d346a176c48a",
   "metadata": {},
   "outputs": [
    {
     "data": {
      "text/plain": [
       "[16, 27, 32, 41, 56, 63, 93]"
      ]
     },
     "execution_count": 9,
     "metadata": {},
     "output_type": "execute_result"
    }
   ],
   "source": [
    "sorted(num)"
   ]
  },
  {
   "cell_type": "code",
   "execution_count": 11,
   "id": "85165c06-2f8e-4316-9206-69ad93b52aee",
   "metadata": {},
   "outputs": [
    {
     "data": {
      "text/plain": [
       "41.0"
      ]
     },
     "execution_count": 11,
     "metadata": {},
     "output_type": "execute_result"
    }
   ],
   "source": [
    "np.median(num)"
   ]
  },
  {
   "cell_type": "markdown",
   "id": "cf311f73-68e9-4d93-9b42-bb56287718cf",
   "metadata": {},
   "source": [
    "##### Mode"
   ]
  },
  {
   "cell_type": "code",
   "execution_count": 14,
   "id": "29402db8-8e3b-4eb2-ab51-117fc4d6abb5",
   "metadata": {},
   "outputs": [],
   "source": [
    "import pandas as pd"
   ]
  },
  {
   "cell_type": "code",
   "execution_count": 15,
   "id": "d9fe2f05-aa87-44e9-bea8-288008f736d5",
   "metadata": {},
   "outputs": [],
   "source": [
    "s = pd.Series([6,5,4,7,8,3,4,5,4,6,7,4,5,6])"
   ]
  },
  {
   "cell_type": "code",
   "execution_count": 16,
   "id": "900f5413-c85b-43bd-9f3b-042152149499",
   "metadata": {},
   "outputs": [
    {
     "data": {
      "text/plain": [
       "0    4\n",
       "dtype: int64"
      ]
     },
     "execution_count": 16,
     "metadata": {},
     "output_type": "execute_result"
    }
   ],
   "source": [
    "s.mode()"
   ]
  },
  {
   "cell_type": "code",
   "execution_count": 17,
   "id": "f3866f66-c52e-43b0-92fe-798d30d30791",
   "metadata": {},
   "outputs": [
    {
     "data": {
      "text/plain": [
       "4"
      ]
     },
     "execution_count": 17,
     "metadata": {},
     "output_type": "execute_result"
    }
   ],
   "source": [
    "s.mode()[0]"
   ]
  },
  {
   "cell_type": "code",
   "execution_count": 18,
   "id": "4c346e44-528b-4bbd-b168-cb2dde067dc8",
   "metadata": {},
   "outputs": [
    {
     "data": {
      "text/plain": [
       "4    4\n",
       "6    3\n",
       "5    3\n",
       "7    2\n",
       "8    1\n",
       "3    1\n",
       "Name: count, dtype: int64"
      ]
     },
     "execution_count": 18,
     "metadata": {},
     "output_type": "execute_result"
    }
   ],
   "source": [
    "s.value_counts()"
   ]
  },
  {
   "cell_type": "code",
   "execution_count": 19,
   "id": "818ddde8-276d-4533-ad8d-af9fcade7eac",
   "metadata": {},
   "outputs": [],
   "source": [
    "s = pd.Series([6,5,4,7,8,3,4,5,4,6,6,4,5,6])"
   ]
  },
  {
   "cell_type": "code",
   "execution_count": 20,
   "id": "50761290-729c-4992-819e-12764373dde9",
   "metadata": {},
   "outputs": [
    {
     "data": {
      "text/plain": [
       "0    4\n",
       "1    6\n",
       "dtype: int64"
      ]
     },
     "execution_count": 20,
     "metadata": {},
     "output_type": "execute_result"
    }
   ],
   "source": [
    "s.mode()"
   ]
  },
  {
   "cell_type": "code",
   "execution_count": 21,
   "id": "9688fb1e-b73d-4f24-aa7a-0fa1a9157d82",
   "metadata": {},
   "outputs": [],
   "source": [
    "data = np.array([56,32,16,93,63,41,27,28])"
   ]
  },
  {
   "cell_type": "code",
   "execution_count": 22,
   "id": "c01a5618-dbc2-4c66-8ccf-f549610159c0",
   "metadata": {},
   "outputs": [
    {
     "data": {
      "text/plain": [
       "44.5"
      ]
     },
     "execution_count": 22,
     "metadata": {},
     "output_type": "execute_result"
    }
   ],
   "source": [
    "np.mean(data)"
   ]
  },
  {
   "cell_type": "code",
   "execution_count": 24,
   "id": "cf010807-ede2-48ae-8d5d-776604e66e2e",
   "metadata": {},
   "outputs": [
    {
     "data": {
      "text/plain": [
       "36.5"
      ]
     },
     "execution_count": 24,
     "metadata": {},
     "output_type": "execute_result"
    }
   ],
   "source": [
    "np.median(data)"
   ]
  },
  {
   "cell_type": "code",
   "execution_count": 25,
   "id": "df32d751-6020-4922-b34a-c198fa69dc6a",
   "metadata": {},
   "outputs": [],
   "source": [
    "data = np.array([56,32,16,93,63,41,27,28,506])"
   ]
  },
  {
   "cell_type": "code",
   "execution_count": 26,
   "id": "932bc9d4-ff08-4d6d-977c-2a08121b1326",
   "metadata": {},
   "outputs": [
    {
     "data": {
      "text/plain": [
       "(95.77777777777777, 41.0)"
      ]
     },
     "execution_count": 26,
     "metadata": {},
     "output_type": "execute_result"
    }
   ],
   "source": [
    "np.mean(data), np.median(data)"
   ]
  },
  {
   "cell_type": "markdown",
   "id": "551fe693-8d2a-49f0-acd8-9655eeb19f62",
   "metadata": {},
   "source": [
    "##### Normal Distribution"
   ]
  },
  {
   "cell_type": "code",
   "execution_count": 28,
   "id": "bbaacbab-c66d-43e0-8d64-795f5340dea7",
   "metadata": {},
   "outputs": [],
   "source": [
    "x = np.array([1,2,2,3,3,3,4,4,4,4,5,5,5,5,5,5,6,6,6,6,7,7,7,8,8,9])"
   ]
  },
  {
   "cell_type": "code",
   "execution_count": 32,
   "id": "d693454b-eda4-4535-afcf-d32ae92e8b6b",
   "metadata": {},
   "outputs": [
    {
     "data": {
      "text/plain": [
       "(5.0, 5.0, 5)"
      ]
     },
     "execution_count": 32,
     "metadata": {},
     "output_type": "execute_result"
    }
   ],
   "source": [
    "np.mean(x), np.median(x), pd.Series(x).mode()[0]"
   ]
  },
  {
   "cell_type": "code",
   "execution_count": 33,
   "id": "e774ccb4-a73b-4a9b-a848-7c3ba9dc1575",
   "metadata": {},
   "outputs": [
    {
     "data": {
      "image/png": "[encoded data removed]",
      "text/plain": [
       "<Figure size 640x480 with 1 Axes>"
      ]
     },
     "metadata": {},
     "output_type": "display_data"
    }
   ],
   "source": [
    "import seaborn as sns\n",
    "sns.kdeplot(x);"
   ]
  },
  {
   "cell_type": "markdown",
   "id": "171d398c-99e2-42d1-aca1-2d5bf4c9d665",
   "metadata": {},
   "source": [
    "#### Measure of Dispersion"
   ]
  },
  {
   "cell_type": "markdown",
   "id": "9b005817-a28a-49ca-a9f1-f8749aff572b",
   "metadata": {},
   "source": [
    "##### Mean Absolute Deviation"
   ]
  },
  {
   "cell_type": "code",
   "execution_count": 36,
   "id": "1a49c6b4-d473-4a4b-8bc6-2dc83d4c62bd",
   "metadata": {},
   "outputs": [],
   "source": [
    "num = np.array([23,18,63,49,78,81,33,62])"
   ]
  },
  {
   "cell_type": "code",
   "execution_count": 37,
   "id": "9bf82181-2b07-46ec-b8b6-4a7f8a7cb8dd",
   "metadata": {},
   "outputs": [
    {
     "data": {
      "text/plain": [
       "array([-27.875, -32.875,  12.125,  -1.875,  27.125,  30.125, -17.875,\n",
       "        11.125])"
      ]
     },
     "execution_count": 37,
     "metadata": {},
     "output_type": "execute_result"
    }
   ],
   "source": [
    "num - num.mean()"
   ]
  },
  {
   "cell_type": "code",
   "execution_count": 38,
   "id": "66b2f2a4-cae5-44c4-be23-4058653c26e9",
   "metadata": {},
   "outputs": [
    {
     "data": {
      "text/plain": [
       "array([27.875, 32.875, 12.125,  1.875, 27.125, 30.125, 17.875, 11.125])"
      ]
     },
     "execution_count": 38,
     "metadata": {},
     "output_type": "execute_result"
    }
   ],
   "source": [
    "abs(num - num.mean())"
   ]
  },
  {
   "cell_type": "code",
   "execution_count": 39,
   "id": "bad4c17a-1dcd-47c1-9be3-415642487a3e",
   "metadata": {},
   "outputs": [
    {
     "data": {
      "text/plain": [
       "20.125"
      ]
     },
     "execution_count": 39,
     "metadata": {},
     "output_type": "execute_result"
    }
   ],
   "source": [
    "np.mean(abs(num - num.mean()))"
   ]
  },
  {
   "cell_type": "markdown",
   "id": "73f69ef6-3e82-4e0b-801f-c4a6973675a9",
   "metadata": {},
   "source": [
    "##### Variance"
   ]
  },
  {
   "cell_type": "code",
   "execution_count": 41,
   "id": "fd2d54a0-079b-43a2-b843-ed4f8e2f7f78",
   "metadata": {},
   "outputs": [
    {
     "data": {
      "text/plain": [
       "511.859375"
      ]
     },
     "execution_count": 41,
     "metadata": {},
     "output_type": "execute_result"
    }
   ],
   "source": [
    "np.mean((num - num.mean())**2)"
   ]
  },
  {
   "cell_type": "markdown",
   "id": "19232ad7-7656-44af-be52-bd5b1fa00b73",
   "metadata": {},
   "source": [
    "##### Standard Deviation"
   ]
  },
  {
   "cell_type": "code",
   "execution_count": 43,
   "id": "8e81bb5e-9a4f-475f-8541-be74535f92e5",
   "metadata": {},
   "outputs": [
    {
     "data": {
      "text/plain": [
       "22.624309381724782"
      ]
     },
     "execution_count": 43,
     "metadata": {},
     "output_type": "execute_result"
    }
   ],
   "source": [
    "np.sqrt(np.mean((num - num.mean())**2))"
   ]
  },
  {
   "cell_type": "code",
   "execution_count": 44,
   "id": "48ee0511-5a6d-469e-9b59-8b5e168ac17c",
   "metadata": {},
   "outputs": [
    {
     "data": {
      "text/plain": [
       "22.624309381724782"
      ]
     },
     "execution_count": 44,
     "metadata": {},
     "output_type": "execute_result"
    }
   ],
   "source": [
    "num.std()"
   ]
  },
  {
   "cell_type": "code",
   "execution_count": 46,
   "id": "e7918e00-4d22-4ed7-bb72-767d8c43f87b",
   "metadata": {},
   "outputs": [
    {
     "data": {
      "text/plain": [
       "24.186404091082718"
      ]
     },
     "execution_count": 46,
     "metadata": {},
     "output_type": "execute_result"
    }
   ],
   "source": [
    "pd.Series(num).std()"
   ]
  },
  {
   "cell_type": "markdown",
   "id": "c157ddad-57d0-4d5d-88d0-ffc655201397",
   "metadata": {},
   "source": [
    "##### Range"
   ]
  },
  {
   "cell_type": "code",
   "execution_count": 48,
   "id": "0a3f4e6c-a691-41b9-b509-fe684146e70d",
   "metadata": {},
   "outputs": [
    {
     "data": {
      "text/plain": [
       "63"
      ]
     },
     "execution_count": 48,
     "metadata": {},
     "output_type": "execute_result"
    }
   ],
   "source": [
    "num.max() - num.min()"
   ]
  },
  {
   "cell_type": "markdown",
   "id": "14062c7f-d64c-4f9b-9db1-86b712fb4621",
   "metadata": {},
   "source": [
    "##### Skewness"
   ]
  },
  {
   "cell_type": "code",
   "execution_count": 50,
   "id": "87137a48-64b7-49b7-91ad-d60c06275573",
   "metadata": {},
   "outputs": [],
   "source": [
    "from scipy.stats import skew"
   ]
  },
  {
   "cell_type": "code",
   "execution_count": 56,
   "id": "0a14fec9-744d-42dd-86c7-f6b6f1121103",
   "metadata": {},
   "outputs": [],
   "source": [
    "x = np.array([1,1,1,1,1,2,2,2,2,2,3,3,4,4,5,5,6,7,8])"
   ]
  },
  {
   "cell_type": "code",
   "execution_count": 57,
   "id": "f8fb2df7-f174-48a2-a3ee-e0d470ed80f0",
   "metadata": {},
   "outputs": [
    {
     "data": {
      "text/plain": [
       "<Axes: ylabel='Density'>"
      ]
     },
     "execution_count": 57,
     "metadata": {},
     "output_type": "execute_result"
    },
    {
     "data": {
      "image/png": "[encoded data removed]",
      "text/plain": [
       "<Figure size 640x480 with 1 Axes>"
      ]
     },
     "metadata": {},
     "output_type": "display_data"
    }
   ],
   "source": [
    "sns.kdeplot(x)"
   ]
  },
  {
   "cell_type": "code",
   "execution_count": 58,
   "id": "f3bb4d81-3fd0-4e76-823b-2f3dfd043412",
   "metadata": {},
   "outputs": [
    {
     "data": {
      "text/plain": [
       "0.8351106017103913"
      ]
     },
     "execution_count": 58,
     "metadata": {},
     "output_type": "execute_result"
    }
   ],
   "source": [
    "skew(x)"
   ]
  },
  {
   "cell_type": "code",
   "execution_count": 61,
   "id": "a0379916-e6ec-4101-8d28-3d10964d58ba",
   "metadata": {},
   "outputs": [
    {
     "data": {
      "text/plain": [
       "(1, 2.0, 3.1578947368421053)"
      ]
     },
     "execution_count": 61,
     "metadata": {},
     "output_type": "execute_result"
    }
   ],
   "source": [
    "pd.Series(x).mode()[0], np.median(x), x.mean()"
   ]
  },
  {
   "cell_type": "code",
   "execution_count": 62,
   "id": "edab8d8c-d390-4ca2-a67e-1c66a9650baa",
   "metadata": {},
   "outputs": [],
   "source": [
    "x1 = np.array([1,2,3,4,5,5,6,6,7,7,8,8,8,8,8,8,8])"
   ]
  },
  {
   "cell_type": "code",
   "execution_count": 63,
   "id": "fa00b532-8a48-4d4f-a8ea-7767ca580b03",
   "metadata": {},
   "outputs": [
    {
     "data": {
      "text/plain": [
       "<Axes: ylabel='Density'>"
      ]
     },
     "execution_count": 63,
     "metadata": {},
     "output_type": "execute_result"
    },
    {
     "data": {
      "image/png": "[encoded data removed]",
      "text/plain": [
       "<Figure size 640x480 with 1 Axes>"
      ]
     },
     "metadata": {},
     "output_type": "display_data"
    }
   ],
   "source": [
    "sns.kdeplot(x1)"
   ]
  },
  {
   "cell_type": "code",
   "execution_count": 64,
   "id": "6e5f72f6-87d5-48a1-953d-5945f102e86e",
   "metadata": {},
   "outputs": [
    {
     "data": {
      "text/plain": [
       "-0.8685324828132145"
      ]
     },
     "execution_count": 64,
     "metadata": {},
     "output_type": "execute_result"
    }
   ],
   "source": [
    "skew(x1)"
   ]
  },
  {
   "cell_type": "code",
   "execution_count": 66,
   "id": "e9fbe29f-bfb2-461d-9183-b9dad9e67354",
   "metadata": {},
   "outputs": [
    {
     "data": {
      "text/plain": [
       "(8, 7.0, 6.0)"
      ]
     },
     "execution_count": 66,
     "metadata": {},
     "output_type": "execute_result"
    }
   ],
   "source": [
    "pd.Series(x1).mode()[0], np.median(x1), x1.mean()"
   ]
  },
  {
   "cell_type": "code",
   "execution_count": 67,
   "id": "32a057fb-adb7-40d7-a32f-481e093e6b5b",
   "metadata": {},
   "outputs": [],
   "source": [
    "xs = np.array([1,2,2,3,3,3,4,4,4,4,5,5,5,5,5,5,6,6,6,6,7,7,7,8,8,9])"
   ]
  },
  {
   "cell_type": "code",
   "execution_count": 68,
   "id": "4f4375d4-91b1-41a5-bc6d-d9dabb2bcbe2",
   "metadata": {},
   "outputs": [
    {
     "data": {
      "text/plain": [
       "0.0"
      ]
     },
     "execution_count": 68,
     "metadata": {},
     "output_type": "execute_result"
    }
   ],
   "source": [
    "skew(xs)"
   ]
  },
  {
   "cell_type": "markdown",
   "id": "c5a6cfdd-3223-4643-a076-0190c62cd65b",
   "metadata": {},
   "source": [
    "##### Kurtosis"
   ]
  },
  {
   "cell_type": "code",
   "execution_count": 70,
   "id": "bcfdc09f-1f9a-4ab8-8132-d97d25c9a088",
   "metadata": {},
   "outputs": [
    {
     "data": {
      "text/plain": [
       "array([1, 2, 2, 3, 3, 3, 4, 4, 4, 4, 5, 5, 5, 5, 5, 5, 6, 6, 6, 6, 7, 7,\n",
       "       7, 8, 8, 9])"
      ]
     },
     "execution_count": 70,
     "metadata": {},
     "output_type": "execute_result"
    }
   ],
   "source": [
    "xs"
   ]
  },
  {
   "cell_type": "code",
   "execution_count": 71,
   "id": "7ed3ed3f-95dd-45dd-9266-31e1f90054e7",
   "metadata": {},
   "outputs": [],
   "source": [
    "from scipy.stats import kurtosis"
   ]
  },
  {
   "cell_type": "code",
   "execution_count": 72,
   "id": "b38dd5ca-01d1-4adc-b1d1-9b1ddcb2bdc8",
   "metadata": {},
   "outputs": [
    {
     "data": {
      "text/plain": [
       "-0.556"
      ]
     },
     "execution_count": 72,
     "metadata": {},
     "output_type": "execute_result"
    }
   ],
   "source": [
    "kurtosis(xs)"
   ]
  },
  {
   "cell_type": "code",
   "execution_count": 74,
   "id": "8dfd3b0f-a38f-4c5a-a5aa-8cbba2ff8be1",
   "metadata": {},
   "outputs": [],
   "source": [
    "xk = np.array([0,10,10,20])"
   ]
  },
  {
   "cell_type": "code",
   "execution_count": 76,
   "id": "7989904e-35b2-4f9b-9b5c-9bef7854dd81",
   "metadata": {},
   "outputs": [
    {
     "data": {
      "text/plain": [
       "-1.0"
      ]
     },
     "execution_count": 76,
     "metadata": {},
     "output_type": "execute_result"
    }
   ],
   "source": [
    "kurtosis(xk)"
   ]
  },
  {
   "cell_type": "code",
   "execution_count": 77,
   "id": "f89a2cb7-865e-4f6a-a3e9-ae508ff1261e",
   "metadata": {},
   "outputs": [
    {
     "data": {
      "text/plain": [
       "<Axes: ylabel='Density'>"
      ]
     },
     "execution_count": 77,
     "metadata": {},
     "output_type": "execute_result"
    },
    {
     "data": {
      "image/png": "[encoded data removed]",
      "text/plain": [
       "<Figure size 640x480 with 1 Axes>"
      ]
     },
     "metadata": {},
     "output_type": "display_data"
    }
   ],
   "source": [
    "sns.kdeplot(xk)"
   ]
  },
  {
   "cell_type": "markdown",
   "id": "71cc2c2f-41bd-43b5-bf03-dd7398223ffb",
   "metadata": {},
   "source": [
    "#### Outliers"
   ]
  },
  {
   "cell_type": "markdown",
   "id": "fc6bcfa3-90b8-4804-85f4-3cd372563790",
   "metadata": {},
   "source": [
    "##### Boxplot"
   ]
  },
  {
   "cell_type": "code",
   "execution_count": 81,
   "id": "7e114cba-9383-4508-8999-893130b19289",
   "metadata": {},
   "outputs": [
    {
     "data": {
      "text/plain": [
       "17"
      ]
     },
     "execution_count": 81,
     "metadata": {},
     "output_type": "execute_result"
    }
   ],
   "source": [
    "np.random.randint(10,20)"
   ]
  },
  {
   "cell_type": "code",
   "execution_count": 82,
   "id": "554de44c-edb2-4e75-bb47-4249241640cb",
   "metadata": {},
   "outputs": [],
   "source": [
    "s = []\n",
    "for i in range(100):\n",
    "    s.append(np.random.randint(10000,20000))"
   ]
  },
  {
   "cell_type": "code",
   "execution_count": 84,
   "id": "476c93d8-530f-4ae8-9dac-a3e4962fbc0e",
   "metadata": {},
   "outputs": [],
   "source": [
    "df = pd.DataFrame({'salary': s})"
   ]
  },
  {
   "cell_type": "code",
   "execution_count": 85,
   "id": "ba5dd3d9-d33c-43a0-9253-84eff12d08f7",
   "metadata": {},
   "outputs": [
    {
     "data": {
      "text/html": [
       "<div>\n",
       "<style scoped>\n",
       "    .dataframe tbody tr th:only-of-type {\n",
       "        vertical-align: middle;\n",
       "    }\n",
       "\n",
       "    .dataframe tbody tr th {\n",
       "        vertical-align: top;\n",
       "    }\n",
       "\n",
       "    .dataframe thead th {\n",
       "        text-align: right;\n",
       "    }\n",
       "</style>\n",
       "<table border=\"1\" class=\"dataframe\">\n",
       "  <thead>\n",
       "    <tr style=\"text-align: right;\">\n",
       "      <th></th>\n",
       "      <th>salary</th>\n",
       "    </tr>\n",
       "  </thead>\n",
       "  <tbody>\n",
       "    <tr>\n",
       "      <th>0</th>\n",
       "      <td>18302</td>\n",
       "    </tr>\n",
       "    <tr>\n",
       "      <th>1</th>\n",
       "      <td>18955</td>\n",
       "    </tr>\n",
       "    <tr>\n",
       "      <th>2</th>\n",
       "      <td>14663</td>\n",
       "    </tr>\n",
       "    <tr>\n",
       "      <th>3</th>\n",
       "      <td>15177</td>\n",
       "    </tr>\n",
       "    <tr>\n",
       "      <th>4</th>\n",
       "      <td>12503</td>\n",
       "    </tr>\n",
       "    <tr>\n",
       "      <th>...</th>\n",
       "      <td>...</td>\n",
       "    </tr>\n",
       "    <tr>\n",
       "      <th>95</th>\n",
       "      <td>16350</td>\n",
       "    </tr>\n",
       "    <tr>\n",
       "      <th>96</th>\n",
       "      <td>14821</td>\n",
       "    </tr>\n",
       "    <tr>\n",
       "      <th>97</th>\n",
       "      <td>13914</td>\n",
       "    </tr>\n",
       "    <tr>\n",
       "      <th>98</th>\n",
       "      <td>15709</td>\n",
       "    </tr>\n",
       "    <tr>\n",
       "      <th>99</th>\n",
       "      <td>15860</td>\n",
       "    </tr>\n",
       "  </tbody>\n",
       "</table>\n",
       "<p>100 rows × 1 columns</p>\n",
       "</div>"
      ],
      "text/plain": [
       "    salary\n",
       "0    18302\n",
       "1    18955\n",
       "2    14663\n",
       "3    15177\n",
       "4    12503\n",
       "..     ...\n",
       "95   16350\n",
       "96   14821\n",
       "97   13914\n",
       "98   15709\n",
       "99   15860\n",
       "\n",
       "[100 rows x 1 columns]"
      ]
     },
     "execution_count": 85,
     "metadata": {},
     "output_type": "execute_result"
    }
   ],
   "source": [
    "df"
   ]
  },
  {
   "cell_type": "code",
   "execution_count": 86,
   "id": "aeb63c05-b1b1-4b97-897d-5d6353402b52",
   "metadata": {},
   "outputs": [
    {
     "data": {
      "text/plain": [
       "salary    12862\n",
       "Name: 23, dtype: int64"
      ]
     },
     "execution_count": 86,
     "metadata": {},
     "output_type": "execute_result"
    }
   ],
   "source": [
    "df.iloc[23,:]"
   ]
  },
  {
   "cell_type": "code",
   "execution_count": 87,
   "id": "a72d488a-c8ce-44fd-a225-bd31e1022247",
   "metadata": {},
   "outputs": [],
   "source": [
    "df.iloc[23,:] = 27000\n",
    "df.iloc[81,:] = 31000"
   ]
  },
  {
   "cell_type": "code",
   "execution_count": 88,
   "id": "f0589f8e-d9d9-4d72-952f-b50302bdebff",
   "metadata": {},
   "outputs": [
    {
     "data": {
      "text/plain": [
       "<Axes: >"
      ]
     },
     "execution_count": 88,
     "metadata": {},
     "output_type": "execute_result"
    },
    {
     "data": {
      "image/png": "[encoded data removed]",
      "text/plain": [
       "<Figure size 640x480 with 1 Axes>"
      ]
     },
     "metadata": {},
     "output_type": "display_data"
    }
   ],
   "source": [
    "df.plot.box()"
   ]
  },
  {
   "cell_type": "code",
   "execution_count": 89,
   "id": "906ed359-94c8-4eda-86ed-8f088316c827",
   "metadata": {},
   "outputs": [
    {
     "data": {
      "text/plain": [
       "<Axes: >"
      ]
     },
     "execution_count": 89,
     "metadata": {},
     "output_type": "execute_result"
    },
    {
     "data": {
      "image/png": "[encoded data removed]",
      "text/plain": [
       "<Figure size 640x480 with 1 Axes>"
      ]
     },
     "metadata": {},
     "output_type": "display_data"
    }
   ],
   "source": [
    "sns.boxplot(df)"
   ]
  },
  {
   "cell_type": "code",
   "execution_count": 90,
   "id": "8ae58ab6-5eb1-4d19-a261-da822455ccda",
   "metadata": {},
   "outputs": [
    {
     "data": {
      "text/plain": [
       "<Axes: ylabel='Frequency'>"
      ]
     },
     "execution_count": 90,
     "metadata": {},
     "output_type": "execute_result"
    },
    {
     "data": {
      "image/png": "[encoded data removed]",
      "text/plain": [
       "<Figure size 640x480 with 1 Axes>"
      ]
     },
     "metadata": {},
     "output_type": "display_data"
    }
   ],
   "source": [
    "df.plot.hist()"
   ]
  },
  {
   "cell_type": "code",
   "execution_count": 91,
   "id": "dcc1b49f-8d99-4486-bfd5-f2de948b2f9a",
   "metadata": {},
   "outputs": [
    {
     "data": {
      "text/plain": [
       "(100, 1)"
      ]
     },
     "execution_count": 91,
     "metadata": {},
     "output_type": "execute_result"
    }
   ],
   "source": [
    "df.shape"
   ]
  },
  {
   "cell_type": "code",
   "execution_count": 94,
   "id": "5e6e57c3-0c2e-43bd-a726-0251d1cc4eac",
   "metadata": {},
   "outputs": [],
   "source": [
    "df_new = df[df['salary'] < 25000]"
   ]
  },
  {
   "cell_type": "code",
   "execution_count": 96,
   "id": "d364d05d-27b3-4e65-9520-0ae111992adc",
   "metadata": {},
   "outputs": [
    {
     "data": {
      "text/plain": [
       "(98, 1)"
      ]
     },
     "execution_count": 96,
     "metadata": {},
     "output_type": "execute_result"
    }
   ],
   "source": [
    "df_new.shape"
   ]
  },
  {
   "cell_type": "code",
   "execution_count": 97,
   "id": "4a49de62-e737-4092-b407-5c4693c1e690",
   "metadata": {},
   "outputs": [
    {
     "data": {
      "text/plain": [
       "<Axes: >"
      ]
     },
     "execution_count": 97,
     "metadata": {},
     "output_type": "execute_result"
    },
    {
     "data": {
      "image/png": "[encoded data removed]",
      "text/plain": [
       "<Figure size 640x480 with 1 Axes>"
      ]
     },
     "metadata": {},
     "output_type": "display_data"
    }
   ],
   "source": [
    "df_new.plot.box()"
   ]
  },
  {
   "cell_type": "markdown",
   "id": "201cbbf2-ca3d-4235-92c4-f33363e93590",
   "metadata": {},
   "source": [
    "##### Z-scores"
   ]
  },
  {
   "cell_type": "code",
   "execution_count": 99,
   "id": "5dc12473-5cd1-446a-b097-a436252664a4",
   "metadata": {},
   "outputs": [],
   "source": [
    "s = []\n",
    "for i in range(100):\n",
    "    s.append(np.random.randint(10000,20000))"
   ]
  },
  {
   "cell_type": "code",
   "execution_count": 100,
   "id": "72015931-c96b-4f8e-b60c-4b153141bd61",
   "metadata": {},
   "outputs": [],
   "source": [
    "df = pd.DataFrame({'salary': s})"
   ]
  },
  {
   "cell_type": "code",
   "execution_count": 101,
   "id": "02832d24-4ce8-4bd2-824e-c2428cc45444",
   "metadata": {},
   "outputs": [
    {
     "data": {
      "text/html": [
       "<div>\n",
       "<style scoped>\n",
       "    .dataframe tbody tr th:only-of-type {\n",
       "        vertical-align: middle;\n",
       "    }\n",
       "\n",
       "    .dataframe tbody tr th {\n",
       "        vertical-align: top;\n",
       "    }\n",
       "\n",
       "    .dataframe thead th {\n",
       "        text-align: right;\n",
       "    }\n",
       "</style>\n",
       "<table border=\"1\" class=\"dataframe\">\n",
       "  <thead>\n",
       "    <tr style=\"text-align: right;\">\n",
       "      <th></th>\n",
       "      <th>salary</th>\n",
       "    </tr>\n",
       "  </thead>\n",
       "  <tbody>\n",
       "    <tr>\n",
       "      <th>0</th>\n",
       "      <td>19504</td>\n",
       "    </tr>\n",
       "    <tr>\n",
       "      <th>1</th>\n",
       "      <td>13859</td>\n",
       "    </tr>\n",
       "    <tr>\n",
       "      <th>2</th>\n",
       "      <td>18173</td>\n",
       "    </tr>\n",
       "    <tr>\n",
       "      <th>3</th>\n",
       "      <td>14739</td>\n",
       "    </tr>\n",
       "    <tr>\n",
       "      <th>4</th>\n",
       "      <td>11794</td>\n",
       "    </tr>\n",
       "    <tr>\n",
       "      <th>...</th>\n",
       "      <td>...</td>\n",
       "    </tr>\n",
       "    <tr>\n",
       "      <th>95</th>\n",
       "      <td>14992</td>\n",
       "    </tr>\n",
       "    <tr>\n",
       "      <th>96</th>\n",
       "      <td>17575</td>\n",
       "    </tr>\n",
       "    <tr>\n",
       "      <th>97</th>\n",
       "      <td>13903</td>\n",
       "    </tr>\n",
       "    <tr>\n",
       "      <th>98</th>\n",
       "      <td>11017</td>\n",
       "    </tr>\n",
       "    <tr>\n",
       "      <th>99</th>\n",
       "      <td>12370</td>\n",
       "    </tr>\n",
       "  </tbody>\n",
       "</table>\n",
       "<p>100 rows × 1 columns</p>\n",
       "</div>"
      ],
      "text/plain": [
       "    salary\n",
       "0    19504\n",
       "1    13859\n",
       "2    18173\n",
       "3    14739\n",
       "4    11794\n",
       "..     ...\n",
       "95   14992\n",
       "96   17575\n",
       "97   13903\n",
       "98   11017\n",
       "99   12370\n",
       "\n",
       "[100 rows x 1 columns]"
      ]
     },
     "execution_count": 101,
     "metadata": {},
     "output_type": "execute_result"
    }
   ],
   "source": [
    "df"
   ]
  },
  {
   "cell_type": "code",
   "execution_count": 102,
   "id": "2ab9cad2-9f70-498c-a114-1d7113d6963c",
   "metadata": {},
   "outputs": [],
   "source": [
    "def zscore(n):\n",
    "    z = (n - n.mean()) / n.std()\n",
    "    return z"
   ]
  },
  {
   "cell_type": "code",
   "execution_count": 103,
   "id": "85086bbb-e135-46f1-87e7-f5f4c1780e19",
   "metadata": {},
   "outputs": [
    {
     "data": {
      "text/html": [
       "<div>\n",
       "<style scoped>\n",
       "    .dataframe tbody tr th:only-of-type {\n",
       "        vertical-align: middle;\n",
       "    }\n",
       "\n",
       "    .dataframe tbody tr th {\n",
       "        vertical-align: top;\n",
       "    }\n",
       "\n",
       "    .dataframe thead th {\n",
       "        text-align: right;\n",
       "    }\n",
       "</style>\n",
       "<table border=\"1\" class=\"dataframe\">\n",
       "  <thead>\n",
       "    <tr style=\"text-align: right;\">\n",
       "      <th></th>\n",
       "      <th>salary</th>\n",
       "    </tr>\n",
       "  </thead>\n",
       "  <tbody>\n",
       "    <tr>\n",
       "      <th>0</th>\n",
       "      <td>1.612978</td>\n",
       "    </tr>\n",
       "    <tr>\n",
       "      <th>1</th>\n",
       "      <td>-0.314726</td>\n",
       "    </tr>\n",
       "    <tr>\n",
       "      <th>2</th>\n",
       "      <td>1.158456</td>\n",
       "    </tr>\n",
       "    <tr>\n",
       "      <th>3</th>\n",
       "      <td>-0.014216</td>\n",
       "    </tr>\n",
       "    <tr>\n",
       "      <th>4</th>\n",
       "      <td>-1.019901</td>\n",
       "    </tr>\n",
       "    <tr>\n",
       "      <th>...</th>\n",
       "      <td>...</td>\n",
       "    </tr>\n",
       "    <tr>\n",
       "      <th>95</th>\n",
       "      <td>0.072180</td>\n",
       "    </tr>\n",
       "    <tr>\n",
       "      <th>96</th>\n",
       "      <td>0.954246</td>\n",
       "    </tr>\n",
       "    <tr>\n",
       "      <th>97</th>\n",
       "      <td>-0.299701</td>\n",
       "    </tr>\n",
       "    <tr>\n",
       "      <th>98</th>\n",
       "      <td>-1.285237</td>\n",
       "    </tr>\n",
       "    <tr>\n",
       "      <th>99</th>\n",
       "      <td>-0.823203</td>\n",
       "    </tr>\n",
       "  </tbody>\n",
       "</table>\n",
       "<p>100 rows × 1 columns</p>\n",
       "</div>"
      ],
      "text/plain": [
       "      salary\n",
       "0   1.612978\n",
       "1  -0.314726\n",
       "2   1.158456\n",
       "3  -0.014216\n",
       "4  -1.019901\n",
       "..       ...\n",
       "95  0.072180\n",
       "96  0.954246\n",
       "97 -0.299701\n",
       "98 -1.285237\n",
       "99 -0.823203\n",
       "\n",
       "[100 rows x 1 columns]"
      ]
     },
     "execution_count": 103,
     "metadata": {},
     "output_type": "execute_result"
    }
   ],
   "source": [
    "zscore(df)"
   ]
  },
  {
   "cell_type": "code",
   "execution_count": 105,
   "id": "4778e6bb-dca4-47b1-a922-a58fb5a72a38",
   "metadata": {},
   "outputs": [
    {
     "data": {
      "text/plain": [
       "(salary   -1.591553\n",
       " dtype: float64,\n",
       " salary    1.683666\n",
       " dtype: float64)"
      ]
     },
     "execution_count": 105,
     "metadata": {},
     "output_type": "execute_result"
    }
   ],
   "source": [
    "zscore(df).min(), zscore(df).max()"
   ]
  },
  {
   "cell_type": "code",
   "execution_count": 106,
   "id": "254fa48e-cdf0-478f-a72e-06df2a9071fd",
   "metadata": {},
   "outputs": [],
   "source": [
    "df.iloc[23,:] = 27000\n",
    "df.iloc[81,:] = 31000"
   ]
  },
  {
   "cell_type": "code",
   "execution_count": 109,
   "id": "1fd4fb5b-76e9-48a7-befa-534fd4acf666",
   "metadata": {},
   "outputs": [],
   "source": [
    "x = zscore(df)"
   ]
  },
  {
   "cell_type": "code",
   "execution_count": 110,
   "id": "bc878976-b539-407b-ba68-a1590864f096",
   "metadata": {},
   "outputs": [
    {
     "data": {
      "text/plain": [
       "salary    3.383715\n",
       "Name: 23, dtype: float64"
      ]
     },
     "execution_count": 110,
     "metadata": {},
     "output_type": "execute_result"
    }
   ],
   "source": [
    "x.iloc[23,:]"
   ]
  },
  {
   "cell_type": "code",
   "execution_count": 111,
   "id": "152db084-7351-465c-918c-d2b6c2a2179d",
   "metadata": {},
   "outputs": [
    {
     "data": {
      "text/plain": [
       "salary    4.512968\n",
       "Name: 81, dtype: float64"
      ]
     },
     "execution_count": 111,
     "metadata": {},
     "output_type": "execute_result"
    }
   ],
   "source": [
    "x.iloc[81,:]"
   ]
  },
  {
   "cell_type": "code",
   "execution_count": 119,
   "id": "d3187674-c311-4ccb-ba9b-d05f4e6fc479",
   "metadata": {},
   "outputs": [],
   "source": [
    "newdf = df[ x['salary'] < 3]"
   ]
  },
  {
   "cell_type": "code",
   "execution_count": 120,
   "id": "6ab454ab-78cf-4170-9851-54125f875bce",
   "metadata": {},
   "outputs": [
    {
     "data": {
      "text/plain": [
       "(98, 1)"
      ]
     },
     "execution_count": 120,
     "metadata": {},
     "output_type": "execute_result"
    }
   ],
   "source": [
    "newdf.shape"
   ]
  },
  {
   "cell_type": "markdown",
   "id": "67133522-e02d-4ef1-835c-2c16784901d7",
   "metadata": {},
   "source": [
    "##### Turkey's Fences"
   ]
  },
  {
   "cell_type": "code",
   "execution_count": 126,
   "id": "7a119a24-c9a8-41ef-a2d6-b0baa5c94873",
   "metadata": {},
   "outputs": [
    {
     "data": {
      "text/plain": [
       "14515.5"
      ]
     },
     "execution_count": 126,
     "metadata": {},
     "output_type": "execute_result"
    }
   ],
   "source": [
    "np.percentile(df['salary'], 50)"
   ]
  },
  {
   "cell_type": "code",
   "execution_count": 127,
   "id": "ad90df4a-8705-401d-842e-ada4eed80995",
   "metadata": {},
   "outputs": [],
   "source": [
    "Q1 = np.percentile(df['salary'], 25)\n",
    "Q3 = np.percentile(df['salary'], 75)"
   ]
  },
  {
   "cell_type": "code",
   "execution_count": 129,
   "id": "ec4237bd-3b4b-4f2e-8b2a-a6ab6ef2b971",
   "metadata": {},
   "outputs": [
    {
     "data": {
      "text/plain": [
       "(12372.5, 17579.0)"
      ]
     },
     "execution_count": 129,
     "metadata": {},
     "output_type": "execute_result"
    }
   ],
   "source": [
    "Q1, Q3"
   ]
  },
  {
   "cell_type": "code",
   "execution_count": 130,
   "id": "5292f406-6e78-480e-bb3f-b52da53ec235",
   "metadata": {},
   "outputs": [
    {
     "data": {
      "text/html": [
       "<div>\n",
       "<style scoped>\n",
       "    .dataframe tbody tr th:only-of-type {\n",
       "        vertical-align: middle;\n",
       "    }\n",
       "\n",
       "    .dataframe tbody tr th {\n",
       "        vertical-align: top;\n",
       "    }\n",
       "\n",
       "    .dataframe thead th {\n",
       "        text-align: right;\n",
       "    }\n",
       "</style>\n",
       "<table border=\"1\" class=\"dataframe\">\n",
       "  <thead>\n",
       "    <tr style=\"text-align: right;\">\n",
       "      <th></th>\n",
       "      <th>salary</th>\n",
       "    </tr>\n",
       "  </thead>\n",
       "  <tbody>\n",
       "    <tr>\n",
       "      <th>count</th>\n",
       "      <td>100.000000</td>\n",
       "    </tr>\n",
       "    <tr>\n",
       "      <th>mean</th>\n",
       "      <td>15014.320000</td>\n",
       "    </tr>\n",
       "    <tr>\n",
       "      <th>std</th>\n",
       "      <td>3542.165659</td>\n",
       "    </tr>\n",
       "    <tr>\n",
       "      <th>min</th>\n",
       "      <td>10120.000000</td>\n",
       "    </tr>\n",
       "    <tr>\n",
       "      <th>25%</th>\n",
       "      <td>12372.500000</td>\n",
       "    </tr>\n",
       "    <tr>\n",
       "      <th>50%</th>\n",
       "      <td>14515.500000</td>\n",
       "    </tr>\n",
       "    <tr>\n",
       "      <th>75%</th>\n",
       "      <td>17579.000000</td>\n",
       "    </tr>\n",
       "    <tr>\n",
       "      <th>max</th>\n",
       "      <td>31000.000000</td>\n",
       "    </tr>\n",
       "  </tbody>\n",
       "</table>\n",
       "</div>"
      ],
      "text/plain": [
       "             salary\n",
       "count    100.000000\n",
       "mean   15014.320000\n",
       "std     3542.165659\n",
       "min    10120.000000\n",
       "25%    12372.500000\n",
       "50%    14515.500000\n",
       "75%    17579.000000\n",
       "max    31000.000000"
      ]
     },
     "execution_count": 130,
     "metadata": {},
     "output_type": "execute_result"
    }
   ],
   "source": [
    "df.describe()"
   ]
  },
  {
   "cell_type": "code",
   "execution_count": 131,
   "id": "d364629e-8711-4d4d-adc9-adbbd11492f3",
   "metadata": {},
   "outputs": [
    {
     "data": {
      "text/plain": [
       "5206.5"
      ]
     },
     "execution_count": 131,
     "metadata": {},
     "output_type": "execute_result"
    }
   ],
   "source": [
    "IQR = Q3 - Q1\n",
    "IQR"
   ]
  },
  {
   "cell_type": "code",
   "execution_count": 133,
   "id": "6e6a14dd-e062-4852-a2a0-a10f0148f589",
   "metadata": {},
   "outputs": [],
   "source": [
    "upper_fence = Q3 + 1.5 * IQR\n",
    "lower_fence = Q1 - 1.5 * IQR"
   ]
  },
  {
   "cell_type": "code",
   "execution_count": 134,
   "id": "79f01a66-1e37-4673-8358-9945bd5215c5",
   "metadata": {},
   "outputs": [
    {
     "data": {
      "text/plain": [
       "(25388.75, 4562.75)"
      ]
     },
     "execution_count": 134,
     "metadata": {},
     "output_type": "execute_result"
    }
   ],
   "source": [
    "upper_fence, lower_fence"
   ]
  },
  {
   "cell_type": "code",
   "execution_count": 135,
   "id": "f5d38682-bfd7-402a-a654-f28cc094692c",
   "metadata": {},
   "outputs": [
    {
     "data": {
      "text/plain": [
       "(100, 1)"
      ]
     },
     "execution_count": 135,
     "metadata": {},
     "output_type": "execute_result"
    }
   ],
   "source": [
    "df.shape"
   ]
  },
  {
   "cell_type": "code",
   "execution_count": 136,
   "id": "99e615af-4be0-4a2e-bfcd-e43e66c2f08a",
   "metadata": {},
   "outputs": [],
   "source": [
    "newdf = df[(df['salary'] > lower_fence) & (df['salary'] < upper_fence)]"
   ]
  },
  {
   "cell_type": "code",
   "execution_count": 137,
   "id": "2f0bcc3b-d052-4ec0-a77c-7c90cf254933",
   "metadata": {},
   "outputs": [
    {
     "data": {
      "text/plain": [
       "(98, 1)"
      ]
     },
     "execution_count": 137,
     "metadata": {},
     "output_type": "execute_result"
    }
   ],
   "source": [
    "newdf.shape"
   ]
  },
  {
   "cell_type": "code",
   "execution_count": null,
   "id": "052ec8a9-99f6-4581-b971-1db1518fc7b4",
   "metadata": {},
   "outputs": [],
   "source": []
  }
 ],
 "metadata": {
  "kernelspec": {
   "display_name": "Python 3 (ipykernel)",
   "language": "python",
   "name": "python3"
  },
  "language_info": {
   "codemirror_mode": {
    "name": "ipython",
    "version": 3
   },
   "file_extension": ".py",
   "mimetype": "text/x-python",
   "name": "python",
   "nbconvert_exporter": "python",
   "pygments_lexer": "ipython3",
   "version": "3.10.12"
  }
 },
 "nbformat": 4,
 "nbformat_minor": 5
}
