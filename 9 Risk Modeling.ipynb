{
 "cells": [
  {
   "cell_type": "markdown",
   "id": "5cebcbed-f49c-4969-9ced-222a86348038",
   "metadata": {},
   "source": [
    "#### Dataset"
   ]
  },
  {
   "cell_type": "code",
   "execution_count": 3,
   "id": "2a66f4f5-63e3-4d65-9b3f-afd28a2b7fc3",
   "metadata": {},
   "outputs": [],
   "source": [
    "# location: https://mitu.co.in/dataset\n",
    "# dataset: loan-prediction.csv"
   ]
  },
  {
   "cell_type": "markdown",
   "id": "f01cd76a-30d3-4bc5-831a-26ae0ed2aec2",
   "metadata": {},
   "source": [
    "#### Import the libraries"
   ]
  },
  {
   "cell_type": "code",
   "execution_count": 5,
   "id": "1d07b2f4-0b43-4630-9db2-20b9bf63dad2",
   "metadata": {},
   "outputs": [],
   "source": [
    "import pandas as pd\n",
    "import numpy as np\n",
    "import seaborn as sns\n",
    "import matplotlib.pyplot as plt"
   ]
  },
  {
   "cell_type": "markdown",
   "id": "bd78a51b-3c67-4cb8-bf2f-4681cab3e7a8",
   "metadata": {},
   "source": [
    "#### Read the data"
   ]
  },
  {
   "cell_type": "code",
   "execution_count": 7,
   "id": "6ebc636e-f758-4e4d-949b-3f21c3664a13",
   "metadata": {},
   "outputs": [],
   "source": [
    "df = pd.read_csv('loan-prediction.csv')"
   ]
  },
  {
   "cell_type": "code",
   "execution_count": 8,
   "id": "1cf0397e-d9d2-4158-945a-b9d1ba0bd777",
   "metadata": {},
   "outputs": [
    {
     "data": {
      "text/html": [
       "<div>\n",
       "<style scoped>\n",
       "    .dataframe tbody tr th:only-of-type {\n",
       "        vertical-align: middle;\n",
       "    }\n",
       "\n",
       "    .dataframe tbody tr th {\n",
       "        vertical-align: top;\n",
       "    }\n",
       "\n",
       "    .dataframe thead th {\n",
       "        text-align: right;\n",
       "    }\n",
       "</style>\n",
       "<table border=\"1\" class=\"dataframe\">\n",
       "  <thead>\n",
       "    <tr style=\"text-align: right;\">\n",
       "      <th></th>\n",
       "      <th>Loan_ID</th>\n",
       "      <th>Gender</th>\n",
       "      <th>Married</th>\n",
       "      <th>Dependents</th>\n",
       "      <th>Education</th>\n",
       "      <th>Self_Employed</th>\n",
       "      <th>ApplicantIncome</th>\n",
       "      <th>CoapplicantIncome</th>\n",
       "      <th>LoanAmount</th>\n",
       "      <th>Loan_Amount_Term</th>\n",
       "      <th>Credit_History</th>\n",
       "      <th>Property_Area</th>\n",
       "      <th>Loan_Status</th>\n",
       "    </tr>\n",
       "  </thead>\n",
       "  <tbody>\n",
       "    <tr>\n",
       "      <th>0</th>\n",
       "      <td>LP001002</td>\n",
       "      <td>Male</td>\n",
       "      <td>No</td>\n",
       "      <td>0</td>\n",
       "      <td>Graduate</td>\n",
       "      <td>No</td>\n",
       "      <td>5849</td>\n",
       "      <td>0.0</td>\n",
       "      <td>NaN</td>\n",
       "      <td>360.0</td>\n",
       "      <td>1.0</td>\n",
       "      <td>Urban</td>\n",
       "      <td>Y</td>\n",
       "    </tr>\n",
       "    <tr>\n",
       "      <th>1</th>\n",
       "      <td>LP001003</td>\n",
       "      <td>Male</td>\n",
       "      <td>Yes</td>\n",
       "      <td>1</td>\n",
       "      <td>Graduate</td>\n",
       "      <td>No</td>\n",
       "      <td>4583</td>\n",
       "      <td>1508.0</td>\n",
       "      <td>128.0</td>\n",
       "      <td>360.0</td>\n",
       "      <td>1.0</td>\n",
       "      <td>Rural</td>\n",
       "      <td>N</td>\n",
       "    </tr>\n",
       "    <tr>\n",
       "      <th>2</th>\n",
       "      <td>LP001005</td>\n",
       "      <td>Male</td>\n",
       "      <td>Yes</td>\n",
       "      <td>0</td>\n",
       "      <td>Graduate</td>\n",
       "      <td>Yes</td>\n",
       "      <td>3000</td>\n",
       "      <td>0.0</td>\n",
       "      <td>66.0</td>\n",
       "      <td>360.0</td>\n",
       "      <td>1.0</td>\n",
       "      <td>Urban</td>\n",
       "      <td>Y</td>\n",
       "    </tr>\n",
       "    <tr>\n",
       "      <th>3</th>\n",
       "      <td>LP001006</td>\n",
       "      <td>Male</td>\n",
       "      <td>Yes</td>\n",
       "      <td>0</td>\n",
       "      <td>Not Graduate</td>\n",
       "      <td>No</td>\n",
       "      <td>2583</td>\n",
       "      <td>2358.0</td>\n",
       "      <td>120.0</td>\n",
       "      <td>360.0</td>\n",
       "      <td>1.0</td>\n",
       "      <td>Urban</td>\n",
       "      <td>Y</td>\n",
       "    </tr>\n",
       "    <tr>\n",
       "      <th>4</th>\n",
       "      <td>LP001008</td>\n",
       "      <td>Male</td>\n",
       "      <td>No</td>\n",
       "      <td>0</td>\n",
       "      <td>Graduate</td>\n",
       "      <td>No</td>\n",
       "      <td>6000</td>\n",
       "      <td>0.0</td>\n",
       "      <td>141.0</td>\n",
       "      <td>360.0</td>\n",
       "      <td>1.0</td>\n",
       "      <td>Urban</td>\n",
       "      <td>Y</td>\n",
       "    </tr>\n",
       "    <tr>\n",
       "      <th>...</th>\n",
       "      <td>...</td>\n",
       "      <td>...</td>\n",
       "      <td>...</td>\n",
       "      <td>...</td>\n",
       "      <td>...</td>\n",
       "      <td>...</td>\n",
       "      <td>...</td>\n",
       "      <td>...</td>\n",
       "      <td>...</td>\n",
       "      <td>...</td>\n",
       "      <td>...</td>\n",
       "      <td>...</td>\n",
       "      <td>...</td>\n",
       "    </tr>\n",
       "    <tr>\n",
       "      <th>609</th>\n",
       "      <td>LP002978</td>\n",
       "      <td>Female</td>\n",
       "      <td>No</td>\n",
       "      <td>0</td>\n",
       "      <td>Graduate</td>\n",
       "      <td>No</td>\n",
       "      <td>2900</td>\n",
       "      <td>0.0</td>\n",
       "      <td>71.0</td>\n",
       "      <td>360.0</td>\n",
       "      <td>1.0</td>\n",
       "      <td>Rural</td>\n",
       "      <td>Y</td>\n",
       "    </tr>\n",
       "    <tr>\n",
       "      <th>610</th>\n",
       "      <td>LP002979</td>\n",
       "      <td>Male</td>\n",
       "      <td>Yes</td>\n",
       "      <td>3+</td>\n",
       "      <td>Graduate</td>\n",
       "      <td>No</td>\n",
       "      <td>4106</td>\n",
       "      <td>0.0</td>\n",
       "      <td>40.0</td>\n",
       "      <td>180.0</td>\n",
       "      <td>1.0</td>\n",
       "      <td>Rural</td>\n",
       "      <td>Y</td>\n",
       "    </tr>\n",
       "    <tr>\n",
       "      <th>611</th>\n",
       "      <td>LP002983</td>\n",
       "      <td>Male</td>\n",
       "      <td>Yes</td>\n",
       "      <td>1</td>\n",
       "      <td>Graduate</td>\n",
       "      <td>No</td>\n",
       "      <td>8072</td>\n",
       "      <td>240.0</td>\n",
       "      <td>253.0</td>\n",
       "      <td>360.0</td>\n",
       "      <td>1.0</td>\n",
       "      <td>Urban</td>\n",
       "      <td>Y</td>\n",
       "    </tr>\n",
       "    <tr>\n",
       "      <th>612</th>\n",
       "      <td>LP002984</td>\n",
       "      <td>Male</td>\n",
       "      <td>Yes</td>\n",
       "      <td>2</td>\n",
       "      <td>Graduate</td>\n",
       "      <td>No</td>\n",
       "      <td>7583</td>\n",
       "      <td>0.0</td>\n",
       "      <td>187.0</td>\n",
       "      <td>360.0</td>\n",
       "      <td>1.0</td>\n",
       "      <td>Urban</td>\n",
       "      <td>Y</td>\n",
       "    </tr>\n",
       "    <tr>\n",
       "      <th>613</th>\n",
       "      <td>LP002990</td>\n",
       "      <td>Female</td>\n",
       "      <td>No</td>\n",
       "      <td>0</td>\n",
       "      <td>Graduate</td>\n",
       "      <td>Yes</td>\n",
       "      <td>4583</td>\n",
       "      <td>0.0</td>\n",
       "      <td>133.0</td>\n",
       "      <td>360.0</td>\n",
       "      <td>0.0</td>\n",
       "      <td>Semiurban</td>\n",
       "      <td>N</td>\n",
       "    </tr>\n",
       "  </tbody>\n",
       "</table>\n",
       "<p>614 rows × 13 columns</p>\n",
       "</div>"
      ],
      "text/plain": [
       "      Loan_ID  Gender Married Dependents     Education Self_Employed  \\\n",
       "0    LP001002    Male      No          0      Graduate            No   \n",
       "1    LP001003    Male     Yes          1      Graduate            No   \n",
       "2    LP001005    Male     Yes          0      Graduate           Yes   \n",
       "3    LP001006    Male     Yes          0  Not Graduate            No   \n",
       "4    LP001008    Male      No          0      Graduate            No   \n",
       "..        ...     ...     ...        ...           ...           ...   \n",
       "609  LP002978  Female      No          0      Graduate            No   \n",
       "610  LP002979    Male     Yes         3+      Graduate            No   \n",
       "611  LP002983    Male     Yes          1      Graduate            No   \n",
       "612  LP002984    Male     Yes          2      Graduate            No   \n",
       "613  LP002990  Female      No          0      Graduate           Yes   \n",
       "\n",
       "     ApplicantIncome  CoapplicantIncome  LoanAmount  Loan_Amount_Term  \\\n",
       "0               5849                0.0         NaN             360.0   \n",
       "1               4583             1508.0       128.0             360.0   \n",
       "2               3000                0.0        66.0             360.0   \n",
       "3               2583             2358.0       120.0             360.0   \n",
       "4               6000                0.0       141.0             360.0   \n",
       "..               ...                ...         ...               ...   \n",
       "609             2900                0.0        71.0             360.0   \n",
       "610             4106                0.0        40.0             180.0   \n",
       "611             8072              240.0       253.0             360.0   \n",
       "612             7583                0.0       187.0             360.0   \n",
       "613             4583                0.0       133.0             360.0   \n",
       "\n",
       "     Credit_History Property_Area Loan_Status  \n",
       "0               1.0         Urban           Y  \n",
       "1               1.0         Rural           N  \n",
       "2               1.0         Urban           Y  \n",
       "3               1.0         Urban           Y  \n",
       "4               1.0         Urban           Y  \n",
       "..              ...           ...         ...  \n",
       "609             1.0         Rural           Y  \n",
       "610             1.0         Rural           Y  \n",
       "611             1.0         Urban           Y  \n",
       "612             1.0         Urban           Y  \n",
       "613             0.0     Semiurban           N  \n",
       "\n",
       "[614 rows x 13 columns]"
      ]
     },
     "execution_count": 8,
     "metadata": {},
     "output_type": "execute_result"
    }
   ],
   "source": [
    "df"
   ]
  },
  {
   "cell_type": "code",
   "execution_count": 9,
   "id": "0fc366c5-d88e-4266-b4bb-6f3ac0c636ac",
   "metadata": {},
   "outputs": [
    {
     "data": {
      "text/plain": [
       "Index(['Loan_ID', 'Gender', 'Married', 'Dependents', 'Education',\n",
       "       'Self_Employed', 'ApplicantIncome', 'CoapplicantIncome', 'LoanAmount',\n",
       "       'Loan_Amount_Term', 'Credit_History', 'Property_Area', 'Loan_Status'],\n",
       "      dtype='object')"
      ]
     },
     "execution_count": 9,
     "metadata": {},
     "output_type": "execute_result"
    }
   ],
   "source": [
    "df.columns"
   ]
  },
  {
   "cell_type": "markdown",
   "id": "79210954-0045-49c4-be2c-cd8ff16919cf",
   "metadata": {},
   "source": [
    "#### Separate the dependent and independent variables"
   ]
  },
  {
   "cell_type": "code",
   "execution_count": 11,
   "id": "d58e6cc2-bbc7-493c-b43c-bfd8b55039aa",
   "metadata": {},
   "outputs": [],
   "source": [
    "x = df.drop(['Loan_ID','Loan_Status'], axis = 1)\n",
    "y = df['Loan_Status']"
   ]
  },
  {
   "cell_type": "code",
   "execution_count": 12,
   "id": "babbec1e-0f7d-42c1-955f-ed48091713e9",
   "metadata": {},
   "outputs": [
    {
     "data": {
      "text/plain": [
       "(614, 11)"
      ]
     },
     "execution_count": 12,
     "metadata": {},
     "output_type": "execute_result"
    }
   ],
   "source": [
    "x.shape"
   ]
  },
  {
   "cell_type": "code",
   "execution_count": 13,
   "id": "d4f178a8-6530-48f4-ad42-f62f06c5434a",
   "metadata": {},
   "outputs": [
    {
     "data": {
      "image/png": "[encoded data removed]",
      "text/plain": [
       "<Figure size 640x480 with 1 Axes>"
      ]
     },
     "metadata": {},
     "output_type": "display_data"
    }
   ],
   "source": [
    "sns.countplot(x = y);"
   ]
  },
  {
   "cell_type": "code",
   "execution_count": 16,
   "id": "1333f69c-b95e-4f67-8d1f-6a54c094f7ca",
   "metadata": {},
   "outputs": [
    {
     "data": {
      "image/png": "[encoded data removed]",
      "text/plain": [
       "<Figure size 640x480 with 1 Axes>"
      ]
     },
     "metadata": {},
     "output_type": "display_data"
    }
   ],
   "source": [
    "plt.pie(y.value_counts(), labels=y.value_counts().index,\n",
    "       autopct='%2.2f%%');"
   ]
  },
  {
   "cell_type": "code",
   "execution_count": 17,
   "id": "e6251a1e-e660-4fde-a0bf-feb1148157d5",
   "metadata": {},
   "outputs": [
    {
     "data": {
      "text/plain": [
       "Gender               601\n",
       "Married              611\n",
       "Dependents           599\n",
       "Education            614\n",
       "Self_Employed        582\n",
       "ApplicantIncome      614\n",
       "CoapplicantIncome    614\n",
       "LoanAmount           592\n",
       "Loan_Amount_Term     600\n",
       "Credit_History       564\n",
       "Property_Area        614\n",
       "dtype: int64"
      ]
     },
     "execution_count": 17,
     "metadata": {},
     "output_type": "execute_result"
    }
   ],
   "source": [
    "x.count()"
   ]
  },
  {
   "cell_type": "code",
   "execution_count": 18,
   "id": "c7ddeede-6666-4a39-8eb2-0933972f62ce",
   "metadata": {},
   "outputs": [
    {
     "data": {
      "text/plain": [
       "Gender               13\n",
       "Married               3\n",
       "Dependents           15\n",
       "Education             0\n",
       "Self_Employed        32\n",
       "ApplicantIncome       0\n",
       "CoapplicantIncome     0\n",
       "LoanAmount           22\n",
       "Loan_Amount_Term     14\n",
       "Credit_History       50\n",
       "Property_Area         0\n",
       "dtype: int64"
      ]
     },
     "execution_count": 18,
     "metadata": {},
     "output_type": "execute_result"
    }
   ],
   "source": [
    "x.isnull().sum()"
   ]
  },
  {
   "cell_type": "code",
   "execution_count": 20,
   "id": "31a7e6e7-981b-4b1f-9e78-7133a209245c",
   "metadata": {},
   "outputs": [],
   "source": [
    "df.dropna(inplace=True)"
   ]
  },
  {
   "cell_type": "code",
   "execution_count": 21,
   "id": "d1a797be-131a-4465-8b59-b6cbcde9872c",
   "metadata": {},
   "outputs": [],
   "source": [
    "x = df.drop(['Loan_ID','Loan_Status'], axis = 1)\n",
    "y = df['Loan_Status']"
   ]
  },
  {
   "cell_type": "code",
   "execution_count": 22,
   "id": "9230a131-54cf-48b2-9b52-4f1a7ca8ac31",
   "metadata": {},
   "outputs": [
    {
     "data": {
      "text/plain": [
       "(480, 11)"
      ]
     },
     "execution_count": 22,
     "metadata": {},
     "output_type": "execute_result"
    }
   ],
   "source": [
    "x.shape"
   ]
  },
  {
   "cell_type": "code",
   "execution_count": 23,
   "id": "3c4bf69c-892e-477a-8c0e-12e971fc9b55",
   "metadata": {},
   "outputs": [
    {
     "data": {
      "text/plain": [
       "Gender               0\n",
       "Married              0\n",
       "Dependents           0\n",
       "Education            0\n",
       "Self_Employed        0\n",
       "ApplicantIncome      0\n",
       "CoapplicantIncome    0\n",
       "LoanAmount           0\n",
       "Loan_Amount_Term     0\n",
       "Credit_History       0\n",
       "Property_Area        0\n",
       "dtype: int64"
      ]
     },
     "execution_count": 23,
     "metadata": {},
     "output_type": "execute_result"
    }
   ],
   "source": [
    "x.isnull().sum()"
   ]
  },
  {
   "cell_type": "code",
   "execution_count": 24,
   "id": "17a0765c-0b50-45c0-8c71-d82b5fe068fe",
   "metadata": {},
   "outputs": [
    {
     "data": {
      "text/html": [
       "<div>\n",
       "<style scoped>\n",
       "    .dataframe tbody tr th:only-of-type {\n",
       "        vertical-align: middle;\n",
       "    }\n",
       "\n",
       "    .dataframe tbody tr th {\n",
       "        vertical-align: top;\n",
       "    }\n",
       "\n",
       "    .dataframe thead th {\n",
       "        text-align: right;\n",
       "    }\n",
       "</style>\n",
       "<table border=\"1\" class=\"dataframe\">\n",
       "  <thead>\n",
       "    <tr style=\"text-align: right;\">\n",
       "      <th></th>\n",
       "      <th>Gender</th>\n",
       "      <th>Married</th>\n",
       "      <th>Dependents</th>\n",
       "      <th>Education</th>\n",
       "      <th>Self_Employed</th>\n",
       "      <th>ApplicantIncome</th>\n",
       "      <th>CoapplicantIncome</th>\n",
       "      <th>LoanAmount</th>\n",
       "      <th>Loan_Amount_Term</th>\n",
       "      <th>Credit_History</th>\n",
       "      <th>Property_Area</th>\n",
       "    </tr>\n",
       "  </thead>\n",
       "  <tbody>\n",
       "    <tr>\n",
       "      <th>1</th>\n",
       "      <td>Male</td>\n",
       "      <td>Yes</td>\n",
       "      <td>1</td>\n",
       "      <td>Graduate</td>\n",
       "      <td>No</td>\n",
       "      <td>4583</td>\n",
       "      <td>1508.0</td>\n",
       "      <td>128.0</td>\n",
       "      <td>360.0</td>\n",
       "      <td>1.0</td>\n",
       "      <td>Rural</td>\n",
       "    </tr>\n",
       "    <tr>\n",
       "      <th>2</th>\n",
       "      <td>Male</td>\n",
       "      <td>Yes</td>\n",
       "      <td>0</td>\n",
       "      <td>Graduate</td>\n",
       "      <td>Yes</td>\n",
       "      <td>3000</td>\n",
       "      <td>0.0</td>\n",
       "      <td>66.0</td>\n",
       "      <td>360.0</td>\n",
       "      <td>1.0</td>\n",
       "      <td>Urban</td>\n",
       "    </tr>\n",
       "    <tr>\n",
       "      <th>3</th>\n",
       "      <td>Male</td>\n",
       "      <td>Yes</td>\n",
       "      <td>0</td>\n",
       "      <td>Not Graduate</td>\n",
       "      <td>No</td>\n",
       "      <td>2583</td>\n",
       "      <td>2358.0</td>\n",
       "      <td>120.0</td>\n",
       "      <td>360.0</td>\n",
       "      <td>1.0</td>\n",
       "      <td>Urban</td>\n",
       "    </tr>\n",
       "    <tr>\n",
       "      <th>4</th>\n",
       "      <td>Male</td>\n",
       "      <td>No</td>\n",
       "      <td>0</td>\n",
       "      <td>Graduate</td>\n",
       "      <td>No</td>\n",
       "      <td>6000</td>\n",
       "      <td>0.0</td>\n",
       "      <td>141.0</td>\n",
       "      <td>360.0</td>\n",
       "      <td>1.0</td>\n",
       "      <td>Urban</td>\n",
       "    </tr>\n",
       "    <tr>\n",
       "      <th>5</th>\n",
       "      <td>Male</td>\n",
       "      <td>Yes</td>\n",
       "      <td>2</td>\n",
       "      <td>Graduate</td>\n",
       "      <td>Yes</td>\n",
       "      <td>5417</td>\n",
       "      <td>4196.0</td>\n",
       "      <td>267.0</td>\n",
       "      <td>360.0</td>\n",
       "      <td>1.0</td>\n",
       "      <td>Urban</td>\n",
       "    </tr>\n",
       "    <tr>\n",
       "      <th>...</th>\n",
       "      <td>...</td>\n",
       "      <td>...</td>\n",
       "      <td>...</td>\n",
       "      <td>...</td>\n",
       "      <td>...</td>\n",
       "      <td>...</td>\n",
       "      <td>...</td>\n",
       "      <td>...</td>\n",
       "      <td>...</td>\n",
       "      <td>...</td>\n",
       "      <td>...</td>\n",
       "    </tr>\n",
       "    <tr>\n",
       "      <th>609</th>\n",
       "      <td>Female</td>\n",
       "      <td>No</td>\n",
       "      <td>0</td>\n",
       "      <td>Graduate</td>\n",
       "      <td>No</td>\n",
       "      <td>2900</td>\n",
       "      <td>0.0</td>\n",
       "      <td>71.0</td>\n",
       "      <td>360.0</td>\n",
       "      <td>1.0</td>\n",
       "      <td>Rural</td>\n",
       "    </tr>\n",
       "    <tr>\n",
       "      <th>610</th>\n",
       "      <td>Male</td>\n",
       "      <td>Yes</td>\n",
       "      <td>3+</td>\n",
       "      <td>Graduate</td>\n",
       "      <td>No</td>\n",
       "      <td>4106</td>\n",
       "      <td>0.0</td>\n",
       "      <td>40.0</td>\n",
       "      <td>180.0</td>\n",
       "      <td>1.0</td>\n",
       "      <td>Rural</td>\n",
       "    </tr>\n",
       "    <tr>\n",
       "      <th>611</th>\n",
       "      <td>Male</td>\n",
       "      <td>Yes</td>\n",
       "      <td>1</td>\n",
       "      <td>Graduate</td>\n",
       "      <td>No</td>\n",
       "      <td>8072</td>\n",
       "      <td>240.0</td>\n",
       "      <td>253.0</td>\n",
       "      <td>360.0</td>\n",
       "      <td>1.0</td>\n",
       "      <td>Urban</td>\n",
       "    </tr>\n",
       "    <tr>\n",
       "      <th>612</th>\n",
       "      <td>Male</td>\n",
       "      <td>Yes</td>\n",
       "      <td>2</td>\n",
       "      <td>Graduate</td>\n",
       "      <td>No</td>\n",
       "      <td>7583</td>\n",
       "      <td>0.0</td>\n",
       "      <td>187.0</td>\n",
       "      <td>360.0</td>\n",
       "      <td>1.0</td>\n",
       "      <td>Urban</td>\n",
       "    </tr>\n",
       "    <tr>\n",
       "      <th>613</th>\n",
       "      <td>Female</td>\n",
       "      <td>No</td>\n",
       "      <td>0</td>\n",
       "      <td>Graduate</td>\n",
       "      <td>Yes</td>\n",
       "      <td>4583</td>\n",
       "      <td>0.0</td>\n",
       "      <td>133.0</td>\n",
       "      <td>360.0</td>\n",
       "      <td>0.0</td>\n",
       "      <td>Semiurban</td>\n",
       "    </tr>\n",
       "  </tbody>\n",
       "</table>\n",
       "<p>480 rows × 11 columns</p>\n",
       "</div>"
      ],
      "text/plain": [
       "     Gender Married Dependents     Education Self_Employed  ApplicantIncome  \\\n",
       "1      Male     Yes          1      Graduate            No             4583   \n",
       "2      Male     Yes          0      Graduate           Yes             3000   \n",
       "3      Male     Yes          0  Not Graduate            No             2583   \n",
       "4      Male      No          0      Graduate            No             6000   \n",
       "5      Male     Yes          2      Graduate           Yes             5417   \n",
       "..      ...     ...        ...           ...           ...              ...   \n",
       "609  Female      No          0      Graduate            No             2900   \n",
       "610    Male     Yes         3+      Graduate            No             4106   \n",
       "611    Male     Yes          1      Graduate            No             8072   \n",
       "612    Male     Yes          2      Graduate            No             7583   \n",
       "613  Female      No          0      Graduate           Yes             4583   \n",
       "\n",
       "     CoapplicantIncome  LoanAmount  Loan_Amount_Term  Credit_History  \\\n",
       "1               1508.0       128.0             360.0             1.0   \n",
       "2                  0.0        66.0             360.0             1.0   \n",
       "3               2358.0       120.0             360.0             1.0   \n",
       "4                  0.0       141.0             360.0             1.0   \n",
       "5               4196.0       267.0             360.0             1.0   \n",
       "..                 ...         ...               ...             ...   \n",
       "609                0.0        71.0             360.0             1.0   \n",
       "610                0.0        40.0             180.0             1.0   \n",
       "611              240.0       253.0             360.0             1.0   \n",
       "612                0.0       187.0             360.0             1.0   \n",
       "613                0.0       133.0             360.0             0.0   \n",
       "\n",
       "    Property_Area  \n",
       "1           Rural  \n",
       "2           Urban  \n",
       "3           Urban  \n",
       "4           Urban  \n",
       "5           Urban  \n",
       "..            ...  \n",
       "609         Rural  \n",
       "610         Rural  \n",
       "611         Urban  \n",
       "612         Urban  \n",
       "613     Semiurban  \n",
       "\n",
       "[480 rows x 11 columns]"
      ]
     },
     "execution_count": 24,
     "metadata": {},
     "output_type": "execute_result"
    }
   ],
   "source": [
    "x"
   ]
  },
  {
   "cell_type": "code",
   "execution_count": 25,
   "id": "5d6d0ccb-809a-467b-a8ad-461a4e0e0f28",
   "metadata": {},
   "outputs": [
    {
     "data": {
      "text/plain": [
       "Gender                object\n",
       "Married               object\n",
       "Dependents            object\n",
       "Education             object\n",
       "Self_Employed         object\n",
       "ApplicantIncome        int64\n",
       "CoapplicantIncome    float64\n",
       "LoanAmount           float64\n",
       "Loan_Amount_Term     float64\n",
       "Credit_History       float64\n",
       "Property_Area         object\n",
       "dtype: object"
      ]
     },
     "execution_count": 25,
     "metadata": {},
     "output_type": "execute_result"
    }
   ],
   "source": [
    "x.dtypes"
   ]
  },
  {
   "cell_type": "code",
   "execution_count": 26,
   "id": "3f4f9c4a-28ce-4dad-8eee-ce3ab0610834",
   "metadata": {},
   "outputs": [],
   "source": [
    "x_new = pd.get_dummies(x)"
   ]
  },
  {
   "cell_type": "code",
   "execution_count": 27,
   "id": "c32bf3da-8f27-4cd2-9770-4f5974a88f5a",
   "metadata": {},
   "outputs": [
    {
     "data": {
      "text/plain": [
       "Index(['ApplicantIncome', 'CoapplicantIncome', 'LoanAmount',\n",
       "       'Loan_Amount_Term', 'Credit_History', 'Gender_Female', 'Gender_Male',\n",
       "       'Married_No', 'Married_Yes', 'Dependents_0', 'Dependents_1',\n",
       "       'Dependents_2', 'Dependents_3+', 'Education_Graduate',\n",
       "       'Education_Not Graduate', 'Self_Employed_No', 'Self_Employed_Yes',\n",
       "       'Property_Area_Rural', 'Property_Area_Semiurban',\n",
       "       'Property_Area_Urban'],\n",
       "      dtype='object')"
      ]
     },
     "execution_count": 27,
     "metadata": {},
     "output_type": "execute_result"
    }
   ],
   "source": [
    "x_new.columns"
   ]
  },
  {
   "cell_type": "code",
   "execution_count": 28,
   "id": "5acc58c1-92f9-4106-a188-9c2fff8a4abd",
   "metadata": {},
   "outputs": [
    {
     "data": {
      "text/html": [
       "<div>\n",
       "<style scoped>\n",
       "    .dataframe tbody tr th:only-of-type {\n",
       "        vertical-align: middle;\n",
       "    }\n",
       "\n",
       "    .dataframe tbody tr th {\n",
       "        vertical-align: top;\n",
       "    }\n",
       "\n",
       "    .dataframe thead th {\n",
       "        text-align: right;\n",
       "    }\n",
       "</style>\n",
       "<table border=\"1\" class=\"dataframe\">\n",
       "  <thead>\n",
       "    <tr style=\"text-align: right;\">\n",
       "      <th></th>\n",
       "      <th>ApplicantIncome</th>\n",
       "      <th>CoapplicantIncome</th>\n",
       "      <th>LoanAmount</th>\n",
       "      <th>Loan_Amount_Term</th>\n",
       "      <th>Credit_History</th>\n",
       "      <th>Gender_Female</th>\n",
       "      <th>Gender_Male</th>\n",
       "      <th>Married_No</th>\n",
       "      <th>Married_Yes</th>\n",
       "      <th>Dependents_0</th>\n",
       "      <th>Dependents_1</th>\n",
       "      <th>Dependents_2</th>\n",
       "      <th>Dependents_3+</th>\n",
       "      <th>Education_Graduate</th>\n",
       "      <th>Education_Not Graduate</th>\n",
       "      <th>Self_Employed_No</th>\n",
       "      <th>Self_Employed_Yes</th>\n",
       "      <th>Property_Area_Rural</th>\n",
       "      <th>Property_Area_Semiurban</th>\n",
       "      <th>Property_Area_Urban</th>\n",
       "    </tr>\n",
       "  </thead>\n",
       "  <tbody>\n",
       "    <tr>\n",
       "      <th>1</th>\n",
       "      <td>4583</td>\n",
       "      <td>1508.0</td>\n",
       "      <td>128.0</td>\n",
       "      <td>360.0</td>\n",
       "      <td>1.0</td>\n",
       "      <td>False</td>\n",
       "      <td>True</td>\n",
       "      <td>False</td>\n",
       "      <td>True</td>\n",
       "      <td>False</td>\n",
       "      <td>True</td>\n",
       "      <td>False</td>\n",
       "      <td>False</td>\n",
       "      <td>True</td>\n",
       "      <td>False</td>\n",
       "      <td>True</td>\n",
       "      <td>False</td>\n",
       "      <td>True</td>\n",
       "      <td>False</td>\n",
       "      <td>False</td>\n",
       "    </tr>\n",
       "    <tr>\n",
       "      <th>2</th>\n",
       "      <td>3000</td>\n",
       "      <td>0.0</td>\n",
       "      <td>66.0</td>\n",
       "      <td>360.0</td>\n",
       "      <td>1.0</td>\n",
       "      <td>False</td>\n",
       "      <td>True</td>\n",
       "      <td>False</td>\n",
       "      <td>True</td>\n",
       "      <td>True</td>\n",
       "      <td>False</td>\n",
       "      <td>False</td>\n",
       "      <td>False</td>\n",
       "      <td>True</td>\n",
       "      <td>False</td>\n",
       "      <td>False</td>\n",
       "      <td>True</td>\n",
       "      <td>False</td>\n",
       "      <td>False</td>\n",
       "      <td>True</td>\n",
       "    </tr>\n",
       "    <tr>\n",
       "      <th>3</th>\n",
       "      <td>2583</td>\n",
       "      <td>2358.0</td>\n",
       "      <td>120.0</td>\n",
       "      <td>360.0</td>\n",
       "      <td>1.0</td>\n",
       "      <td>False</td>\n",
       "      <td>True</td>\n",
       "      <td>False</td>\n",
       "      <td>True</td>\n",
       "      <td>True</td>\n",
       "      <td>False</td>\n",
       "      <td>False</td>\n",
       "      <td>False</td>\n",
       "      <td>False</td>\n",
       "      <td>True</td>\n",
       "      <td>True</td>\n",
       "      <td>False</td>\n",
       "      <td>False</td>\n",
       "      <td>False</td>\n",
       "      <td>True</td>\n",
       "    </tr>\n",
       "    <tr>\n",
       "      <th>4</th>\n",
       "      <td>6000</td>\n",
       "      <td>0.0</td>\n",
       "      <td>141.0</td>\n",
       "      <td>360.0</td>\n",
       "      <td>1.0</td>\n",
       "      <td>False</td>\n",
       "      <td>True</td>\n",
       "      <td>True</td>\n",
       "      <td>False</td>\n",
       "      <td>True</td>\n",
       "      <td>False</td>\n",
       "      <td>False</td>\n",
       "      <td>False</td>\n",
       "      <td>True</td>\n",
       "      <td>False</td>\n",
       "      <td>True</td>\n",
       "      <td>False</td>\n",
       "      <td>False</td>\n",
       "      <td>False</td>\n",
       "      <td>True</td>\n",
       "    </tr>\n",
       "    <tr>\n",
       "      <th>5</th>\n",
       "      <td>5417</td>\n",
       "      <td>4196.0</td>\n",
       "      <td>267.0</td>\n",
       "      <td>360.0</td>\n",
       "      <td>1.0</td>\n",
       "      <td>False</td>\n",
       "      <td>True</td>\n",
       "      <td>False</td>\n",
       "      <td>True</td>\n",
       "      <td>False</td>\n",
       "      <td>False</td>\n",
       "      <td>True</td>\n",
       "      <td>False</td>\n",
       "      <td>True</td>\n",
       "      <td>False</td>\n",
       "      <td>False</td>\n",
       "      <td>True</td>\n",
       "      <td>False</td>\n",
       "      <td>False</td>\n",
       "      <td>True</td>\n",
       "    </tr>\n",
       "    <tr>\n",
       "      <th>...</th>\n",
       "      <td>...</td>\n",
       "      <td>...</td>\n",
       "      <td>...</td>\n",
       "      <td>...</td>\n",
       "      <td>...</td>\n",
       "      <td>...</td>\n",
       "      <td>...</td>\n",
       "      <td>...</td>\n",
       "      <td>...</td>\n",
       "      <td>...</td>\n",
       "      <td>...</td>\n",
       "      <td>...</td>\n",
       "      <td>...</td>\n",
       "      <td>...</td>\n",
       "      <td>...</td>\n",
       "      <td>...</td>\n",
       "      <td>...</td>\n",
       "      <td>...</td>\n",
       "      <td>...</td>\n",
       "      <td>...</td>\n",
       "    </tr>\n",
       "    <tr>\n",
       "      <th>609</th>\n",
       "      <td>2900</td>\n",
       "      <td>0.0</td>\n",
       "      <td>71.0</td>\n",
       "      <td>360.0</td>\n",
       "      <td>1.0</td>\n",
       "      <td>True</td>\n",
       "      <td>False</td>\n",
       "      <td>True</td>\n",
       "      <td>False</td>\n",
       "      <td>True</td>\n",
       "      <td>False</td>\n",
       "      <td>False</td>\n",
       "      <td>False</td>\n",
       "      <td>True</td>\n",
       "      <td>False</td>\n",
       "      <td>True</td>\n",
       "      <td>False</td>\n",
       "      <td>True</td>\n",
       "      <td>False</td>\n",
       "      <td>False</td>\n",
       "    </tr>\n",
       "    <tr>\n",
       "      <th>610</th>\n",
       "      <td>4106</td>\n",
       "      <td>0.0</td>\n",
       "      <td>40.0</td>\n",
       "      <td>180.0</td>\n",
       "      <td>1.0</td>\n",
       "      <td>False</td>\n",
       "      <td>True</td>\n",
       "      <td>False</td>\n",
       "      <td>True</td>\n",
       "      <td>False</td>\n",
       "      <td>False</td>\n",
       "      <td>False</td>\n",
       "      <td>True</td>\n",
       "      <td>True</td>\n",
       "      <td>False</td>\n",
       "      <td>True</td>\n",
       "      <td>False</td>\n",
       "      <td>True</td>\n",
       "      <td>False</td>\n",
       "      <td>False</td>\n",
       "    </tr>\n",
       "    <tr>\n",
       "      <th>611</th>\n",
       "      <td>8072</td>\n",
       "      <td>240.0</td>\n",
       "      <td>253.0</td>\n",
       "      <td>360.0</td>\n",
       "      <td>1.0</td>\n",
       "      <td>False</td>\n",
       "      <td>True</td>\n",
       "      <td>False</td>\n",
       "      <td>True</td>\n",
       "      <td>False</td>\n",
       "      <td>True</td>\n",
       "      <td>False</td>\n",
       "      <td>False</td>\n",
       "      <td>True</td>\n",
       "      <td>False</td>\n",
       "      <td>True</td>\n",
       "      <td>False</td>\n",
       "      <td>False</td>\n",
       "      <td>False</td>\n",
       "      <td>True</td>\n",
       "    </tr>\n",
       "    <tr>\n",
       "      <th>612</th>\n",
       "      <td>7583</td>\n",
       "      <td>0.0</td>\n",
       "      <td>187.0</td>\n",
       "      <td>360.0</td>\n",
       "      <td>1.0</td>\n",
       "      <td>False</td>\n",
       "      <td>True</td>\n",
       "      <td>False</td>\n",
       "      <td>True</td>\n",
       "      <td>False</td>\n",
       "      <td>False</td>\n",
       "      <td>True</td>\n",
       "      <td>False</td>\n",
       "      <td>True</td>\n",
       "      <td>False</td>\n",
       "      <td>True</td>\n",
       "      <td>False</td>\n",
       "      <td>False</td>\n",
       "      <td>False</td>\n",
       "      <td>True</td>\n",
       "    </tr>\n",
       "    <tr>\n",
       "      <th>613</th>\n",
       "      <td>4583</td>\n",
       "      <td>0.0</td>\n",
       "      <td>133.0</td>\n",
       "      <td>360.0</td>\n",
       "      <td>0.0</td>\n",
       "      <td>True</td>\n",
       "      <td>False</td>\n",
       "      <td>True</td>\n",
       "      <td>False</td>\n",
       "      <td>True</td>\n",
       "      <td>False</td>\n",
       "      <td>False</td>\n",
       "      <td>False</td>\n",
       "      <td>True</td>\n",
       "      <td>False</td>\n",
       "      <td>False</td>\n",
       "      <td>True</td>\n",
       "      <td>False</td>\n",
       "      <td>True</td>\n",
       "      <td>False</td>\n",
       "    </tr>\n",
       "  </tbody>\n",
       "</table>\n",
       "<p>480 rows × 20 columns</p>\n",
       "</div>"
      ],
      "text/plain": [
       "     ApplicantIncome  CoapplicantIncome  LoanAmount  Loan_Amount_Term  \\\n",
       "1               4583             1508.0       128.0             360.0   \n",
       "2               3000                0.0        66.0             360.0   \n",
       "3               2583             2358.0       120.0             360.0   \n",
       "4               6000                0.0       141.0             360.0   \n",
       "5               5417             4196.0       267.0             360.0   \n",
       "..               ...                ...         ...               ...   \n",
       "609             2900                0.0        71.0             360.0   \n",
       "610             4106                0.0        40.0             180.0   \n",
       "611             8072              240.0       253.0             360.0   \n",
       "612             7583                0.0       187.0             360.0   \n",
       "613             4583                0.0       133.0             360.0   \n",
       "\n",
       "     Credit_History  Gender_Female  Gender_Male  Married_No  Married_Yes  \\\n",
       "1               1.0          False         True       False         True   \n",
       "2               1.0          False         True       False         True   \n",
       "3               1.0          False         True       False         True   \n",
       "4               1.0          False         True        True        False   \n",
       "5               1.0          False         True       False         True   \n",
       "..              ...            ...          ...         ...          ...   \n",
       "609             1.0           True        False        True        False   \n",
       "610             1.0          False         True       False         True   \n",
       "611             1.0          False         True       False         True   \n",
       "612             1.0          False         True       False         True   \n",
       "613             0.0           True        False        True        False   \n",
       "\n",
       "     Dependents_0  Dependents_1  Dependents_2  Dependents_3+  \\\n",
       "1           False          True         False          False   \n",
       "2            True         False         False          False   \n",
       "3            True         False         False          False   \n",
       "4            True         False         False          False   \n",
       "5           False         False          True          False   \n",
       "..            ...           ...           ...            ...   \n",
       "609          True         False         False          False   \n",
       "610         False         False         False           True   \n",
       "611         False          True         False          False   \n",
       "612         False         False          True          False   \n",
       "613          True         False         False          False   \n",
       "\n",
       "     Education_Graduate  Education_Not Graduate  Self_Employed_No  \\\n",
       "1                  True                   False              True   \n",
       "2                  True                   False             False   \n",
       "3                 False                    True              True   \n",
       "4                  True                   False              True   \n",
       "5                  True                   False             False   \n",
       "..                  ...                     ...               ...   \n",
       "609                True                   False              True   \n",
       "610                True                   False              True   \n",
       "611                True                   False              True   \n",
       "612                True                   False              True   \n",
       "613                True                   False             False   \n",
       "\n",
       "     Self_Employed_Yes  Property_Area_Rural  Property_Area_Semiurban  \\\n",
       "1                False                 True                    False   \n",
       "2                 True                False                    False   \n",
       "3                False                False                    False   \n",
       "4                False                False                    False   \n",
       "5                 True                False                    False   \n",
       "..                 ...                  ...                      ...   \n",
       "609              False                 True                    False   \n",
       "610              False                 True                    False   \n",
       "611              False                False                    False   \n",
       "612              False                False                    False   \n",
       "613               True                False                     True   \n",
       "\n",
       "     Property_Area_Urban  \n",
       "1                  False  \n",
       "2                   True  \n",
       "3                   True  \n",
       "4                   True  \n",
       "5                   True  \n",
       "..                   ...  \n",
       "609                False  \n",
       "610                False  \n",
       "611                 True  \n",
       "612                 True  \n",
       "613                False  \n",
       "\n",
       "[480 rows x 20 columns]"
      ]
     },
     "execution_count": 28,
     "metadata": {},
     "output_type": "execute_result"
    }
   ],
   "source": [
    "x_new"
   ]
  },
  {
   "cell_type": "code",
   "execution_count": 30,
   "id": "ae13c719-9b5d-45e5-a87d-cbd2da085848",
   "metadata": {},
   "outputs": [
    {
     "data": {
      "text/plain": [
       "ApplicantIncome              int64\n",
       "CoapplicantIncome          float64\n",
       "LoanAmount                 float64\n",
       "Loan_Amount_Term           float64\n",
       "Credit_History             float64\n",
       "Gender_Female                 bool\n",
       "Gender_Male                   bool\n",
       "Married_No                    bool\n",
       "Married_Yes                   bool\n",
       "Dependents_0                  bool\n",
       "Dependents_1                  bool\n",
       "Dependents_2                  bool\n",
       "Dependents_3+                 bool\n",
       "Education_Graduate            bool\n",
       "Education_Not Graduate        bool\n",
       "Self_Employed_No              bool\n",
       "Self_Employed_Yes             bool\n",
       "Property_Area_Rural           bool\n",
       "Property_Area_Semiurban       bool\n",
       "Property_Area_Urban           bool\n",
       "dtype: object"
      ]
     },
     "execution_count": 30,
     "metadata": {},
     "output_type": "execute_result"
    }
   ],
   "source": [
    "x_new.dtypes"
   ]
  },
  {
   "cell_type": "markdown",
   "id": "ef53321c-7e24-4313-9504-e54aaa8ff1ed",
   "metadata": {},
   "source": [
    "#### Build the risk modeler"
   ]
  },
  {
   "cell_type": "code",
   "execution_count": 32,
   "id": "c082ba41-995d-41d0-ac1c-c8db4fbd51b0",
   "metadata": {},
   "outputs": [],
   "source": [
    "from sklearn.naive_bayes import GaussianNB"
   ]
  },
  {
   "cell_type": "code",
   "execution_count": 33,
   "id": "304297f2-006c-4a32-9845-3bce8c5319bb",
   "metadata": {},
   "outputs": [],
   "source": [
    "risk_modeler = GaussianNB()"
   ]
  },
  {
   "cell_type": "code",
   "execution_count": 34,
   "id": "e924b891-8446-418c-ac76-038ae235f15b",
   "metadata": {},
   "outputs": [
    {
     "data": {
      "text/html": [
       "<style>#sk-container-id-1 {color: black;}#sk-container-id-1 pre{padding: 0;}#sk-container-id-1 div.sk-toggleable {background-color: white;}#sk-container-id-1 label.sk-toggleable__label {cursor: pointer;display: block;width: 100%;margin-bottom: 0;padding: 0.3em;box-sizing: border-box;text-align: center;}#sk-container-id-1 label.sk-toggleable__label-arrow:before {content: \"▸\";float: left;margin-right: 0.25em;color: #696969;}#sk-container-id-1 label.sk-toggleable__label-arrow:hover:before {color: black;}#sk-container-id-1 div.sk-estimator:hover label.sk-toggleable__label-arrow:before {color: black;}#sk-container-id-1 div.sk-toggleable__content {max-height: 0;max-width: 0;overflow: hidden;text-align: left;background-color: #f0f8ff;}#sk-container-id-1 div.sk-toggleable__content pre {margin: 0.2em;color: black;border-radius: 0.25em;background-color: #f0f8ff;}#sk-container-id-1 input.sk-toggleable__control:checked~div.sk-toggleable__content {max-height: 200px;max-width: 100%;overflow: auto;}#sk-container-id-1 input.sk-toggleable__control:checked~label.sk-toggleable__label-arrow:before {content: \"▾\";}#sk-container-id-1 div.sk-estimator input.sk-toggleable__control:checked~label.sk-toggleable__label {background-color: #d4ebff;}#sk-container-id-1 div.sk-label input.sk-toggleable__control:checked~label.sk-toggleable__label {background-color: #d4ebff;}#sk-container-id-1 input.sk-hidden--visually {border: 0;clip: rect(1px 1px 1px 1px);clip: rect(1px, 1px, 1px, 1px);height: 1px;margin: -1px;overflow: hidden;padding: 0;position: absolute;width: 1px;}#sk-container-id-1 div.sk-estimator {font-family: monospace;background-color: #f0f8ff;border: 1px dotted black;border-radius: 0.25em;box-sizing: border-box;margin-bottom: 0.5em;}#sk-container-id-1 div.sk-estimator:hover {background-color: #d4ebff;}#sk-container-id-1 div.sk-parallel-item::after {content: \"\";width: 100%;border-bottom: 1px solid gray;flex-grow: 1;}#sk-container-id-1 div.sk-label:hover label.sk-toggleable__label {background-color: #d4ebff;}#sk-container-id-1 div.sk-serial::before {content: \"\";position: absolute;border-left: 1px solid gray;box-sizing: border-box;top: 0;bottom: 0;left: 50%;z-index: 0;}#sk-container-id-1 div.sk-serial {display: flex;flex-direction: column;align-items: center;background-color: white;padding-right: 0.2em;padding-left: 0.2em;position: relative;}#sk-container-id-1 div.sk-item {position: relative;z-index: 1;}#sk-container-id-1 div.sk-parallel {display: flex;align-items: stretch;justify-content: center;background-color: white;position: relative;}#sk-container-id-1 div.sk-item::before, #sk-container-id-1 div.sk-parallel-item::before {content: \"\";position: absolute;border-left: 1px solid gray;box-sizing: border-box;top: 0;bottom: 0;left: 50%;z-index: -1;}#sk-container-id-1 div.sk-parallel-item {display: flex;flex-direction: column;z-index: 1;position: relative;background-color: white;}#sk-container-id-1 div.sk-parallel-item:first-child::after {align-self: flex-end;width: 50%;}#sk-container-id-1 div.sk-parallel-item:last-child::after {align-self: flex-start;width: 50%;}#sk-container-id-1 div.sk-parallel-item:only-child::after {width: 0;}#sk-container-id-1 div.sk-dashed-wrapped {border: 1px dashed gray;margin: 0 0.4em 0.5em 0.4em;box-sizing: border-box;padding-bottom: 0.4em;background-color: white;}#sk-container-id-1 div.sk-label label {font-family: monospace;font-weight: bold;display: inline-block;line-height: 1.2em;}#sk-container-id-1 div.sk-label-container {text-align: center;}#sk-container-id-1 div.sk-container {/* jupyter's `normalize.less` sets `[hidden] { display: none; }` but bootstrap.min.css set `[hidden] { display: none !important; }` so we also need the `!important` here to be able to override the default hidden behavior on the sphinx rendered scikit-learn.org. See: https://github.com/scikit-learn/scikit-learn/issues/21755 */display: inline-block !important;position: relative;}#sk-container-id-1 div.sk-text-repr-fallback {display: none;}</style><div id=\"sk-container-id-1\" class=\"sk-top-container\"><div class=\"sk-text-repr-fallback\"><pre>GaussianNB()</pre><b>In a Jupyter environment, please rerun this cell to show the HTML representation or trust the notebook. <br />On GitHub, the HTML representation is unable to render, please try loading this page with nbviewer.org.</b></div><div class=\"sk-container\" hidden><div class=\"sk-item\"><div class=\"sk-estimator sk-toggleable\"><input class=\"sk-toggleable__control sk-hidden--visually\" id=\"sk-estimator-id-1\" type=\"checkbox\" checked><label for=\"sk-estimator-id-1\" class=\"sk-toggleable__label sk-toggleable__label-arrow\">GaussianNB</label><div class=\"sk-toggleable__content\"><pre>GaussianNB()</pre></div></div></div></div></div>"
      ],
      "text/plain": [
       "GaussianNB()"
      ]
     },
     "execution_count": 34,
     "metadata": {},
     "output_type": "execute_result"
    }
   ],
   "source": [
    "risk_modeler.fit(x_new, y)"
   ]
  },
  {
   "cell_type": "code",
   "execution_count": 37,
   "id": "424d24fa-d734-4216-9466-66ffb64b28c0",
   "metadata": {},
   "outputs": [],
   "source": [
    "new = x_new.iloc[[67],:]"
   ]
  },
  {
   "cell_type": "code",
   "execution_count": 38,
   "id": "f1aeef7e-66b0-408d-aa1a-17a0f3256b52",
   "metadata": {},
   "outputs": [
    {
     "data": {
      "text/html": [
       "<div>\n",
       "<style scoped>\n",
       "    .dataframe tbody tr th:only-of-type {\n",
       "        vertical-align: middle;\n",
       "    }\n",
       "\n",
       "    .dataframe tbody tr th {\n",
       "        vertical-align: top;\n",
       "    }\n",
       "\n",
       "    .dataframe thead th {\n",
       "        text-align: right;\n",
       "    }\n",
       "</style>\n",
       "<table border=\"1\" class=\"dataframe\">\n",
       "  <thead>\n",
       "    <tr style=\"text-align: right;\">\n",
       "      <th></th>\n",
       "      <th>ApplicantIncome</th>\n",
       "      <th>CoapplicantIncome</th>\n",
       "      <th>LoanAmount</th>\n",
       "      <th>Loan_Amount_Term</th>\n",
       "      <th>Credit_History</th>\n",
       "      <th>Gender_Female</th>\n",
       "      <th>Gender_Male</th>\n",
       "      <th>Married_No</th>\n",
       "      <th>Married_Yes</th>\n",
       "      <th>Dependents_0</th>\n",
       "      <th>Dependents_1</th>\n",
       "      <th>Dependents_2</th>\n",
       "      <th>Dependents_3+</th>\n",
       "      <th>Education_Graduate</th>\n",
       "      <th>Education_Not Graduate</th>\n",
       "      <th>Self_Employed_No</th>\n",
       "      <th>Self_Employed_Yes</th>\n",
       "      <th>Property_Area_Rural</th>\n",
       "      <th>Property_Area_Semiurban</th>\n",
       "      <th>Property_Area_Urban</th>\n",
       "    </tr>\n",
       "  </thead>\n",
       "  <tbody>\n",
       "    <tr>\n",
       "      <th>85</th>\n",
       "      <td>2366</td>\n",
       "      <td>2531.0</td>\n",
       "      <td>136.0</td>\n",
       "      <td>360.0</td>\n",
       "      <td>1.0</td>\n",
       "      <td>False</td>\n",
       "      <td>True</td>\n",
       "      <td>True</td>\n",
       "      <td>False</td>\n",
       "      <td>True</td>\n",
       "      <td>False</td>\n",
       "      <td>False</td>\n",
       "      <td>False</td>\n",
       "      <td>True</td>\n",
       "      <td>False</td>\n",
       "      <td>True</td>\n",
       "      <td>False</td>\n",
       "      <td>False</td>\n",
       "      <td>True</td>\n",
       "      <td>False</td>\n",
       "    </tr>\n",
       "  </tbody>\n",
       "</table>\n",
       "</div>"
      ],
      "text/plain": [
       "    ApplicantIncome  CoapplicantIncome  LoanAmount  Loan_Amount_Term  \\\n",
       "85             2366             2531.0       136.0             360.0   \n",
       "\n",
       "    Credit_History  Gender_Female  Gender_Male  Married_No  Married_Yes  \\\n",
       "85             1.0          False         True        True        False   \n",
       "\n",
       "    Dependents_0  Dependents_1  Dependents_2  Dependents_3+  \\\n",
       "85          True         False         False          False   \n",
       "\n",
       "    Education_Graduate  Education_Not Graduate  Self_Employed_No  \\\n",
       "85                True                   False              True   \n",
       "\n",
       "    Self_Employed_Yes  Property_Area_Rural  Property_Area_Semiurban  \\\n",
       "85              False                False                     True   \n",
       "\n",
       "    Property_Area_Urban  \n",
       "85                False  "
      ]
     },
     "execution_count": 38,
     "metadata": {},
     "output_type": "execute_result"
    }
   ],
   "source": [
    "new"
   ]
  },
  {
   "cell_type": "code",
   "execution_count": 39,
   "id": "f6f65d8a-1bab-43f6-b72f-065c94ac7176",
   "metadata": {},
   "outputs": [
    {
     "data": {
      "text/plain": [
       "array([[0.01974009, 0.98025991]])"
      ]
     },
     "execution_count": 39,
     "metadata": {},
     "output_type": "execute_result"
    }
   ],
   "source": [
    "risk_modeler.predict_proba(new)"
   ]
  },
  {
   "cell_type": "code",
   "execution_count": 40,
   "id": "645200e5-0473-4f07-a4c2-d86545849c9c",
   "metadata": {},
   "outputs": [
    {
     "data": {
      "text/plain": [
       "array(['N', 'Y'], dtype='<U1')"
      ]
     },
     "execution_count": 40,
     "metadata": {},
     "output_type": "execute_result"
    }
   ],
   "source": [
    "risk_modeler.classes_"
   ]
  },
  {
   "cell_type": "code",
   "execution_count": 59,
   "id": "6fa9e49f-9c16-4845-8a15-e89541842c02",
   "metadata": {},
   "outputs": [
    {
     "data": {
      "text/plain": [
       "array([[0.16987411, 0.83012589],\n",
       "       [0.00668451, 0.99331549],\n",
       "       [0.997924  , 0.002076  ],\n",
       "       [0.02087992, 0.97912008],\n",
       "       [0.12864698, 0.87135302]])"
      ]
     },
     "execution_count": 59,
     "metadata": {},
     "output_type": "execute_result"
    }
   ],
   "source": [
    "new = x_new.iloc[[167,305,238,48,226],:]\n",
    "risk_modeler.predict_proba(new)"
   ]
  },
  {
   "cell_type": "markdown",
   "id": "0e82ff49-11b7-40f9-9abe-72445e3ce375",
   "metadata": {},
   "source": [
    "#### Classification Dataset"
   ]
  },
  {
   "cell_type": "code",
   "execution_count": 61,
   "id": "1a84fc63-d8b3-4dbe-ad7d-d61d1556615d",
   "metadata": {},
   "outputs": [],
   "source": [
    "from sklearn.datasets import make_classification"
   ]
  },
  {
   "cell_type": "code",
   "execution_count": 64,
   "id": "1d12870c-58fd-4cab-a804-e4eef7d3bb77",
   "metadata": {},
   "outputs": [],
   "source": [
    "data = make_classification(n_samples=1000, n_features=10, \n",
    "                           n_classes=3, random_state=0, n_informative=3)"
   ]
  },
  {
   "cell_type": "code",
   "execution_count": 68,
   "id": "475188b1-2174-47c1-9e93-1990d99ae74e",
   "metadata": {},
   "outputs": [
    {
     "data": {
      "text/plain": [
       "(1000, 10)"
      ]
     },
     "execution_count": 68,
     "metadata": {},
     "output_type": "execute_result"
    }
   ],
   "source": [
    "data[0].shape"
   ]
  },
  {
   "cell_type": "code",
   "execution_count": 69,
   "id": "8ece2178-d54c-4958-a3f1-56782b64574a",
   "metadata": {},
   "outputs": [
    {
     "data": {
      "text/plain": [
       "(1000,)"
      ]
     },
     "execution_count": 69,
     "metadata": {},
     "output_type": "execute_result"
    }
   ],
   "source": [
    "data[1].shape"
   ]
  },
  {
   "cell_type": "code",
   "execution_count": 70,
   "id": "5f1ca8ab-854c-4eab-a43f-fbdfade1b4a0",
   "metadata": {},
   "outputs": [],
   "source": [
    "df = pd.DataFrame(data=data[0])"
   ]
  },
  {
   "cell_type": "code",
   "execution_count": 72,
   "id": "77482713-4d63-433d-9cdb-8c0b6a509f1d",
   "metadata": {},
   "outputs": [],
   "source": [
    "df['class'] = data[1]"
   ]
  },
  {
   "cell_type": "code",
   "execution_count": 73,
   "id": "730c22cc-7626-428f-80e7-10b60106ee14",
   "metadata": {},
   "outputs": [
    {
     "data": {
      "text/html": [
       "<div>\n",
       "<style scoped>\n",
       "    .dataframe tbody tr th:only-of-type {\n",
       "        vertical-align: middle;\n",
       "    }\n",
       "\n",
       "    .dataframe tbody tr th {\n",
       "        vertical-align: top;\n",
       "    }\n",
       "\n",
       "    .dataframe thead th {\n",
       "        text-align: right;\n",
       "    }\n",
       "</style>\n",
       "<table border=\"1\" class=\"dataframe\">\n",
       "  <thead>\n",
       "    <tr style=\"text-align: right;\">\n",
       "      <th></th>\n",
       "      <th>0</th>\n",
       "      <th>1</th>\n",
       "      <th>2</th>\n",
       "      <th>3</th>\n",
       "      <th>4</th>\n",
       "      <th>5</th>\n",
       "      <th>6</th>\n",
       "      <th>7</th>\n",
       "      <th>8</th>\n",
       "      <th>9</th>\n",
       "      <th>class</th>\n",
       "    </tr>\n",
       "  </thead>\n",
       "  <tbody>\n",
       "    <tr>\n",
       "      <th>0</th>\n",
       "      <td>0.819779</td>\n",
       "      <td>-1.209914</td>\n",
       "      <td>-0.722380</td>\n",
       "      <td>1.003950</td>\n",
       "      <td>-0.979971</td>\n",
       "      <td>0.863045</td>\n",
       "      <td>-1.305264</td>\n",
       "      <td>1.931509</td>\n",
       "      <td>-0.218147</td>\n",
       "      <td>1.052379</td>\n",
       "      <td>0</td>\n",
       "    </tr>\n",
       "    <tr>\n",
       "      <th>1</th>\n",
       "      <td>-0.079849</td>\n",
       "      <td>-1.332187</td>\n",
       "      <td>0.174223</td>\n",
       "      <td>0.362889</td>\n",
       "      <td>0.542220</td>\n",
       "      <td>0.609956</td>\n",
       "      <td>-1.394318</td>\n",
       "      <td>3.261326</td>\n",
       "      <td>0.436210</td>\n",
       "      <td>-0.284100</td>\n",
       "      <td>0</td>\n",
       "    </tr>\n",
       "    <tr>\n",
       "      <th>2</th>\n",
       "      <td>0.448398</td>\n",
       "      <td>1.467524</td>\n",
       "      <td>1.626891</td>\n",
       "      <td>1.487932</td>\n",
       "      <td>-0.093216</td>\n",
       "      <td>1.365850</td>\n",
       "      <td>0.904803</td>\n",
       "      <td>0.199811</td>\n",
       "      <td>1.066764</td>\n",
       "      <td>-1.343350</td>\n",
       "      <td>2</td>\n",
       "    </tr>\n",
       "    <tr>\n",
       "      <th>3</th>\n",
       "      <td>-1.188151</td>\n",
       "      <td>-0.976029</td>\n",
       "      <td>1.366291</td>\n",
       "      <td>-0.137204</td>\n",
       "      <td>-0.480942</td>\n",
       "      <td>0.711755</td>\n",
       "      <td>2.501837</td>\n",
       "      <td>-1.601705</td>\n",
       "      <td>1.693881</td>\n",
       "      <td>-2.300939</td>\n",
       "      <td>2</td>\n",
       "    </tr>\n",
       "    <tr>\n",
       "      <th>4</th>\n",
       "      <td>0.322170</td>\n",
       "      <td>-0.299055</td>\n",
       "      <td>0.229044</td>\n",
       "      <td>0.110691</td>\n",
       "      <td>-0.250154</td>\n",
       "      <td>1.725162</td>\n",
       "      <td>2.018810</td>\n",
       "      <td>-1.081597</td>\n",
       "      <td>1.487460</td>\n",
       "      <td>-2.044366</td>\n",
       "      <td>2</td>\n",
       "    </tr>\n",
       "    <tr>\n",
       "      <th>...</th>\n",
       "      <td>...</td>\n",
       "      <td>...</td>\n",
       "      <td>...</td>\n",
       "      <td>...</td>\n",
       "      <td>...</td>\n",
       "      <td>...</td>\n",
       "      <td>...</td>\n",
       "      <td>...</td>\n",
       "      <td>...</td>\n",
       "      <td>...</td>\n",
       "      <td>...</td>\n",
       "    </tr>\n",
       "    <tr>\n",
       "      <th>995</th>\n",
       "      <td>0.857132</td>\n",
       "      <td>-1.592681</td>\n",
       "      <td>-0.571533</td>\n",
       "      <td>0.205845</td>\n",
       "      <td>-2.089823</td>\n",
       "      <td>1.485980</td>\n",
       "      <td>1.145587</td>\n",
       "      <td>-1.272726</td>\n",
       "      <td>0.497331</td>\n",
       "      <td>0.070588</td>\n",
       "      <td>1</td>\n",
       "    </tr>\n",
       "    <tr>\n",
       "      <th>996</th>\n",
       "      <td>1.345835</td>\n",
       "      <td>0.449556</td>\n",
       "      <td>0.476607</td>\n",
       "      <td>0.363212</td>\n",
       "      <td>-0.031968</td>\n",
       "      <td>-0.933691</td>\n",
       "      <td>1.807801</td>\n",
       "      <td>-1.349057</td>\n",
       "      <td>1.105564</td>\n",
       "      <td>-1.679314</td>\n",
       "      <td>2</td>\n",
       "    </tr>\n",
       "    <tr>\n",
       "      <th>997</th>\n",
       "      <td>1.201039</td>\n",
       "      <td>-0.106445</td>\n",
       "      <td>0.640789</td>\n",
       "      <td>-2.166358</td>\n",
       "      <td>-0.549258</td>\n",
       "      <td>2.683211</td>\n",
       "      <td>1.355574</td>\n",
       "      <td>-0.975544</td>\n",
       "      <td>0.860544</td>\n",
       "      <td>-1.058197</td>\n",
       "      <td>2</td>\n",
       "    </tr>\n",
       "    <tr>\n",
       "      <th>998</th>\n",
       "      <td>-0.004350</td>\n",
       "      <td>1.735186</td>\n",
       "      <td>2.102210</td>\n",
       "      <td>-0.815035</td>\n",
       "      <td>0.324706</td>\n",
       "      <td>0.302458</td>\n",
       "      <td>0.870952</td>\n",
       "      <td>-1.102547</td>\n",
       "      <td>0.261084</td>\n",
       "      <td>-0.676430</td>\n",
       "      <td>2</td>\n",
       "    </tr>\n",
       "    <tr>\n",
       "      <th>999</th>\n",
       "      <td>-0.250030</td>\n",
       "      <td>-0.741401</td>\n",
       "      <td>1.340202</td>\n",
       "      <td>0.270954</td>\n",
       "      <td>-0.922960</td>\n",
       "      <td>-0.633890</td>\n",
       "      <td>2.011343</td>\n",
       "      <td>-1.032956</td>\n",
       "      <td>1.521482</td>\n",
       "      <td>-1.777991</td>\n",
       "      <td>2</td>\n",
       "    </tr>\n",
       "  </tbody>\n",
       "</table>\n",
       "<p>1000 rows × 11 columns</p>\n",
       "</div>"
      ],
      "text/plain": [
       "            0         1         2         3         4         5         6  \\\n",
       "0    0.819779 -1.209914 -0.722380  1.003950 -0.979971  0.863045 -1.305264   \n",
       "1   -0.079849 -1.332187  0.174223  0.362889  0.542220  0.609956 -1.394318   \n",
       "2    0.448398  1.467524  1.626891  1.487932 -0.093216  1.365850  0.904803   \n",
       "3   -1.188151 -0.976029  1.366291 -0.137204 -0.480942  0.711755  2.501837   \n",
       "4    0.322170 -0.299055  0.229044  0.110691 -0.250154  1.725162  2.018810   \n",
       "..        ...       ...       ...       ...       ...       ...       ...   \n",
       "995  0.857132 -1.592681 -0.571533  0.205845 -2.089823  1.485980  1.145587   \n",
       "996  1.345835  0.449556  0.476607  0.363212 -0.031968 -0.933691  1.807801   \n",
       "997  1.201039 -0.106445  0.640789 -2.166358 -0.549258  2.683211  1.355574   \n",
       "998 -0.004350  1.735186  2.102210 -0.815035  0.324706  0.302458  0.870952   \n",
       "999 -0.250030 -0.741401  1.340202  0.270954 -0.922960 -0.633890  2.011343   \n",
       "\n",
       "            7         8         9  class  \n",
       "0    1.931509 -0.218147  1.052379      0  \n",
       "1    3.261326  0.436210 -0.284100      0  \n",
       "2    0.199811  1.066764 -1.343350      2  \n",
       "3   -1.601705  1.693881 -2.300939      2  \n",
       "4   -1.081597  1.487460 -2.044366      2  \n",
       "..        ...       ...       ...    ...  \n",
       "995 -1.272726  0.497331  0.070588      1  \n",
       "996 -1.349057  1.105564 -1.679314      2  \n",
       "997 -0.975544  0.860544 -1.058197      2  \n",
       "998 -1.102547  0.261084 -0.676430      2  \n",
       "999 -1.032956  1.521482 -1.777991      2  \n",
       "\n",
       "[1000 rows x 11 columns]"
      ]
     },
     "execution_count": 73,
     "metadata": {},
     "output_type": "execute_result"
    }
   ],
   "source": [
    "df"
   ]
  },
  {
   "cell_type": "markdown",
   "id": "8fcb7edc-6bb8-4592-b12c-608c96c2356e",
   "metadata": {},
   "source": [
    "#### Regression Dataset"
   ]
  },
  {
   "cell_type": "code",
   "execution_count": 76,
   "id": "dc84c8c9-c1f5-4479-9225-efc25919eb8b",
   "metadata": {},
   "outputs": [],
   "source": [
    "from sklearn.datasets import make_regression"
   ]
  },
  {
   "cell_type": "code",
   "execution_count": 77,
   "id": "d63b19f1-2997-4f5f-a918-9220f69e7fcf",
   "metadata": {},
   "outputs": [],
   "source": [
    "reg_data = make_regression(n_samples=500, n_features=5)"
   ]
  },
  {
   "cell_type": "code",
   "execution_count": 79,
   "id": "d4af9245-72a9-4916-a574-b7d02d805543",
   "metadata": {},
   "outputs": [
    {
     "data": {
      "text/plain": [
       "(500, 5)"
      ]
     },
     "execution_count": 79,
     "metadata": {},
     "output_type": "execute_result"
    }
   ],
   "source": [
    "reg_data[0].shape"
   ]
  },
  {
   "cell_type": "code",
   "execution_count": 80,
   "id": "796368ad-3232-4085-8f8c-4b748a94536c",
   "metadata": {},
   "outputs": [
    {
     "data": {
      "text/plain": [
       "(500,)"
      ]
     },
     "execution_count": 80,
     "metadata": {},
     "output_type": "execute_result"
    }
   ],
   "source": [
    "reg_data[1].shape"
   ]
  },
  {
   "cell_type": "code",
   "execution_count": 81,
   "id": "7cb664ce-2683-45e6-b384-33d0c6461e16",
   "metadata": {},
   "outputs": [
    {
     "data": {
      "text/plain": [
       "array([-4.27284805e+01, -1.27042017e+02, -5.01658322e+01, -1.59352275e+02,\n",
       "        6.44033653e+00,  5.84354166e+01, -9.90126587e+01, -3.30403617e+01,\n",
       "        5.36491250e+01,  1.40276343e+02,  4.49119874e+01, -1.46352549e+01,\n",
       "        1.23878762e+01,  1.55069483e+02, -9.42252162e+01,  5.73208244e+01,\n",
       "        2.19748302e+01, -1.12263221e+02, -1.88126448e+02, -8.16793263e+01,\n",
       "        1.03426678e+02, -2.35238110e+01,  5.69184089e+01,  2.29163569e+02,\n",
       "       -1.81056694e+01,  2.97370561e+01,  5.75071853e+01, -1.22270733e+02,\n",
       "        1.88184092e+02, -5.37075796e+01,  1.39022870e+02,  7.43611599e+00,\n",
       "        3.02569609e+01,  2.11179098e+02,  2.61403924e+01, -1.70392210e+02,\n",
       "        1.97425688e+01, -1.97329032e+02, -1.47713254e+02,  7.96182442e+01,\n",
       "        7.77617080e+01,  6.81563636e+01, -1.44130518e+02, -2.71684140e+02,\n",
       "       -6.87052972e+01,  1.48819712e+02,  3.04547265e+02, -7.36430334e+01,\n",
       "        1.79819814e+02,  7.84444964e+01, -3.26215652e+02, -7.22324289e+00,\n",
       "        8.10346383e+01, -6.90602081e+01,  2.17980064e+01, -6.54612354e+01,\n",
       "       -2.32020351e+01,  2.20858445e+02,  6.84064096e+01,  1.11622700e+02,\n",
       "       -1.40861152e+00, -6.56933689e+01, -6.10799594e+01, -9.31838010e+01,\n",
       "        3.09203986e+02,  1.08927617e+02, -1.69672331e+02, -5.86207958e+01,\n",
       "       -8.86405331e+01,  1.01496883e+02,  1.27157144e+02, -3.25397699e+01,\n",
       "       -8.71049847e+01,  1.59422357e+02, -2.46102701e+02,  7.85236178e+01,\n",
       "        7.03711772e+01,  1.96491481e+02, -5.81006111e-01,  4.88646911e+01,\n",
       "       -6.15333049e+01, -8.62277468e+01, -1.97094731e+02, -1.90271426e+02,\n",
       "       -1.82047690e+01, -1.89033036e+02,  1.32733427e+02, -1.06462488e+02,\n",
       "       -1.70818950e+02, -1.61339161e+01,  9.06028487e+00,  8.84129750e+01,\n",
       "        1.07475344e+02, -1.34616350e+02,  1.56739602e+02,  1.97035590e+02,\n",
       "       -1.23948569e+02,  7.46774639e+01,  1.05012669e+02,  4.68733940e+01,\n",
       "       -1.51276801e+02, -1.67779833e+02, -1.10839270e+02, -4.97671943e+01,\n",
       "        1.62025655e-01,  6.49208682e+00, -3.06396802e+01,  2.37779341e+02,\n",
       "       -1.10929466e+02,  1.07146779e+01, -2.02077300e+02,  7.27150561e+01,\n",
       "        9.78076974e+01,  4.47821313e+01,  1.65220022e+02,  1.28632186e+02,\n",
       "        7.74308735e+00,  6.51305821e+01, -1.49752914e+02, -1.15601900e+02,\n",
       "       -5.42602118e+01, -4.90380173e+01,  1.53378195e+02,  6.50200107e+01,\n",
       "       -9.94832203e+01,  4.87188011e+01,  5.71757795e+01, -8.96800095e+01,\n",
       "       -1.67051577e+02, -1.40847213e+02, -1.25154168e+02,  6.58910282e+01,\n",
       "       -3.44836120e+01, -2.46490253e+02, -1.74160031e+02,  7.26374204e+01,\n",
       "       -6.26086157e+01, -1.56248069e+01, -1.27146436e+02,  1.83340358e+02,\n",
       "       -5.79364186e+01,  4.16745511e+01, -1.16061727e+02,  5.74991007e+01,\n",
       "        1.92233691e+02, -1.25594834e+02, -4.15879014e+01, -9.22632026e+01,\n",
       "       -1.68390234e+02, -2.97451085e+02, -2.04660682e+01,  1.04868368e+01,\n",
       "        6.65459778e+01, -1.49542133e+01,  5.03239308e+01, -3.22543545e+02,\n",
       "       -4.40876225e+01, -2.44849957e+02,  6.86597021e+01,  1.04357627e+01,\n",
       "        4.15276313e+01,  5.24232832e+01,  5.33952657e+01,  6.26546748e+01,\n",
       "       -1.99504920e+02,  7.31745450e+01, -2.89551306e+02,  1.39336851e+01,\n",
       "        1.31598629e+02,  3.75086660e+00, -1.11895263e+02,  2.17997149e+02,\n",
       "        2.24414768e+01, -1.33455558e+01, -6.96777008e+01, -2.45789713e+02,\n",
       "       -1.14015685e+02,  1.88723088e+02, -2.74977097e+01, -1.28662049e+02,\n",
       "       -1.26469209e+02,  3.22436873e+01, -1.95625612e+02,  7.64452692e+01,\n",
       "       -6.92602115e+01,  1.54564076e+02,  9.03480431e+01, -1.48830423e+02,\n",
       "        1.75390255e+02,  3.32905366e+01,  2.97721147e+01, -2.78535816e+02,\n",
       "        6.79976098e+01, -1.60178851e+02,  1.48536046e+01, -2.31624211e+01,\n",
       "       -6.28850137e+01, -5.72558019e+01, -2.02930200e+02, -8.11425797e+01,\n",
       "        2.63248759e+01, -1.73383761e+02, -1.31938658e+02,  1.67870288e+02,\n",
       "        7.95090788e+01, -1.07468650e+02, -1.64626151e+02, -1.50002199e+01,\n",
       "       -8.96805418e+01, -2.97531074e+02,  7.16567680e+01, -1.42409858e+02,\n",
       "        9.20131197e+01, -8.20209804e+01, -6.15190177e+01,  1.28849284e+02,\n",
       "        1.53211818e+01, -3.17835736e+01, -2.60905905e+02, -2.16748689e+01,\n",
       "        2.48716772e+01,  9.99119606e+01, -4.96031734e+01, -1.85027405e+02,\n",
       "        2.13868110e+02, -6.48817930e+01, -1.46596745e+01, -1.17926137e+02,\n",
       "        4.95027283e+01, -1.54354603e+02,  1.03069356e+02,  9.27843900e+01,\n",
       "        9.10837132e+01, -5.13830623e+01,  1.86181272e+01,  5.15269502e+01,\n",
       "       -1.61980492e+02, -6.56913765e+01, -1.47828513e+02, -8.64186711e+01,\n",
       "       -5.65515622e+00, -7.06574025e+01,  2.67072514e+01, -5.19018870e+01,\n",
       "        8.31302915e+01,  1.79937501e+01,  1.84581088e+02, -1.54334937e+02,\n",
       "        6.33640034e+00,  1.29068035e+02,  2.04665505e+02,  2.86546279e+02,\n",
       "       -1.20962119e+02, -2.70227610e+02,  1.73664746e+02,  2.17289220e+02,\n",
       "       -1.41915894e+02,  1.79518590e+02, -4.57596425e+01, -1.80641170e+02,\n",
       "        1.66835433e+01,  3.19542891e+01, -2.33490761e+01, -1.66803333e+02,\n",
       "       -2.95017351e+02, -2.35997202e+02, -1.86796188e+02, -1.17431964e+00,\n",
       "        2.30454445e+02,  1.67062530e+02, -5.00263172e+01,  2.66940838e+02,\n",
       "       -3.26171079e+02, -5.36677750e+01, -5.44637970e+01,  3.08623095e+01,\n",
       "        5.26148076e+02, -1.49173999e+01, -8.27898891e+01, -8.35411306e+00,\n",
       "       -2.69921507e+01, -9.75306682e+01,  2.18469403e+02,  2.96848645e+01,\n",
       "        3.96387584e+01,  1.77296108e+02, -5.74404223e+01, -6.62714996e+01,\n",
       "        1.48109205e+02,  2.78487318e+02,  2.82964791e+02,  4.24771801e+01,\n",
       "        3.29777216e+02, -1.26266765e+02,  2.54721352e+01, -1.11317945e+02,\n",
       "       -1.45662600e+02,  9.54707618e+01,  5.64863176e+01, -2.51835581e+00,\n",
       "        4.94209305e+01, -1.17578696e+02,  4.62675170e+01,  6.98175230e+01,\n",
       "       -8.57032507e+01, -1.90637780e+02, -1.51427207e+02, -1.42092543e+02,\n",
       "        2.29462481e+02,  5.27665590e+01, -2.74046383e+02,  6.80085642e+01,\n",
       "        9.76363679e+01,  3.62331724e+01, -6.01282324e+00, -4.64704416e+00,\n",
       "        8.98075044e+01, -2.95342788e+01,  1.80099556e+02,  3.54824037e+01,\n",
       "        3.00202827e+02, -8.42546594e+01, -3.60368869e+02,  5.34515065e+01,\n",
       "        1.58114528e+02,  9.75616180e+01,  2.93985846e+02,  1.41584297e+02,\n",
       "       -5.17572636e+01,  9.40987617e+01,  1.73052436e+01,  8.29680894e+01,\n",
       "       -1.20157227e+02, -2.59232509e+02, -1.55827927e+02,  2.36995426e+01,\n",
       "       -3.45861959e+02,  8.18107851e+00,  1.31983392e+01,  7.97795322e+01,\n",
       "       -9.12056159e+01,  2.89559004e+01,  1.87765859e+02,  9.00808905e+01,\n",
       "       -2.19299587e+01,  3.37622847e+02,  6.37962851e+01,  1.24905972e+02,\n",
       "       -1.17798885e+02, -7.45473443e+01, -9.35059345e+00, -7.38294949e+01,\n",
       "       -8.13046558e+01,  2.19253364e+02,  1.81883891e+01, -2.25955308e+02,\n",
       "        3.87542821e+01, -9.69554621e+01,  1.95700875e+02,  5.50989041e+01,\n",
       "        6.54895599e+01, -1.20200439e+02, -3.82740960e+01,  1.79083698e+02,\n",
       "        7.60995500e+01,  3.11181001e+02,  1.03690799e+02,  1.09064600e+02,\n",
       "       -6.20185495e+01,  2.92992512e+01,  2.88438076e+01, -4.11909535e+01,\n",
       "       -3.84532806e+01, -5.69922751e+01,  1.37445581e+02,  7.15480412e+01,\n",
       "        2.67977917e+02,  5.98211776e+01,  1.74412489e+02, -1.48076288e+02,\n",
       "        8.27100080e+00,  1.79305092e+02, -1.76506971e+02,  1.14553272e+02,\n",
       "        1.90106384e+02, -1.65857062e+02, -2.23760202e+00,  4.58837276e+01,\n",
       "        2.23858527e+02, -2.29794539e+02, -1.24383298e+02, -2.55933913e+01,\n",
       "       -1.73333931e+02,  2.43043282e+01, -5.48029902e+01,  1.34724493e+02,\n",
       "        1.26780603e+02,  4.38946711e+01, -4.52332816e+00,  3.63947033e+01,\n",
       "        6.99911412e+01,  1.06062447e+02, -2.08017416e+02,  2.85869011e+02,\n",
       "       -1.16657903e+02,  9.91044741e+01,  1.28343649e+02,  2.04243866e+01,\n",
       "        4.56234088e+01, -2.15342419e+02,  8.26374354e+01,  1.73147847e+02,\n",
       "        2.92874943e+02, -1.38152944e+02,  1.85922079e+02, -1.96539801e+02,\n",
       "        1.68566317e+02,  1.86384002e+02,  1.29573491e+02,  1.13620060e+02,\n",
       "       -1.10677938e+01, -1.22377731e+01,  8.82766144e+01,  2.65818492e+02,\n",
       "       -1.89348229e+02, -1.31040098e+02, -9.76691686e+01, -1.34999029e+02,\n",
       "        1.99064915e+02,  1.12730144e+02,  2.16902072e+02,  8.18853040e+01,\n",
       "        8.96271191e+01,  7.84249135e+01,  1.31006062e+02,  1.12957095e+02,\n",
       "       -3.25048659e+00,  2.00862348e+00,  1.22367640e+02,  1.78435092e+02,\n",
       "       -5.62558899e+01, -1.53753379e+02, -1.89516946e+02, -1.84349492e+02,\n",
       "       -5.05039515e+00, -3.17187296e+01,  1.22478701e+02,  1.88877198e+02,\n",
       "       -8.31583028e+01, -7.19841649e+01, -7.31950517e+01,  2.51512075e+02,\n",
       "       -1.14786689e+02,  2.40934849e+02, -6.37375779e+01, -1.98849868e+02,\n",
       "        1.69852441e+02, -5.13206446e+01, -1.16566027e+02, -1.05125063e+02,\n",
       "       -1.33158873e+02,  1.83956893e+02, -3.15504939e+02,  2.38504747e+02,\n",
       "        2.51458113e+01, -1.55932258e+02, -9.69766200e+01, -1.03621532e+02,\n",
       "       -6.31240141e+01, -2.18277215e+02,  2.12650693e+02,  3.19265067e+02,\n",
       "       -1.40688624e+02, -8.09177495e+01, -1.94134716e+02, -4.37250558e+01,\n",
       "        7.24705632e+00, -5.82518202e+01,  3.52649408e+01,  1.91547041e+02,\n",
       "        1.20467189e+02,  1.18907429e+02, -3.99960181e+01,  1.98534573e+02,\n",
       "       -7.46241520e+01, -2.39673882e+02, -2.34980967e+02,  3.27786064e+01,\n",
       "        1.66384228e+01,  4.94370723e+00, -8.59507021e+01,  3.13304014e+01,\n",
       "        5.17527228e+00, -1.22416066e+02, -1.13626184e+02, -1.05212436e+02,\n",
       "       -7.75658822e+01,  2.22740070e+02,  3.17732301e+02, -3.06050047e+01])"
      ]
     },
     "execution_count": 81,
     "metadata": {},
     "output_type": "execute_result"
    }
   ],
   "source": [
    "reg_data[1]"
   ]
  },
  {
   "cell_type": "markdown",
   "id": "a1a36f60-f693-4db4-bd74-813607e308bd",
   "metadata": {},
   "source": [
    "#### Creating clustering dataset"
   ]
  },
  {
   "cell_type": "code",
   "execution_count": 83,
   "id": "c7185ba0-210f-4d39-968f-2efc43f115f4",
   "metadata": {},
   "outputs": [],
   "source": [
    "from sklearn.datasets import make_blobs"
   ]
  },
  {
   "cell_type": "code",
   "execution_count": 84,
   "id": "eb23fa6f-ad9d-4e2e-8594-90c46b53864f",
   "metadata": {},
   "outputs": [],
   "source": [
    "data_clu = make_blobs(n_samples=700, n_features=6)"
   ]
  },
  {
   "cell_type": "code",
   "execution_count": 86,
   "id": "42e1fb78-d84b-4779-8d98-8b3c4d5086d7",
   "metadata": {},
   "outputs": [
    {
     "data": {
      "text/plain": [
       "(700, 6)"
      ]
     },
     "execution_count": 86,
     "metadata": {},
     "output_type": "execute_result"
    }
   ],
   "source": [
    "data_clu[0].shape"
   ]
  },
  {
   "cell_type": "code",
   "execution_count": 87,
   "id": "4f159ee5-4c80-4779-94f3-f8673f19b274",
   "metadata": {},
   "outputs": [
    {
     "data": {
      "text/plain": [
       "(700,)"
      ]
     },
     "execution_count": 87,
     "metadata": {},
     "output_type": "execute_result"
    }
   ],
   "source": [
    "data_clu[1].shape"
   ]
  },
  {
   "cell_type": "markdown",
   "id": "0d3f724c-e5ee-4518-90ef-4d7d84250f2a",
   "metadata": {},
   "source": [
    "##### Generate the data with standard normal distribution"
   ]
  },
  {
   "cell_type": "code",
   "execution_count": 90,
   "id": "24027cf8-2e90-443a-a96a-265b852cde44",
   "metadata": {},
   "outputs": [],
   "source": [
    "#scipy.stats.norm.rvs"
   ]
  },
  {
   "cell_type": "code",
   "execution_count": 91,
   "id": "15b8c94c-5a52-4581-a5bb-0bbe3fbd0089",
   "metadata": {},
   "outputs": [],
   "source": [
    "from scipy.stats import norm"
   ]
  },
  {
   "cell_type": "code",
   "execution_count": 92,
   "id": "5b2b5fa6-befa-422c-bbe9-94c2efc74aa4",
   "metadata": {},
   "outputs": [],
   "source": [
    "# The following code shows how to generate 100 random samples\n",
    "# from a normal distribution with mean 0 and standard deviation 1:"
   ]
  },
  {
   "cell_type": "code",
   "execution_count": 97,
   "id": "950feb10-c9e6-4f9e-bd2d-7a0688e720a1",
   "metadata": {},
   "outputs": [],
   "source": [
    "samples = norm.rvs(loc=0, scale=1, size=100)"
   ]
  },
  {
   "cell_type": "code",
   "execution_count": 98,
   "id": "5fcec416-3b0e-4d59-80d3-337b921254d0",
   "metadata": {},
   "outputs": [
    {
     "data": {
      "text/plain": [
       "array([-0.97884397,  0.53889366,  0.35416338,  0.25999416, -0.38432563,\n",
       "       -1.78537703,  0.711669  ,  0.29148922, -1.97433477,  0.69571942,\n",
       "       -0.10683107, -2.19673578, -2.2006872 , -0.23990806, -0.81657883,\n",
       "        0.15689832,  0.5005226 ,  0.22694438, -0.65471036, -1.59188567,\n",
       "       -0.04079352,  1.89320698, -0.82690829, -0.15926755,  1.61231274,\n",
       "       -0.94312506, -1.45665811,  0.9904374 , -0.13422702,  0.70906409,\n",
       "       -0.33757653, -0.97180583,  0.40140897,  0.01678804, -0.09800423,\n",
       "       -0.61338979, -1.32067271,  1.39093534, -2.08871415, -0.30099656,\n",
       "       -0.02756732,  0.52553819,  2.09012604,  0.37752721, -1.29823909,\n",
       "       -2.57530765,  0.61791632,  0.89304846, -0.94637172,  1.75225072,\n",
       "       -1.98540442,  0.04713444,  0.61564692, -0.81652061, -0.15998356,\n",
       "       -1.45587587, -1.56358625, -0.78692846, -0.78734959,  1.07453716,\n",
       "        1.15325692,  0.06392734,  1.56753874,  1.63779344,  0.28168068,\n",
       "        0.88259375,  0.21974978, -0.51158488,  1.18574939, -1.24347735,\n",
       "       -0.12132979,  0.87628104,  1.07804205, -0.19095056, -0.17454069,\n",
       "        0.3953958 , -1.08724572, -0.75523981,  0.21237611,  0.8351386 ,\n",
       "        0.3142218 ,  0.91950104,  0.16318412, -0.10641875, -1.20460188,\n",
       "       -0.09752879,  0.87138395,  0.63268199, -1.3590583 ,  0.60043454,\n",
       "        2.13451767,  1.03709407, -0.37494535,  0.16417924,  1.6633065 ,\n",
       "        0.48907816, -0.03207976,  0.03038481,  1.54332336,  0.55354942])"
      ]
     },
     "execution_count": 98,
     "metadata": {},
     "output_type": "execute_result"
    }
   ],
   "source": [
    "samples"
   ]
  },
  {
   "cell_type": "code",
   "execution_count": 99,
   "id": "bf6ff799-e596-4c4c-981e-1df36ce58204",
   "metadata": {},
   "outputs": [
    {
     "data": {
      "text/plain": [
       "-0.01633956418422506"
      ]
     },
     "execution_count": 99,
     "metadata": {},
     "output_type": "execute_result"
    }
   ],
   "source": [
    "samples.mean()"
   ]
  },
  {
   "cell_type": "code",
   "execution_count": 100,
   "id": "a0e45f99-a4c4-4626-b2e2-808bc4643310",
   "metadata": {},
   "outputs": [
    {
     "data": {
      "text/plain": [
       "1.0360987602594904"
      ]
     },
     "execution_count": 100,
     "metadata": {},
     "output_type": "execute_result"
    }
   ],
   "source": [
    "samples.std()"
   ]
  },
  {
   "cell_type": "code",
   "execution_count": 101,
   "id": "30c1ef03-9318-4ec7-b5a8-7567e21eaab6",
   "metadata": {},
   "outputs": [
    {
     "data": {
      "text/plain": [
       "<Axes: ylabel='Density'>"
      ]
     },
     "execution_count": 101,
     "metadata": {},
     "output_type": "execute_result"
    },
    {
     "data": {
      "image/png": "[encoded data removed]",
      "text/plain": [
       "<Figure size 640x480 with 1 Axes>"
      ]
     },
     "metadata": {},
     "output_type": "display_data"
    }
   ],
   "source": [
    "sns.kdeplot(samples)"
   ]
  },
  {
   "cell_type": "code",
   "execution_count": 103,
   "id": "127b20b2-fe21-4d5f-94ec-4a77490eb975",
   "metadata": {},
   "outputs": [
    {
     "data": {
      "text/plain": [
       "(-2.5753076515449256, 2.134517672360318)"
      ]
     },
     "execution_count": 103,
     "metadata": {},
     "output_type": "execute_result"
    }
   ],
   "source": [
    "samples.min(), samples.max()"
   ]
  },
  {
   "cell_type": "markdown",
   "id": "76ff0d6e-7af8-4e8d-a9c0-0d506aac7dcc",
   "metadata": {},
   "source": [
    "##### Generate data with poisson distribution"
   ]
  },
  {
   "cell_type": "code",
   "execution_count": 105,
   "id": "e688e6f8-b14f-4e47-a631-606d4ab3dba0",
   "metadata": {},
   "outputs": [],
   "source": [
    "from scipy.stats import poisson"
   ]
  },
  {
   "cell_type": "code",
   "execution_count": 106,
   "id": "a1a9a113-0ca3-4a40-b199-544cad69974d",
   "metadata": {},
   "outputs": [],
   "source": [
    "# Set the mean number of customers per hour.\n",
    "mean_customers_per_hour = 5"
   ]
  },
  {
   "cell_type": "code",
   "execution_count": 122,
   "id": "b9eeb8d1-23e3-4ef7-81f2-a860317718f1",
   "metadata": {},
   "outputs": [],
   "source": [
    "# Generate a random sample of the number of customers that\n",
    "# arrive at the store in one hour.\n",
    "number_of_customers = poisson.rvs(mean_customers_per_hour, size=1)"
   ]
  },
  {
   "cell_type": "code",
   "execution_count": 123,
   "id": "1cad296e-7155-4846-9fa0-d373e4103852",
   "metadata": {},
   "outputs": [
    {
     "name": "stdout",
     "output_type": "stream",
     "text": [
      "[5]\n"
     ]
    }
   ],
   "source": [
    "# Print the number of customers.\n",
    "print(number_of_customers)"
   ]
  },
  {
   "cell_type": "code",
   "execution_count": 127,
   "id": "306452ed-db45-4e06-9888-a357c85c8738",
   "metadata": {},
   "outputs": [],
   "source": [
    "custs = []\n",
    "for n in range(1000):\n",
    "    number_of_customers = poisson.rvs(mean_customers_per_hour, size=1)\n",
    "    custs.append(number_of_customers[0])"
   ]
  },
  {
   "cell_type": "code",
   "execution_count": 128,
   "id": "f0bb923c-923c-4568-b8ab-0bf94d6e47db",
   "metadata": {},
   "outputs": [
    {
     "data": {
      "text/plain": [
       "5.091"
      ]
     },
     "execution_count": 128,
     "metadata": {},
     "output_type": "execute_result"
    }
   ],
   "source": [
    "sum(custs) / len(custs)"
   ]
  },
  {
   "cell_type": "code",
   "execution_count": 129,
   "id": "86d85409-88da-41e1-bd3c-bd146ab4e461",
   "metadata": {},
   "outputs": [
    {
     "data": {
      "text/plain": [
       "<Axes: ylabel='Density'>"
      ]
     },
     "execution_count": 129,
     "metadata": {},
     "output_type": "execute_result"
    },
    {
     "data": {
      "image/png": "[encoded data removed]",
      "text/plain": [
       "<Figure size 640x480 with 1 Axes>"
      ]
     },
     "metadata": {},
     "output_type": "display_data"
    }
   ],
   "source": [
    "sns.kdeplot(custs)"
   ]
  },
  {
   "cell_type": "code",
   "execution_count": null,
   "id": "e17e44d7-7f29-4649-a5bf-05072e14d333",
   "metadata": {},
   "outputs": [],
   "source": []
  }
 ],
 "metadata": {
  "kernelspec": {
   "display_name": "Python 3 (ipykernel)",
   "language": "python",
   "name": "python3"
  },
  "language_info": {
   "codemirror_mode": {
    "name": "ipython",
    "version": 3
   },
   "file_extension": ".py",
   "mimetype": "text/x-python",
   "name": "python",
   "nbconvert_exporter": "python",
   "pygments_lexer": "ipython3",
   "version": "3.10.12"
  }
 },
 "nbformat": 4,
 "nbformat_minor": 5
}
